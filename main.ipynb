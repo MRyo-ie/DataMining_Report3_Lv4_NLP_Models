{
  "nbformat": 4,
  "nbformat_minor": 0,
  "metadata": {
    "colab": {
      "name": "main.ipynb",
      "provenance": [],
      "collapsed_sections": [],
      "toc_visible": true,
      "include_colab_link": true
    },
    "kernelspec": {
      "name": "python3",
      "display_name": "Python 3"
    },
    "accelerator": "GPU"
  },
  "cells": [
    {
      "cell_type": "markdown",
      "metadata": {
        "id": "view-in-github",
        "colab_type": "text"
      },
      "source": [
        "<a href=\"https://colab.research.google.com/github/MRyo-ie/DataMining_Report3_Lv4_NLP_Models/blob/master/main.ipynb\" target=\"_parent\"><img src=\"https://colab.research.google.com/assets/colab-badge.svg\" alt=\"Open In Colab\"/></a>"
      ]
    },
    {
      "cell_type": "markdown",
      "metadata": {
        "id": "ytKWwxITuiOK",
        "colab_type": "text"
      },
      "source": [
        "# Report3"
      ]
    },
    {
      "cell_type": "markdown",
      "metadata": {
        "id": "Jv_tdY_kpkwW",
        "colab_type": "text"
      },
      "source": [
        "## Level 4: 文書分類せよ。\n"
      ]
    },
    {
      "cell_type": "code",
      "metadata": {
        "id": "xQI8s3RxSO36",
        "colab_type": "code",
        "colab": {
          "base_uri": "https://localhost:8080/",
          "height": 33
        },
        "outputId": "0faa71b0-1c27-44e7-a64d-e39cec0e89c8"
      },
      "source": [
        "# 自分の Google Drive をマウント\n",
        "# https://qiita.com/uni-3/items/201aaa2708260cc790b8#drive内のディレクトリをマウントする220180920\n",
        "from google.colab import drive\n",
        "import os\n",
        "drive.mount('/content/gdrive')\n",
        "\n",
        "#@markdown ### GitHubリポジトリをcloneして保存するパス （Google Drive上）\n",
        "REPOSITORY_ROOT_DIR = 'Colab Notebooks/learning/old_nlp_techs' #@param {type: \"string\"}"
      ],
      "execution_count": 1,
      "outputs": [
        {
          "output_type": "stream",
          "text": [
            "Drive already mounted at /content/gdrive; to attempt to forcibly remount, call drive.mount(\"/content/gdrive\", force_remount=True).\n"
          ],
          "name": "stdout"
        }
      ]
    },
    {
      "cell_type": "markdown",
      "metadata": {
        "id": "QMga8fELbUHX",
        "colab_type": "text"
      },
      "source": [
        "### << 実行手順 >>\n",
        "\n",
        "1.  ↑ の、このボタンを押す　→　　![Open In Colab](https://colab.research.google.com/assets/colab-badge.svg)\n",
        "\n",
        "1. ↖︎（左上）のどこかに「ドライブに保存」があるので、それをクリックして、  \n",
        "  自分の Google Drive にこのファイルをコピーする。\n",
        "\n",
        "1. ↑ の変数を設定する。\n",
        "  - GitHub リポジトリをクローンする場所（GoogleDrive上の好きな場所）のパスを入力。\n",
        "\n",
        "1. 実行。  \n",
        "  - ↑で GoogleDrive をマウントするので、（英語の）指示に従って、  \n",
        "    「ログイン」→「パスコードをコピー」→「四角枠に貼り付けしてEnter」\n",
        "\n",
        "1. 後は勝手に実行してくれるはず"
      ]
    },
    {
      "cell_type": "markdown",
      "metadata": {
        "id": "dd7zfCZH2YJ-",
        "colab_type": "text"
      },
      "source": [
        "### 【準備】 パスなどの設定"
      ]
    },
    {
      "cell_type": "code",
      "metadata": {
        "colab_type": "code",
        "id": "cefTwUbsegWV",
        "colab": {
          "base_uri": "https://localhost:8080/",
          "height": 183
        },
        "outputId": "c20bf1d0-2b36-4ad6-c88e-dc128e0decee"
      },
      "source": [
        "REPOSITORY_URL = 'https://github.com/MRyo-ie/DataMining_Report3_Lv4_NLP_Models.git'\n",
        "DATA_DL_URL = \"https://www.rondhuit.com/download/ldcc-20140209.tar.gz\"\n",
        "GDRIVE_ROOT = '/content/gdrive/My Drive/'\n",
        "REPO_PATH = os.path.join(GDRIVE_ROOT, REPOSITORY_ROOT_DIR, REPOSITORY_URL.split('/')[-1][:-4])\n",
        "\n",
        "# よく使うパス\n",
        "DATA_DIR = os.path.join(REPO_PATH, 'datas', 'articles_livedoor')\n",
        "TMP_DIR = os.path.join(DATA_DIR, 'tmp')\n",
        "FILE_PATH = os.path.join(DATA_DIR, 'tmp', DATA_DL_URL.split('/')[-1])\n",
        "\n",
        "print(\"\"\"\n",
        "------------------------------------------------\n",
        "<<<  パス一覧  >>>\n",
        "REPO_PATH = {}\n",
        "\n",
        "DATA_DL_URL = {}\n",
        "DATA_DIR = {}\n",
        "TMP_DIR = {}\n",
        "FILE_PATH = {}\n",
        "------------------------------------------------\"\"\".format(REPO_PATH, DATA_DL_URL, DATA_DIR, TMP_DIR, FILE_PATH))"
      ],
      "execution_count": 2,
      "outputs": [
        {
          "output_type": "stream",
          "text": [
            "\n",
            "------------------------------------------------\n",
            "<<<  パス一覧  >>>\n",
            "REPO_PATH = /content/gdrive/My Drive/Colab Notebooks/learning/old_nlp_techs/DataMining_Report3_Lv4_NLP_Models\n",
            "\n",
            "DATA_DL_URL = https://www.rondhuit.com/download/ldcc-20140209.tar.gz\n",
            "DATA_DIR = /content/gdrive/My Drive/Colab Notebooks/learning/old_nlp_techs/DataMining_Report3_Lv4_NLP_Models/datas/articles_livedoor\n",
            "TMP_DIR = /content/gdrive/My Drive/Colab Notebooks/learning/old_nlp_techs/DataMining_Report3_Lv4_NLP_Models/datas/articles_livedoor/tmp\n",
            "FILE_PATH = /content/gdrive/My Drive/Colab Notebooks/learning/old_nlp_techs/DataMining_Report3_Lv4_NLP_Models/datas/articles_livedoor/tmp/ldcc-20140209.tar.gz\n",
            "------------------------------------------------\n"
          ],
          "name": "stdout"
        }
      ]
    },
    {
      "cell_type": "markdown",
      "metadata": {
        "id": "lxpwrBz9zeyv",
        "colab_type": "text"
      },
      "source": [
        "### 【準備】 GitHub clone"
      ]
    },
    {
      "cell_type": "code",
      "metadata": {
        "id": "7FAttiRhmUa3",
        "colab_type": "code",
        "colab": {}
      },
      "source": [
        "if not os.path.exists(REPO_PATH):\n",
        "    repo_parent_path = os.path.join(GDRIVE_ROOT, REPOSITORY_ROOT_DIR)\n",
        "    %cd  \"$repo_parent_path\"\n",
        "    !git clone \"$REPOSITORY_URL\"  \"$REPO_PATH\"\n",
        "    %cd \"$REPO_PATH\"\n",
        "# else:\n",
        "#     # pull -f （と同じ意味のコマンド）\n",
        "#     %cd \"$REPO_PATH\"\n",
        "#     # 最新の状態に更新（強制）\n",
        "#     ! git fetch origin master\n",
        "#     ! git reset --hard origin/master"
      ],
      "execution_count": 0,
      "outputs": []
    },
    {
      "cell_type": "markdown",
      "metadata": {
        "colab_type": "text",
        "id": "aZTAWBqnXR45"
      },
      "source": [
        "### 【準備】 データ\n",
        "今回は livedoor の記事データセットを使用。\n"
      ]
    },
    {
      "cell_type": "code",
      "metadata": {
        "colab_type": "code",
        "id": "906T09c6azyW",
        "colab": {}
      },
      "source": [
        "import configparser\n",
        "import glob\n",
        "import os, sys\n",
        "import pandas as pd\n",
        "import subprocess\n",
        "import tarfile\n",
        "from tqdm import tqdm\n",
        "from urllib.request import urlretrieve"
      ],
      "execution_count": 0,
      "outputs": []
    },
    {
      "cell_type": "markdown",
      "metadata": {
        "id": "hGvxmrZk6NZ6",
        "colab_type": "text"
      },
      "source": [
        "#### DL& 読み込み"
      ]
    },
    {
      "cell_type": "code",
      "metadata": {
        "colab_type": "code",
        "id": "aJ4AQJNQeaxT",
        "colab": {}
      },
      "source": [
        "# !mkdir -p  \"$TMP_DIR\"\n",
        "# %cd  \"$TMP_DIR\"\n",
        "\n",
        "# if not os.path.exists(FILE_PATH):\n",
        "#     ! wget  \"$DATA_DL_URL\"\n",
        "# # 時間かかる。\n",
        "# !tar  -zxvf   'ldcc-20140209.tar.gz'\n",
        "# !ls"
      ],
      "execution_count": 0,
      "outputs": []
    },
    {
      "cell_type": "code",
      "metadata": {
        "colab_type": "code",
        "id": "LU0ddAwymB21",
        "colab": {
          "base_uri": "https://localhost:8080/",
          "height": 166
        },
        "outputId": "d97668ce-8bc7-4dc9-ed11-372b2de441df"
      },
      "source": [
        "categories = [ \n",
        "    name for name \n",
        "    in os.listdir( os.path.join(TMP_DIR, \"text\") ) \n",
        "    if os.path.isdir( os.path.join(TMP_DIR, \"text\", name) ) ]\n",
        "\n",
        "categories = sorted(categories)\n",
        "categories"
      ],
      "execution_count": 6,
      "outputs": [
        {
          "output_type": "execute_result",
          "data": {
            "text/plain": [
              "['dokujo-tsushin',\n",
              " 'it-life-hack',\n",
              " 'kaden-channel',\n",
              " 'livedoor-homme',\n",
              " 'movie-enter',\n",
              " 'peachy',\n",
              " 'smax',\n",
              " 'sports-watch',\n",
              " 'topic-news']"
            ]
          },
          "metadata": {
            "tags": []
          },
          "execution_count": 6
        }
      ]
    },
    {
      "cell_type": "markdown",
      "metadata": {
        "colab_type": "text",
        "id": "UY_enZFuWDYV"
      },
      "source": [
        "#### データの抽出・整備\n",
        "\n"
      ]
    },
    {
      "cell_type": "markdown",
      "metadata": {
        "colab_type": "text",
        "id": "VzwBKkN5X_k_"
      },
      "source": [
        "- ラベル（記事の種類）一覧"
      ]
    },
    {
      "cell_type": "code",
      "metadata": {
        "colab_type": "code",
        "id": "9XROrL41mHON",
        "colab": {
          "base_uri": "https://localhost:8080/",
          "height": 33
        },
        "outputId": "c796053a-dce9-4d89-ab29-f272ee3458f6"
      },
      "source": [
        "table = str.maketrans({\n",
        "    '\\n': '',\n",
        "    '\\t': '　',\n",
        "    '\\r': '',\n",
        "})\n",
        "\n",
        "def extract_txt(filename):\n",
        "    with open(filename) as text_file:\n",
        "        # 0: URL, 1: timestamp\n",
        "        text = text_file.readlines()[2:]\n",
        "        text = [sentence.strip() for sentence in text]\n",
        "        text = list(filter(lambda line: line != '', text))\n",
        "        return ''.join(text)\n",
        "\n",
        "%cd  \"$TMP_DIR/\""
      ],
      "execution_count": 7,
      "outputs": [
        {
          "output_type": "stream",
          "text": [
            "/content/gdrive/My Drive/Colab Notebooks/learning/old_nlp_techs/DataMining_Report3_Lv4_NLP_Models/datas/articles_livedoor/tmp\n"
          ],
          "name": "stdout"
        }
      ]
    },
    {
      "cell_type": "code",
      "metadata": {
        "colab_type": "code",
        "id": "uwWtI1oLmLoL",
        "colab": {
          "base_uri": "https://localhost:8080/",
          "height": 33
        },
        "outputId": "8e622087-c0a4-4b64-8e75-96d53b9c21e1"
      },
      "source": [
        "%cd  \"$TMP_DIR/\"\n",
        "\n",
        "# 割と時間かかる。（ので、データを保存したら、２回目以降は実行しないようにした）\n",
        "if not os.path.exists(os.path.join(TMP_DIR, 'extracts', \"train.tsv\")):\n",
        "    all_text = []\n",
        "    all_label = []\n",
        "    for cat in tqdm(categories):\n",
        "        files = glob.glob(os.path.join(\"text\", cat, \"{}*.txt\".format(cat)))\n",
        "        files = sorted(files)\n",
        "        body = [ extract_txt(elem).translate(table) for elem in files ]\n",
        "        label = [cat] * len(body)\n",
        "        \n",
        "        all_text.extend(body)\n",
        "        all_label.extend(label)\n",
        "\n",
        "    df = pd.DataFrame({'text' : all_text, 'label' : all_label})\n",
        "    print(df.head())\n",
        "    df = df.sample(frac=1, random_state=23).reset_index(drop=True)\n",
        "    print(df.head())"
      ],
      "execution_count": 8,
      "outputs": [
        {
          "output_type": "stream",
          "text": [
            "/content/gdrive/My Drive/Colab Notebooks/learning/old_nlp_techs/DataMining_Report3_Lv4_NLP_Models/datas/articles_livedoor/tmp\n"
          ],
          "name": "stdout"
        }
      ]
    },
    {
      "cell_type": "markdown",
      "metadata": {
        "colab_type": "text",
        "id": "Xdt92AsGYMqV"
      },
      "source": [
        "#### ファイルに保存 (機械学習モデル用)"
      ]
    },
    {
      "cell_type": "code",
      "metadata": {
        "id": "DyzhSfaSKvEM",
        "colab_type": "code",
        "colab": {}
      },
      "source": [
        "## Sentence Piece\n",
        "SP_MODEL_DIR = os.path.join(REPO_PATH, 'models', 'Tokenizer', 'SentencePiece')\n",
        "\n",
        "extract_dir = os.path.join(TMP_DIR, 'extracts')\n",
        "SentencePiece_train_dir = os.path.join(SP_MODEL_DIR, 'tmp')\n",
        "if not os.path.exists(os.path.join(SP_MODEL_DIR, 'tmp')):\n",
        "    ! mkdir  \"$extract_dir\"\n",
        "    ! mkdir  \"$SentencePiece_train_dir\"\n",
        "\n",
        "dpaths = {\n",
        "    'test' : os.path.join(extract_dir, \"test.tsv\"),\n",
        "    'val' : os.path.join(extract_dir, \"val.tsv\"),\n",
        "    'train' : os.path.join(extract_dir, \"train.tsv\"),\n",
        "}"
      ],
      "execution_count": 0,
      "outputs": []
    },
    {
      "cell_type": "code",
      "metadata": {
        "colab_type": "code",
        "id": "2ruzfKDRmWZ7",
        "colab": {}
      },
      "source": [
        "if not os.path.exists(os.path.join(SentencePiece_train_dir, \"train.txt\")):\n",
        "    # Sentence Piece 用の raw text データを作成\n",
        "    df.to_csv( os.path.join(SentencePiece_train_dir, \"train.txt\"), sep=' ', index=False, header=False, columns=['text'] )\n",
        "    ! head -3  \"$SentencePiece_train_dir\"/train.txt\n",
        "\n",
        "if not os.path.exists(dpaths['train']):\n",
        "    # 言語モデル用の train, test, dev データファイルを作成\n",
        "    df[:len(df) // 5].to_csv( dpaths['test'], sep='\\t', index=False )\n",
        "    df[len(df) // 5:len(df)*2 // 5].to_csv( dpaths['val'], sep='\\t', index=False )\n",
        "    df[len(df)*2 // 5:].to_csv( dpaths['train'], sep='\\t', index=False )\n",
        "    P = dpaths['test']\n",
        "    ! head -3  \"$P\""
      ],
      "execution_count": 0,
      "outputs": []
    },
    {
      "cell_type": "markdown",
      "metadata": {
        "id": "WGkG5gbTCNss",
        "colab_type": "text"
      },
      "source": [
        "### Layer1 : 分かち書き（Tokenize）\n",
        "- 今回は **Sentence Piece** を使ってみる。  \n",
        "  https://www.madopro.net/entry/sentencepiece_rnn_lm\n",
        "- 一番上の２つを実行すれば、あとはここからでOK"
      ]
    },
    {
      "cell_type": "code",
      "metadata": {
        "id": "7bWaFwHS-UZg",
        "colab_type": "code",
        "colab": {}
      },
      "source": [
        "# モデル関連のパス\n",
        "## Sentence Piece\n",
        "SP_MODEL_DIR = os.path.join(REPO_PATH, 'models', 'Tokenizer', 'SentencePiece')\n",
        "LANGUAGE_ROOT_DIR = os.path.join(REPO_PATH, 'models', 'LanguageModel')\n",
        "\n",
        "extract_dir = os.path.join(TMP_DIR, 'extracts')\n",
        "SentencePiece_train_dir = os.path.join(SP_MODEL_DIR, 'tmp')\n",
        "\n",
        "dpaths = {\n",
        "    'test' : os.path.join(extract_dir, \"test.tsv\"),\n",
        "    'val' : os.path.join(extract_dir, \"val.tsv\"),\n",
        "    'train' : os.path.join(extract_dir, \"train.tsv\"),\n",
        "}"
      ],
      "execution_count": 0,
      "outputs": []
    },
    {
      "cell_type": "code",
      "metadata": {
        "id": "6G5tiI7wDmm0",
        "colab_type": "code",
        "colab": {
          "base_uri": "https://localhost:8080/",
          "height": 33
        },
        "outputId": "57098660-ca0f-457d-e6a6-9d721e803f79"
      },
      "source": [
        "! pip install sentencepiece"
      ],
      "execution_count": 12,
      "outputs": [
        {
          "output_type": "stream",
          "text": [
            "Requirement already satisfied: sentencepiece in /usr/local/lib/python3.6/dist-packages (0.1.83)\n"
          ],
          "name": "stdout"
        }
      ]
    },
    {
      "cell_type": "code",
      "metadata": {
        "id": "Uh8S4bHDsF7w",
        "colab_type": "code",
        "colab": {
          "base_uri": "https://localhost:8080/",
          "height": 66
        },
        "outputId": "f42578f4-9986-4fef-c5c8-a04900133910"
      },
      "source": [
        "%cd  \"$SP_MODEL_DIR\"\n",
        "!echo '[Info] Sentence Piece の学習を開始します。'\n",
        "if not os.path.exists('model'):\n",
        "    ! mkdir  'model'\n",
        "\n",
        "# SentencePiece を学習する：モデルを作る。\n",
        "import sentencepiece as spm\n",
        "# 5分くらいかかる。（一度作ったら飛ばすように設定済み。 Setnence Piece のモデルファイルがあるかで判定。（m.model））\n",
        "if not os.path.exists('model/m.model'):\n",
        "    spm.SentencePieceTrainer.Train('--input=tmp/train.txt --model_prefix=model/m --vocab_size=8000')\n",
        "print('[Info] 終了！')"
      ],
      "execution_count": 13,
      "outputs": [
        {
          "output_type": "stream",
          "text": [
            "/content/gdrive/My Drive/Colab Notebooks/learning/old_nlp_techs/DataMining_Report3_Lv4_NLP_Models/models/Tokenizer/SentencePiece\n",
            "[Info] Sentence Piece の学習を開始します。\n",
            "[Info] 終了！\n"
          ],
          "name": "stdout"
        }
      ]
    },
    {
      "cell_type": "code",
      "metadata": {
        "id": "znZdt0QFsF7z",
        "colab_type": "code",
        "colab": {
          "base_uri": "https://localhost:8080/",
          "height": 33
        },
        "outputId": "ac0344b5-bc8a-4de2-c29d-3dff58e939e3"
      },
      "source": [
        "# 学習したSentencePieceモデルを読み込む\n",
        "sp = spm.SentencePieceProcessor()\n",
        "sp.Load('model/m.model')\n",
        "# こんな感じで 分かち書きできる。\n",
        "print( sp.EncodeAsPieces('吾輩は猫である') )"
      ],
      "execution_count": 14,
      "outputs": [
        {
          "output_type": "stream",
          "text": [
            "['▁', '吾', '輩', 'は', '猫', 'である']\n"
          ],
          "name": "stdout"
        }
      ]
    },
    {
      "cell_type": "markdown",
      "metadata": {
        "id": "9zE6Yq73O-1M",
        "colab_type": "text"
      },
      "source": [
        "### Layer2 : Embedding\n",
        "- 今回は、BoW+TF-IDF、共起行列、XLNet の予定。"
      ]
    },
    {
      "cell_type": "markdown",
      "metadata": {
        "id": "Ls0_nr_M2xV2",
        "colab_type": "text"
      },
      "source": [
        "#### 事前処理\n",
        "- Token（単語など） に ID を振る。"
      ]
    },
    {
      "cell_type": "code",
      "metadata": {
        "id": "n7K3qguJ6zeJ",
        "colab_type": "code",
        "colab": {
          "base_uri": "https://localhost:8080/",
          "height": 53
        },
        "outputId": "6c6c0bca-e527-499e-f51c-9e1832e73047"
      },
      "source": [
        "sentences = []\n",
        "with open('tmp/train.txt', 'r', encoding='utf-8') as f:\n",
        "    sentences = f.read().split('\\n')\n",
        "print(sentences[7])"
      ],
      "execution_count": 15,
      "outputs": [
        {
          "output_type": "stream",
          "text": [
            "\"ケーブルいらずのスマホバッテリ！情報満載の1日を振り返る【ITフラッシュバック】ThinkPadをNECで生産するニュースからケーブルいらずのバッテリー、その場で動画を共有するテクニック、315gの最軽量スキャナ、孫正義氏のTwitterまで、様々な記事が掲載された。情報満載の1日を振り返ってみよう。■ThinkPadをNECで生産へ 2012年秋より日本で試験生産【デジ通】レノボとNECパーソナルコンピュータは2011年7月より、NECレノボ・ジャパングループの元で運営されている。それから1年が経過し、ユーザーの目に見える部分では、レノボのサポートサービスをNECに委託し、レノボのIdeaCenterにNECのTV技術を用いた製品が発表されるなど、いつかの点でその成果が出始めている。さらに、一部の個人ユーザーに人気のThinkPadを、NECの米沢事業所で試験生産することを発表した。■Dockコネクターに直挿し！iPhoneやiPadにケーブルいらずのバッテリー【イケショップのレア物】今回紹介する「Universal PowerBank 6000 for Smartphone/Tablet」は、これ1台でかなり対応できるスグレモノのモバイルバッテリーなのである。■iPhoneで撮った動画を仲間で共有！その場で動画を共有するテクニック【知っ得！虎の巻】iPhoneを使えば、手軽に動画を撮影できる。プライベートシーンなら、家族やペットの撮影を楽しめる。ビジネスシーンなら、現場の様子を撮影してわかりやすく報告できる。もし、急ぎの報告が必要なら、いったんパソコンに取り込んでサーバーにアップするより、そのままYouTubeにアップして限定公開してみてはいかがだろう。■315gの最軽量スキャナも登場！PCレスでスキャンデータを活用できる「ADS-2500W」スマートフォンやタブレット端末などの普及やクラウドサービスの利用拡大などから、書類をデータ化して活用する機会が増え、ドキュメントスキャナーのニーズが高まっている。そうしたニーズにこたえるために、ブラザーが新製品を投入する。■電子ブックリーダー「kobo Touch」の実機が見られる！楽天が大手書店と連携した理由「お得に購入できる裏技あり！楽天の書籍端末が凄い5つの理由」でお伝えしたように、楽天の電子ブックリーダー「kobo Touch（コボタッチ）」が2012年7月2日より予約を開始した。電子ブックリーダーとしては安価な製品であるだけに、実機を見たい人もいるだろう。そうした人に朗報だ。■語れば語るほど、メッキが剥がれていく！孫社長「あきらめていないか？」ソフトバンクグループの代表 孫正義氏は、Twitterを通じて活発な発言をしている。そんな同氏の格言的な言葉がネットで話題となっている。それは、突然のつぶやきから始まった。■電子書籍に関連した記事を読む・電子書籍では何が重要なのか？ 本格化する日本の電子書籍【デジ通】・お得に購入できる裏技あり！楽天の書籍端末が凄い5つの理由・楽天が電子書籍サービスを開始？　「Kobo」のサイトを新たに開設・最新情報も見逃すな！ 大人気アニメ「宇宙兄弟」公式アプリ！【iPhoneでチャンスを掴め】・クリエイターと読者が創るソーシャル時代の電子書籍サービス「Yomuca」Transcend SDHCカード 16GB Class10 永久保証 [フラストレーションフリーパッケージ (FFP)] TS16GSDHC10Eトランセンド・ジャパン販売元：Amazon.co.jpクチコミを見る\"\n"
          ],
          "name": "stdout"
        }
      ]
    },
    {
      "cell_type": "code",
      "metadata": {
        "id": "39VcxWOx926O",
        "colab_type": "code",
        "colab": {
          "base_uri": "https://localhost:8080/",
          "height": 50
        },
        "outputId": "52040e3d-6ade-4976-bfbe-79c06b351a12"
      },
      "source": [
        "%cd  \"$LANGUAGE_ROOT_DIR\"\n",
        "\n",
        "import pre\n",
        "from tqdm import tqdm\n",
        "\n",
        "###  data_w2i を作る。  ###\n",
        "tknzd_all_sentences = []   # Token化した文書を一時的に保存（共起行列で利用）\n",
        "token_set = set()\n",
        "for s in tqdm(sentences):\n",
        "    tknd_s = sp.EncodeAsPieces(s)  #=> ['▁', '吾', '輩', 'は', '猫', 'である']\n",
        "    tknzd_all_sentences.append(tknd_s)\n",
        "    token_set = token_set | set(tknd_s)   # Token の集合（set） を作成。（set は、dict のkeyだけ版）\n",
        "# 全単語(Token) に id を割り当てた dict を作る。\n",
        "data_w2i = pre.identify_some_tokens(token_set)"
      ],
      "execution_count": 16,
      "outputs": [
        {
          "output_type": "stream",
          "text": [
            "\r  0%|          | 0/7368 [00:00<?, ?it/s]"
          ],
          "name": "stderr"
        },
        {
          "output_type": "stream",
          "text": [
            "/content/gdrive/My Drive/Colab Notebooks/learning/old_nlp_techs/DataMining_Report3_Lv4_NLP_Models/models/LanguageModel\n"
          ],
          "name": "stdout"
        },
        {
          "output_type": "stream",
          "text": [
            "100%|██████████| 7368/7368 [00:09<00:00, 783.55it/s]\n"
          ],
          "name": "stderr"
        }
      ]
    },
    {
      "cell_type": "markdown",
      "metadata": {
        "id": "OyH26N9X17mO",
        "colab_type": "text"
      },
      "source": [
        "#### BoW"
      ]
    },
    {
      "cell_type": "code",
      "metadata": {
        "id": "zZ8ZIXr62wk1",
        "colab_type": "code",
        "colab": {}
      },
      "source": [
        "from Bag_of_Words import BoW\n",
        "\n",
        "# 文（章）の list を渡すと、それらを BoW に変換した 文ベクトル (np.array) を返す。\n",
        "bow = BoW(data_w2i)\n",
        "def build_BoW_vecs(raw_sentences, data_w2i):\n",
        "    print('[Info] Embedding中...')\n",
        "    tknzd_sentences = [sp.EncodeAsPieces(s) for s in raw_sentences]\n",
        "    return np.array([bow.embed_BoW(tknz_s) for tknz_s in tknzd_sentences])"
      ],
      "execution_count": 0,
      "outputs": []
    },
    {
      "cell_type": "markdown",
      "metadata": {
        "id": "l0CftRPs_XnC",
        "colab_type": "text"
      },
      "source": [
        "#### co-matrix\n",
        "- 文書中に現れた全単語の単語ベクトルを足し合わせ、総単語数で割る"
      ]
    },
    {
      "cell_type": "code",
      "metadata": {
        "id": "J-fE18-v1xxw",
        "colab_type": "code",
        "colab": {
          "base_uri": "https://localhost:8080/",
          "height": 50
        },
        "outputId": "9b1a2531-decd-4f30-a3df-e1b3b34c512c"
      },
      "source": [
        "from Co_Matrix import CoMatrix\n",
        "\n",
        "# 文（章）の list を渡すと、それらを Co-Matrix に変換した 文ベクトル (np.array) を返す。\n",
        "# word2id を元に、共起行列を作る。（全文を読み込む行うので、最初の１回のみ）\n",
        "cmat = CoMatrix(data_w2i, tknzd_all_sentences, window_size=2)\n",
        "print(cmat.co_matrix.shape)\n",
        "def build_CoMatrix_vecs(raw_sentences, data_w2i):\n",
        "    print('[Info] Embedding中...')\n",
        "    tknzd_sentences = [sp.EncodeAsPieces(s) for s in raw_sentences]\n",
        "    # 共起行列を元に、入力文（章）をベクトル化\n",
        "    return np.array([cmat.embed_co_marrix(tknz_s) for tknz_s in tqdm(tknzd_sentences)])"
      ],
      "execution_count": 18,
      "outputs": [
        {
          "output_type": "stream",
          "text": [
            "100%|██████████| 7368/7368 [01:13<00:00, 100.03it/s]"
          ],
          "name": "stderr"
        },
        {
          "output_type": "stream",
          "text": [
            "(9046, 9046)\n"
          ],
          "name": "stdout"
        },
        {
          "output_type": "stream",
          "text": [
            "\n"
          ],
          "name": "stderr"
        }
      ]
    },
    {
      "cell_type": "markdown",
      "metadata": {
        "colab_type": "text",
        "id": "hySomdSURqrp"
      },
      "source": [
        "### Layer3 : 分類モデル\n",
        "- 今回は、SVM で行う。"
      ]
    },
    {
      "cell_type": "code",
      "metadata": {
        "id": "r5w40n7Y9nx5",
        "colab_type": "code",
        "colab": {}
      },
      "source": [
        "#@title Embedding Layer のアルゴリズムを選ぶ。\n",
        "Embed_layer = \"BoW\"  #@param ['BoW', 'co-matrix', 'XLNet']"
      ],
      "execution_count": 0,
      "outputs": []
    },
    {
      "cell_type": "code",
      "metadata": {
        "id": "29gaZeyBJQIg",
        "colab_type": "code",
        "colab": {}
      },
      "source": [
        "extract_dir = os.path.join(TMP_DIR, 'extracts')\n",
        "dpaths = {\n",
        "    'test' : os.path.join(extract_dir, \"test.tsv\"),\n",
        "    'val' : os.path.join(extract_dir, \"val.tsv\"),\n",
        "    'train' : os.path.join(extract_dir, \"train.tsv\"),\n",
        "}\n",
        "\n",
        "# P = dpaths['test']\n",
        "# ! head -3  \"$P\""
      ],
      "execution_count": 0,
      "outputs": []
    },
    {
      "cell_type": "markdown",
      "metadata": {
        "id": "4QUcyca1JQ1D",
        "colab_type": "text"
      },
      "source": [
        "#### train\n"
      ]
    },
    {
      "cell_type": "markdown",
      "metadata": {
        "id": "gz6U9NoV4rkg",
        "colab_type": "text"
      },
      "source": [
        "##### データ読み込み"
      ]
    },
    {
      "cell_type": "code",
      "metadata": {
        "id": "2G_MVIGFAdN0",
        "colab_type": "code",
        "colab": {}
      },
      "source": [
        "import numpy as np\n",
        "import pandas as pd\n",
        "from sklearn.utils import resample\n",
        "\n",
        "###  train.tsv から データを読み込み  ###\n",
        "def get_datas(mode):\n",
        "    df = pd.read_csv(dpaths[mode], sep='\\t')\n",
        "    return df['text'].values, df['label'].values"
      ],
      "execution_count": 0,
      "outputs": []
    },
    {
      "cell_type": "code",
      "metadata": {
        "id": "WVbhydrcBB7i",
        "colab_type": "code",
        "colab": {
          "base_uri": "https://localhost:8080/",
          "height": 100
        },
        "outputId": "11b67a51-581e-41b5-de00-e947b6cb1213"
      },
      "source": [
        "# 読み込み\n",
        "raw_datas, raw_labels = get_datas('train')\n",
        "print(type(raw_datas), len(raw_labels))\n",
        "\n",
        "# データをシャッフル\n",
        "print(raw_labels, \"    DataNum: \", len(raw_datas))\n",
        "raw_datas, raw_labels = resample(raw_datas, raw_labels, n_samples=len(raw_labels))\n",
        "print(raw_labels, \"    DataNum: \", len(raw_datas), )"
      ],
      "execution_count": 40,
      "outputs": [
        {
          "output_type": "stream",
          "text": [
            "<class 'numpy.ndarray'> 4421\n",
            "['movie-enter' 'movie-enter' 'kaden-channel' ... 'it-life-hack' 'smax'\n",
            " 'dokujo-tsushin']     DataNum:  4421\n",
            "['sports-watch' 'movie-enter' 'peachy' ... 'it-life-hack' 'peachy'\n",
            " 'peachy']     DataNum:  4421\n"
          ],
          "name": "stdout"
        }
      ]
    },
    {
      "cell_type": "code",
      "metadata": {
        "id": "7L-aNwP8A4Sk",
        "colab_type": "code",
        "colab": {
          "base_uri": "https://localhost:8080/",
          "height": 33
        },
        "outputId": "6394f14a-a628-4b82-e1f2-a61b4c8bccce"
      },
      "source": [
        "###  ラベルを数値化  ###\n",
        "label_list = [ \n",
        "    name for name \n",
        "    in os.listdir( os.path.join(TMP_DIR, \"text\") ) \n",
        "    if os.path.isdir( os.path.join(TMP_DIR, \"text\", name) ) ]\n",
        "\n",
        "# ラベルリストに ID を付与する\n",
        "label_w2i = pre.identify_some_tokens(label_list)\n",
        "print(label_w2i)"
      ],
      "execution_count": 41,
      "outputs": [
        {
          "output_type": "stream",
          "text": [
            "{'dokujo-tsushin': 0, 'livedoor-homme': 1, 'kaden-channel': 2, 'smax': 3, 'topic-news': 4, 'peachy': 5, 'movie-enter': 6, 'it-life-hack': 7, 'sports-watch': 8}\n"
          ],
          "name": "stdout"
        }
      ]
    },
    {
      "cell_type": "markdown",
      "metadata": {
        "id": "ToPEgYor58pN",
        "colab_type": "text"
      },
      "source": [
        "##### Embedding"
      ]
    },
    {
      "cell_type": "code",
      "metadata": {
        "id": "eDnZjHGNPqlg",
        "colab_type": "code",
        "colab": {}
      },
      "source": [
        "from sklearn import preprocessing\n",
        "\n",
        "# Embedding\n",
        "# 生の文（章）から、文（章）ベクトルに変換する。\n",
        "def embed_datas(raw_datas, data_w2i:dict, is_normrize=True):\n",
        "    datas = None\n",
        "    if Embed_layer == 'BoW':\n",
        "        datas = build_BoW_vecs(raw_datas, data_w2i)\n",
        "    if Embed_layer == 'co-matrix':\n",
        "        datas = build_CoMatrix_vecs(raw_datas, data_w2i)\n",
        "        # is_normrize=False\n",
        "\n",
        "    if is_normrize:\n",
        "        # 正規化する（オプション）\n",
        "        datas = normalize_vec(datas)\n",
        "    print('[Info] 完了！')\n",
        "    return datas\n",
        "\n",
        "# 正規化 （SVMが収束しないので...）\n",
        "def normalize_vec(vec):\n",
        "    # 正規化、標準化 ライブラリ （https://note.nkmk.me/python-list-ndarray-dataframe-normalize-standardize/）\n",
        "    mm = preprocessing.MinMaxScaler()\n",
        "    return mm.fit_transform(vec)"
      ],
      "execution_count": 0,
      "outputs": []
    },
    {
      "cell_type": "code",
      "metadata": {
        "id": "qSMGB_9p50dd",
        "colab_type": "code",
        "colab": {
          "base_uri": "https://localhost:8080/",
          "height": 216
        },
        "outputId": "ec063bbc-ab8a-43b4-ab0d-7106ba57f4a2"
      },
      "source": [
        "%%time\n",
        "# データを Embedding\n",
        "datas = embed_datas(raw_datas, data_w2i)\n",
        "print(datas, '\\nshape : ', datas.shape)"
      ],
      "execution_count": 43,
      "outputs": [
        {
          "output_type": "stream",
          "text": [
            "[Info] Embedding中...\n",
            "[Info] 完了！\n",
            "[[0.  0.  0.  ... 0.  0.  0. ]\n",
            " [0.  0.  0.  ... 0.  0.  0. ]\n",
            " [0.  0.  0.  ... 0.  0.  0. ]\n",
            " ...\n",
            " [0.5 0.  0.  ... 0.  0.  0. ]\n",
            " [0.  0.  0.  ... 0.  0.  0. ]\n",
            " [0.  0.  0.  ... 0.  0.  0. ]] \n",
            "shape :  (4421, 9046)\n",
            "CPU times: user 6.12 s, sys: 408 ms, total: 6.53 s\n",
            "Wall time: 6.55 s\n"
          ],
          "name": "stdout"
        }
      ]
    },
    {
      "cell_type": "code",
      "metadata": {
        "id": "_HkrrkMRtAjF",
        "colab_type": "code",
        "colab": {}
      },
      "source": [
        "def conv_labels(raw_labels, label_w2i:dict):\n",
        "    return np.array([label_w2i[w] for w in raw_labels])"
      ],
      "execution_count": 0,
      "outputs": []
    },
    {
      "cell_type": "code",
      "metadata": {
        "id": "ZuOpJfilApe9",
        "colab_type": "code",
        "colab": {
          "base_uri": "https://localhost:8080/",
          "height": 50
        },
        "outputId": "8ce0391f-4c4a-4825-b22c-0f1e915cce6d"
      },
      "source": [
        "# ラベルを ID化\n",
        "labels = conv_labels(raw_labels, label_w2i)\n",
        "print(labels, '\\nshape : ', labels.shape)"
      ],
      "execution_count": 45,
      "outputs": [
        {
          "output_type": "stream",
          "text": [
            "[8 6 5 ... 7 5 5] \n",
            "shape :  (4421,)\n"
          ],
          "name": "stdout"
        }
      ]
    },
    {
      "cell_type": "markdown",
      "metadata": {
        "id": "iM_RRZ7H2soF",
        "colab_type": "text"
      },
      "source": [
        "##### 学習"
      ]
    },
    {
      "cell_type": "code",
      "metadata": {
        "id": "zU00jjWEgxFM",
        "colab_type": "code",
        "colab": {}
      },
      "source": [
        "##  パラメータ関係  ##\n",
        "from sklearn.svm import LinearSVC\n",
        "# SVC のハイパーパラメータ\n",
        "svc = LinearSVC(max_iter=10000)"
      ],
      "execution_count": 0,
      "outputs": []
    },
    {
      "cell_type": "code",
      "metadata": {
        "id": "T7Nc3Sy626wN",
        "colab_type": "code",
        "colab": {
          "base_uri": "https://localhost:8080/",
          "height": 116
        },
        "outputId": "128f82c3-22e8-4c3e-f4b8-3de3e0eda4ed"
      },
      "source": [
        "%%time\n",
        "# Train\n",
        "svc.fit(datas, labels)"
      ],
      "execution_count": 47,
      "outputs": [
        {
          "output_type": "stream",
          "text": [
            "CPU times: user 7.25 s, sys: 3.79 ms, total: 7.26 s\n",
            "Wall time: 7.27 s\n"
          ],
          "name": "stdout"
        },
        {
          "output_type": "execute_result",
          "data": {
            "text/plain": [
              "LinearSVC(C=1.0, class_weight=None, dual=True, fit_intercept=True,\n",
              "          intercept_scaling=1, loss='squared_hinge', max_iter=10000,\n",
              "          multi_class='ovr', penalty='l2', random_state=None, tol=0.0001,\n",
              "          verbose=0)"
            ]
          },
          "metadata": {
            "tags": []
          },
          "execution_count": 47
        }
      ]
    },
    {
      "cell_type": "markdown",
      "metadata": {
        "colab_type": "text",
        "id": "6cAaozuAPIn0"
      },
      "source": [
        "#### Predict"
      ]
    },
    {
      "cell_type": "markdown",
      "metadata": {
        "colab_type": "text",
        "id": "t3qTg3Mn4y1v"
      },
      "source": [
        "##### データ読み込み"
      ]
    },
    {
      "cell_type": "code",
      "metadata": {
        "colab_type": "code",
        "id": "7_szvXGY4y11",
        "colab": {
          "base_uri": "https://localhost:8080/",
          "height": 100
        },
        "outputId": "f07db901-7c6a-494c-ed94-45df109a0642"
      },
      "source": [
        "###  test.tsv から データを読み込み  ###\n",
        "raw_datas, raw_labels = get_datas('test')\n",
        "print(type(raw_datas), len(raw_labels))\n",
        "\n",
        "# データをシャッフル\n",
        "print(raw_labels, \"    DataNum: \", len(raw_datas))\n",
        "raw_datas, raw_labels = resample(raw_datas, raw_labels, n_samples=len(raw_labels))\n",
        "print(raw_labels, \"    DataNum: \", len(raw_datas), )"
      ],
      "execution_count": 48,
      "outputs": [
        {
          "output_type": "stream",
          "text": [
            "<class 'numpy.ndarray'> 1473\n",
            "['sports-watch' 'kaden-channel' 'peachy' ... 'peachy' 'movie-enter'\n",
            " 'movie-enter']     DataNum:  1473\n",
            "['movie-enter' 'dokujo-tsushin' 'sports-watch' ... 'it-life-hack'\n",
            " 'sports-watch' 'dokujo-tsushin']     DataNum:  1473\n"
          ],
          "name": "stdout"
        }
      ]
    },
    {
      "cell_type": "markdown",
      "metadata": {
        "colab_type": "text",
        "id": "7CLHnHCV4y19"
      },
      "source": [
        "##### Embedding"
      ]
    },
    {
      "cell_type": "code",
      "metadata": {
        "colab_type": "code",
        "id": "MElwbaLX9P__",
        "colab": {
          "base_uri": "https://localhost:8080/",
          "height": 183
        },
        "outputId": "7b12144c-03ce-4bc0-e913-8b6c9fa7bd91"
      },
      "source": [
        "datas_pred = embed_datas(raw_datas, data_w2i)\n",
        "print(datas_pred, '\\nshape : ', datas_pred.shape)"
      ],
      "execution_count": 49,
      "outputs": [
        {
          "output_type": "stream",
          "text": [
            "[Info] Embedding中...\n",
            "[Info] 完了！\n",
            "[[0.   0.   0.   ... 0.   0.   0.  ]\n",
            " [0.   0.   0.   ... 0.   0.25 0.  ]\n",
            " [0.   0.   0.   ... 0.   0.   0.  ]\n",
            " ...\n",
            " [0.   0.   0.   ... 0.   0.   0.  ]\n",
            " [0.   0.   0.   ... 0.   0.   0.  ]\n",
            " [0.   0.   0.   ... 0.   0.   0.  ]] \n",
            "shape :  (1473, 9046)\n"
          ],
          "name": "stdout"
        }
      ]
    },
    {
      "cell_type": "code",
      "metadata": {
        "colab_type": "code",
        "id": "fHUpW0z59QAF",
        "colab": {
          "base_uri": "https://localhost:8080/",
          "height": 50
        },
        "outputId": "53192883-a934-4262-8be3-9414c610ad0e"
      },
      "source": [
        "# ラベルを変換\n",
        "labels_pred = conv_labels(raw_labels, label_w2i)\n",
        "print(labels_pred, '\\nshape : ', labels_pred.shape)"
      ],
      "execution_count": 50,
      "outputs": [
        {
          "output_type": "stream",
          "text": [
            "[6 0 8 ... 7 8 0] \n",
            "shape :  (1473,)\n"
          ],
          "name": "stdout"
        }
      ]
    },
    {
      "cell_type": "markdown",
      "metadata": {
        "colab_type": "text",
        "id": "24wv9HjU9QAH"
      },
      "source": [
        "##### 予測"
      ]
    },
    {
      "cell_type": "code",
      "metadata": {
        "colab_type": "code",
        "id": "evbLnLDi9QAL",
        "colab": {
          "base_uri": "https://localhost:8080/",
          "height": 50
        },
        "outputId": "36d20d3a-362c-4d36-a6e0-05ea84921ff7"
      },
      "source": [
        "%%time\n",
        "# Predict\n",
        "prediction = svc.predict(datas_pred)"
      ],
      "execution_count": 51,
      "outputs": [
        {
          "output_type": "stream",
          "text": [
            "CPU times: user 65.3 ms, sys: 17 ms, total: 82.3 ms\n",
            "Wall time: 58.1 ms\n"
          ],
          "name": "stdout"
        }
      ]
    },
    {
      "cell_type": "markdown",
      "metadata": {
        "id": "XFYV9chy4RUP",
        "colab_type": "text"
      },
      "source": [
        "#### 結果 （混同行列グラフ化）"
      ]
    },
    {
      "cell_type": "code",
      "metadata": {
        "id": "1jCGEo4gCTyF",
        "colab_type": "code",
        "colab": {
          "base_uri": "https://localhost:8080/",
          "height": 33
        },
        "outputId": "0edaee8f-7e62-4e97-d6b5-063798c8aa8b"
      },
      "source": [
        "RESULRT_DIR = os.path.join(DATA_DIR, 'results')\n",
        "!mkdir -p \"$RESULRT_DIR\"\n",
        "%cd  \"$RESULRT_DIR\""
      ],
      "execution_count": 52,
      "outputs": [
        {
          "output_type": "stream",
          "text": [
            "/content/gdrive/My Drive/Colab Notebooks/learning/old_nlp_techs/DataMining_Report3_Lv4_NLP_Models/datas/articles_livedoor/results\n"
          ],
          "name": "stdout"
        }
      ]
    },
    {
      "cell_type": "code",
      "metadata": {
        "id": "ABs7lkyrHPS0",
        "colab_type": "code",
        "colab": {}
      },
      "source": [
        "import matplotlib\n",
        "matplotlib.use('Agg')\n",
        "from matplotlib import pylab\n",
        "import matplotlib.pyplot as plt\n",
        "%matplotlib inline\n",
        "import seaborn as sns\n",
        "\n",
        "import glob\n",
        "from sklearn.metrics import confusion_matrix\n",
        "\n",
        "\n",
        "def normalisation(cm):\n",
        "    new_cm = []\n",
        "    for line in cm:\n",
        "        sum_val = sum(line)\n",
        "        new_array = [float(num)/float(sum_val) for num in line]\n",
        "        new_cm.append(new_array)\n",
        "    return new_cm\n",
        "\n",
        "def plot_confusion_matrix(cm, name_list_org, title):\n",
        "    name_list = list(map(lambda x: x.replace('_', '\\n'), name_list_org))\n",
        "    print(name_list)\n",
        "    df = pd.DataFrame(cm, index=name_list, columns=name_list) #データフレーム化\n",
        "\n",
        "    plt.clf()\n",
        "    plt.cla()\n",
        "    fig, ax = plt.subplots(figsize=(12, 9)) \n",
        "    print('df : {}'.format(df))\n",
        "    sns.heatmap(df, square=True, cmap='Blues', vmin=0, vmax=1.0, annot=True,)\n",
        "    pylab.title(title)\n",
        "    pylab.xlabel('Predict class')\n",
        "    pylab.ylabel('True class')\n",
        "\n",
        "    filename = title + \"_reslt.png\"\n",
        "    plt.savefig(filename)\n",
        "    #plt.close()"
      ],
      "execution_count": 0,
      "outputs": []
    },
    {
      "cell_type": "code",
      "metadata": {
        "id": "qP4LtpGN_OUs",
        "colab_type": "code",
        "colab": {
          "base_uri": "https://localhost:8080/",
          "height": 1000
        },
        "outputId": "901b1a56-e5c7-4fe7-b2ba-6a5a5e940b5b"
      },
      "source": [
        "# 混同行列（図）で、結果を出力\n",
        "cm = confusion_matrix(labels_pred, prediction)\n",
        "print(normalisation(cm))\n",
        "plot_confusion_matrix(normalisation(cm), label_list, \"Livedoor articles classifer : \"+Embed_layer)"
      ],
      "execution_count": 54,
      "outputs": [
        {
          "output_type": "stream",
          "text": [
            "[[0.9053254437869822, 0.011834319526627219, 0.011834319526627219, 0.0, 0.0, 0.0650887573964497, 0.0, 0.0, 0.005917159763313609], [0.0, 0.8604651162790697, 0.023255813953488372, 0.0, 0.0, 0.08139534883720931, 0.03488372093023256, 0.0, 0.0], [0.0, 0.0, 1.0, 0.0, 0.0, 0.0, 0.0, 0.0, 0.0], [0.0, 0.0, 0.0, 1.0, 0.0, 0.0, 0.0, 0.0, 0.0], [0.0, 0.0, 0.024691358024691357, 0.0, 0.9444444444444444, 0.0, 0.0, 0.0, 0.030864197530864196], [0.024844720496894408, 0.037267080745341616, 0.006211180124223602, 0.0, 0.012422360248447204, 0.906832298136646, 0.012422360248447204, 0.0, 0.0], [0.018867924528301886, 0.0, 0.0, 0.0, 0.0, 0.012578616352201259, 0.9685534591194969, 0.0, 0.0], [0.005649717514124294, 0.011299435028248588, 0.02824858757062147, 0.0, 0.0, 0.0, 0.0, 0.9548022598870056, 0.0], [0.0, 0.0, 0.0, 0.0, 0.0, 0.0, 0.0, 0.0, 1.0]]\n",
            "['dokujo-tsushin', 'livedoor-homme', 'kaden-channel', 'smax', 'topic-news', 'peachy', 'movie-enter', 'it-life-hack', 'sports-watch']\n",
            "df :                 dokujo-tsushin  livedoor-homme  ...  it-life-hack  sports-watch\n",
            "dokujo-tsushin        0.905325        0.011834  ...      0.000000      0.005917\n",
            "livedoor-homme        0.000000        0.860465  ...      0.000000      0.000000\n",
            "kaden-channel         0.000000        0.000000  ...      0.000000      0.000000\n",
            "smax                  0.000000        0.000000  ...      0.000000      0.000000\n",
            "topic-news            0.000000        0.000000  ...      0.000000      0.030864\n",
            "peachy                0.024845        0.037267  ...      0.000000      0.000000\n",
            "movie-enter           0.018868        0.000000  ...      0.000000      0.000000\n",
            "it-life-hack          0.005650        0.011299  ...      0.954802      0.000000\n",
            "sports-watch          0.000000        0.000000  ...      0.000000      1.000000\n",
            "\n",
            "[9 rows x 9 columns]\n"
          ],
          "name": "stdout"
        },
        {
          "output_type": "display_data",
          "data": {
            "image/png": "[encoded data removed]",
            "text/plain": [
              "<Figure size 432x288 with 1 Axes>"
            ]
          },
          "metadata": {
            "tags": []
          }
        },
        {
          "output_type": "display_data",
          "data": {
            "image/png": "[encoded data removed]",
            "text/plain": [
              "<Figure size 864x648 with 2 Axes>"
            ]
          },
          "metadata": {
            "tags": []
          }
        }
      ]
    },
    {
      "cell_type": "markdown",
      "metadata": {
        "id": "BWqonvK-Fyet",
        "colab_type": "text"
      },
      "source": [
        "### その他"
      ]
    }
  ]
}