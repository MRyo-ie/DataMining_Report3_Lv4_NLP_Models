{
  "nbformat": 4,
  "nbformat_minor": 0,
  "metadata": {
    "colab": {
      "name": "main.ipynb",
      "provenance": [],
      "collapsed_sections": [],
      "toc_visible": true,
      "include_colab_link": true
    },
    "kernelspec": {
      "name": "python3",
      "display_name": "Python 3"
    },
    "accelerator": "GPU"
  },
  "cells": [
    {
      "cell_type": "markdown",
      "metadata": {
        "id": "view-in-github",
        "colab_type": "text"
      },
      "source": [
        "<a href=\"https://colab.research.google.com/github/MRyo-ie/DataMining_Report3_Lv4_NLP_Models/blob/GoogleColab-merge/main.ipynb\" target=\"_parent\"><img src=\"https://colab.research.google.com/assets/colab-badge.svg\" alt=\"Open In Colab\"/></a>"
      ]
    },
    {
      "cell_type": "markdown",
      "metadata": {
        "id": "ytKWwxITuiOK",
        "colab_type": "text"
      },
      "source": [
        "# Report3"
      ]
    },
    {
      "cell_type": "markdown",
      "metadata": {
        "id": "Jv_tdY_kpkwW",
        "colab_type": "text"
      },
      "source": [
        "## Level 4: 文書分類せよ。\n"
      ]
    },
    {
      "cell_type": "code",
      "metadata": {
        "id": "xQI8s3RxSO36",
        "colab_type": "code",
        "outputId": "bffe1222-4395-4ae0-eb64-8944b1e795ed",
        "colab": {
          "base_uri": "https://localhost:8080/",
          "height": 34
        }
      },
      "source": [
        "# 自分の Google Drive をマウント\n",
        "# https://qiita.com/uni-3/items/201aaa2708260cc790b8#drive内のディレクトリをマウントする220180920\n",
        "from google.colab import drive\n",
        "import os\n",
        "drive.mount('/content/gdrive')\n",
        "\n",
        "#@markdown ### GitHubリポジトリをcloneして保存するパス （Google Drive上）\n",
        "REPOSITORY_ROOT_DIR = 'Colab Notebooks/learning/old_nlp_techs' #@param {type: \"string\"}"
      ],
      "execution_count": 2,
      "outputs": [
        {
          "output_type": "stream",
          "text": [
            "Drive already mounted at /content/gdrive; to attempt to forcibly remount, call drive.mount(\"/content/gdrive\", force_remount=True).\n"
          ],
          "name": "stdout"
        }
      ]
    },
    {
      "cell_type": "markdown",
      "metadata": {
        "id": "QMga8fELbUHX",
        "colab_type": "text"
      },
      "source": [
        "### << 実行手順 >>\n",
        "\n",
        "1.  ↑ の、このボタンを押す　→　　![Open In Colab](https://colab.research.google.com/assets/colab-badge.svg)\n",
        "\n",
        "1. ↖︎（左上）のどこかに「ドライブに保存」があるので、それをクリックして、  \n",
        "  自分の Google Drive にこのファイルをコピーする。\n",
        "\n",
        "1. ↑ の変数を設定する。\n",
        "  - GitHub リポジトリをクローンする場所（GoogleDrive上の好きな場所）のパスを入力。\n",
        "\n",
        "1. 実行。  \n",
        "  - ↑で GoogleDrive をマウントするので、（英語の）指示に従って、  \n",
        "    「ログイン」→「パスコードをコピー」→「四角枠に貼り付けしてEnter」\n",
        "\n",
        "1. 後は勝手に実行してくれるはず"
      ]
    },
    {
      "cell_type": "code",
      "metadata": {
        "colab_type": "code",
        "id": "cefTwUbsegWV",
        "outputId": "4d66ba5d-1fe5-4e61-9f03-74739b1841e6",
        "colab": {
          "base_uri": "https://localhost:8080/",
          "height": 207
        }
      },
      "source": [
        "REPOSITORY_URL = 'https://github.com/MRyo-ie/DataMining_Report3_Lv4_NLP_Models.git'\n",
        "DATA_DL_URL = \"https://www.rondhuit.com/download/ldcc-20140209.tar.gz\"\n",
        "GDRIVE_ROOT = '/content/gdrive/My Drive/'\n",
        "REPO_PATH = os.path.join(GDRIVE_ROOT, REPOSITORY_ROOT_DIR, REPOSITORY_URL.split('/')[-1][:-4])\n",
        "\n",
        "# モデル関連のパス\n",
        "## Sentence Piece\n",
        "SP_MODEL_DIR = os.path.join(REPO_PATH, 'models', 'Tokenizer', 'SentencePiece')\n",
        "\n",
        "# よく使うパス\n",
        "DATA_DIR = os.path.join(REPO_PATH, 'datas', 'articles_livedoor')\n",
        "TMP_DIR = os.path.join(DATA_DIR, 'tmp')\n",
        "FILE_PATH = os.path.join(DATA_DIR, 'tmp', DATA_DL_URL.split('/')[-1])\n",
        "\n",
        "print(\"\"\"\n",
        "------------------------------------------------\n",
        "<<<  パス一覧  >>>\n",
        "REPO_PATH = {}\n",
        "\n",
        "DATA_DL_URL = {}\n",
        "DATA_DIR = {}\n",
        "TMP_DIR = {}\n",
        "FILE_PATH = {}\n",
        "------------------------------------------------\"\"\".format(REPO_PATH, DATA_DL_URL, DATA_DIR, TMP_DIR, FILE_PATH))"
      ],
      "execution_count": 3,
      "outputs": [
        {
          "output_type": "stream",
          "text": [
            "\n",
            "------------------------------------------------\n",
            "<<<  パス一覧  >>>\n",
            "REPO_PATH = /content/gdrive/My Drive/Colab Notebooks/learning/old_nlp_techs/DataMining_Report3_Lv4_NLP_Models\n",
            "\n",
            "DATA_DL_URL = https://www.rondhuit.com/download/ldcc-20140209.tar.gz\n",
            "DATA_DIR = /content/gdrive/My Drive/Colab Notebooks/learning/old_nlp_techs/DataMining_Report3_Lv4_NLP_Models/datas/articles_livedoor\n",
            "TMP_DIR = /content/gdrive/My Drive/Colab Notebooks/learning/old_nlp_techs/DataMining_Report3_Lv4_NLP_Models/datas/articles_livedoor/tmp\n",
            "FILE_PATH = /content/gdrive/My Drive/Colab Notebooks/learning/old_nlp_techs/DataMining_Report3_Lv4_NLP_Models/datas/articles_livedoor/tmp/ldcc-20140209.tar.gz\n",
            "------------------------------------------------\n"
          ],
          "name": "stdout"
        }
      ]
    },
    {
      "cell_type": "markdown",
      "metadata": {
        "id": "lxpwrBz9zeyv",
        "colab_type": "text"
      },
      "source": [
        "### 【準備】 GitHub clone"
      ]
    },
    {
      "cell_type": "code",
      "metadata": {
        "id": "7FAttiRhmUa3",
        "colab_type": "code",
        "colab": {
          "base_uri": "https://localhost:8080/",
          "height": 85
        },
        "outputId": "74ad8231-eb6a-43e3-aa14-f4a55e11cab3"
      },
      "source": [
        "if not os.path.exists(REPO_PATH):\n",
        "    repo_parent_path = os.path.join(GDRIVE_ROOT, REPOSITORY_ROOT_DIR)\n",
        "    %cd  \"$repo_parent_path\"\n",
        "    !git clone \"$REPOSITORY_URL\"  \"$REPO_PATH\"\n",
        "    %cd \"$REPO_PATH\"\n",
        "else:\n",
        "    # pull -f （と同じ意味のコマンド）\n",
        "    %cd \"$REPO_PATH\"\n",
        "    # 最新の状態に更新（強制）\n",
        "    ! git fetch origin master\n",
        "    ! git reset --hard origin/master"
      ],
      "execution_count": 4,
      "outputs": [
        {
          "output_type": "stream",
          "text": [
            "/content/gdrive/My Drive/Colab Notebooks/learning/old_nlp_techs/DataMining_Report3_Lv4_NLP_Models\n",
            "From https://github.com/MRyo-ie/DataMining_Report3_Lv4_NLP_Models\n",
            " * branch            master     -> FETCH_HEAD\n",
            "HEAD is now at 7954c4b 【add】「WikiIterator を追加」\n"
          ],
          "name": "stdout"
        }
      ]
    },
    {
      "cell_type": "markdown",
      "metadata": {
        "colab_type": "text",
        "id": "aZTAWBqnXR45"
      },
      "source": [
        "### 【準備】 データ\n",
        "今回は livedoor の記事データセットを使用。\n"
      ]
    },
    {
      "cell_type": "code",
      "metadata": {
        "colab_type": "code",
        "id": "906T09c6azyW",
        "colab": {}
      },
      "source": [
        "import configparser\n",
        "import glob\n",
        "import os, sys\n",
        "import pandas as pd\n",
        "import subprocess\n",
        "import tarfile\n",
        "from tqdm import tqdm\n",
        "from urllib.request import urlretrieve"
      ],
      "execution_count": 0,
      "outputs": []
    },
    {
      "cell_type": "markdown",
      "metadata": {
        "id": "hGvxmrZk6NZ6",
        "colab_type": "text"
      },
      "source": [
        "#### DL& 読み込み"
      ]
    },
    {
      "cell_type": "code",
      "metadata": {
        "colab_type": "code",
        "id": "aJ4AQJNQeaxT",
        "colab": {}
      },
      "source": [
        "# !mkdir -p  \"$TMP_DIR\"\n",
        "# %cd  \"$TMP_DIR\"\n",
        "\n",
        "# if not os.path.exists(FILE_PATH):\n",
        "#     ! wget  \"$DATA_DL_URL\"\n",
        "# # 時間かかる。\n",
        "# !tar  -zxvf   'ldcc-20140209.tar.gz'\n",
        "# !ls"
      ],
      "execution_count": 0,
      "outputs": []
    },
    {
      "cell_type": "code",
      "metadata": {
        "colab_type": "code",
        "id": "LU0ddAwymB21",
        "colab": {
          "base_uri": "https://localhost:8080/",
          "height": 170
        },
        "outputId": "68d15f58-683f-469b-a415-6ea9b51965de"
      },
      "source": [
        "categories = [ \n",
        "    name for name \n",
        "    in os.listdir( os.path.join(TMP_DIR, \"text\") ) \n",
        "    if os.path.isdir( os.path.join(TMP_DIR, \"text\", name) ) ]\n",
        "\n",
        "categories = sorted(categories)\n",
        "categories"
      ],
      "execution_count": 7,
      "outputs": [
        {
          "output_type": "execute_result",
          "data": {
            "text/plain": [
              "['dokujo-tsushin',\n",
              " 'it-life-hack',\n",
              " 'kaden-channel',\n",
              " 'livedoor-homme',\n",
              " 'movie-enter',\n",
              " 'peachy',\n",
              " 'smax',\n",
              " 'sports-watch',\n",
              " 'topic-news']"
            ]
          },
          "metadata": {
            "tags": []
          },
          "execution_count": 7
        }
      ]
    },
    {
      "cell_type": "markdown",
      "metadata": {
        "colab_type": "text",
        "id": "UY_enZFuWDYV"
      },
      "source": [
        "#### データの抽出・整備\n",
        "\n"
      ]
    },
    {
      "cell_type": "markdown",
      "metadata": {
        "colab_type": "text",
        "id": "VzwBKkN5X_k_"
      },
      "source": [
        "- ラベル（記事の種類）一覧"
      ]
    },
    {
      "cell_type": "code",
      "metadata": {
        "colab_type": "code",
        "id": "9XROrL41mHON",
        "outputId": "d25e45f1-e3c8-46cd-f8f1-ef85df3b8f76",
        "colab": {
          "base_uri": "https://localhost:8080/",
          "height": 34
        }
      },
      "source": [
        "table = str.maketrans({\n",
        "    '\\n': '',\n",
        "    '\\t': '　',\n",
        "    '\\r': '',\n",
        "})\n",
        "\n",
        "def extract_txt(filename):\n",
        "    with open(filename) as text_file:\n",
        "        # 0: URL, 1: timestamp\n",
        "        text = text_file.readlines()[2:]\n",
        "        text = [sentence.strip() for sentence in text]\n",
        "        text = list(filter(lambda line: line != '', text))\n",
        "        return ''.join(text)\n",
        "\n",
        "%cd  \"$TMP_DIR/\""
      ],
      "execution_count": 8,
      "outputs": [
        {
          "output_type": "stream",
          "text": [
            "/content/gdrive/My Drive/Colab Notebooks/learning/old_nlp_techs/DataMining_Report3_Lv4_NLP_Models/datas/articles_livedoor/tmp\n"
          ],
          "name": "stdout"
        }
      ]
    },
    {
      "cell_type": "code",
      "metadata": {
        "colab_type": "code",
        "id": "uwWtI1oLmLoL",
        "outputId": "a080aad2-b0b0-4f1d-90fb-b45fa5a32cf3",
        "colab": {
          "base_uri": "https://localhost:8080/",
          "height": 105
        }
      },
      "source": [
        "%cd  \"$TMP_DIR/\"\n",
        "\n",
        "# 割と時間かかる。\n",
        "all_text = []\n",
        "all_label = []\n",
        "for cat in tqdm(categories):\n",
        "    files = glob.glob(os.path.join(\"text\", cat, \"{}*.txt\".format(cat)))\n",
        "    files = sorted(files)\n",
        "    body = [ extract_txt(elem).translate(table) for elem in files ]\n",
        "    label = [cat] * len(body)\n",
        "    \n",
        "    all_text.extend(body)\n",
        "    all_label.extend(label)\n",
        "\n",
        "print(all_label)"
      ],
      "execution_count": 9,
      "outputs": [
        {
          "output_type": "stream",
          "text": [
            "\r  0%|          | 0/9 [00:00<?, ?it/s]"
          ],
          "name": "stderr"
        },
        {
          "output_type": "stream",
          "text": [
            "/content/gdrive/My Drive/Colab Notebooks/learning/old_nlp_techs/DataMining_Report3_Lv4_NLP_Models/datas/articles_livedoor/tmp\n"
          ],
          "name": "stdout"
        },
        {
          "output_type": "stream",
          "text": [
            "100%|██████████| 9/9 [00:09<00:00,  1.07s/it]"
          ],
          "name": "stderr"
        },
        {
          "output_type": "stream",
          "text": [
            "['dokujo-tsushin', 'dokujo-tsushin', 'dokujo-tsushin', 'dokujo-tsushin', 'dokujo-tsushin', 'dokujo-tsushin', 'dokujo-tsushin', 'dokujo-tsushin', 'dokujo-tsushin', 'dokujo-tsushin', 'dokujo-tsushin', 'dokujo-tsushin', 'dokujo-tsushin', 'dokujo-tsushin', 'dokujo-tsushin', 'dokujo-tsushin', 'dokujo-tsushin', 'dokujo-tsushin', 'dokujo-tsushin', 'dokujo-tsushin', 'dokujo-tsushin', 'dokujo-tsushin', 'dokujo-tsushin', 'dokujo-tsushin', 'dokujo-tsushin', 'dokujo-tsushin', 'dokujo-tsushin', 'dokujo-tsushin', 'dokujo-tsushin', 'dokujo-tsushin', 'dokujo-tsushin', 'dokujo-tsushin', 'dokujo-tsushin', 'dokujo-tsushin', 'dokujo-tsushin', 'dokujo-tsushin', 'dokujo-tsushin', 'dokujo-tsushin', 'dokujo-tsushin', 'dokujo-tsushin', 'dokujo-tsushin', 'dokujo-tsushin', 'dokujo-tsushin', 'dokujo-tsushin', 'dokujo-tsushin', 'dokujo-tsushin', 'dokujo-tsushin', 'dokujo-tsushin', 'dokujo-tsushin', 'dokujo-tsushin', 'dokujo-tsushin', 'dokujo-tsushin', 'dokujo-tsushin', 'dokujo-tsushin', 'dokujo-tsushin', 'dokujo-tsushin', 'dokujo-tsushin', 'dokujo-tsushin', 'dokujo-tsushin', 'dokujo-tsushin', 'dokujo-tsushin', 'dokujo-tsushin', 'dokujo-tsushin', 'dokujo-tsushin', 'dokujo-tsushin', 'dokujo-tsushin', 'dokujo-tsushin', 'dokujo-tsushin', 'dokujo-tsushin', 'dokujo-tsushin', 'dokujo-tsushin', 'dokujo-tsushin', 'dokujo-tsushin', 'dokujo-tsushin', 'dokujo-tsushin', 'dokujo-tsushin', 'dokujo-tsushin', 'dokujo-tsushin', 'dokujo-tsushin', 'dokujo-tsushin', 'dokujo-tsushin', 'dokujo-tsushin', 'dokujo-tsushin', 'dokujo-tsushin', 'dokujo-tsushin', 'dokujo-tsushin', 'dokujo-tsushin', 'dokujo-tsushin', 'dokujo-tsushin', 'dokujo-tsushin', 'dokujo-tsushin', 'dokujo-tsushin', 'dokujo-tsushin', 'dokujo-tsushin', 'dokujo-tsushin', 'dokujo-tsushin', 'dokujo-tsushin', 'dokujo-tsushin', 'dokujo-tsushin', 'dokujo-tsushin', 'dokujo-tsushin', 'dokujo-tsushin', 'dokujo-tsushin', 'dokujo-tsushin', 'dokujo-tsushin', 'dokujo-tsushin', 'dokujo-tsushin', 'dokujo-tsushin', 'dokujo-tsushin', 'dokujo-tsushin', 'dokujo-tsushin', 'dokujo-tsushin', 'dokujo-tsushin', 'dokujo-tsushin', 'dokujo-tsushin', 'dokujo-tsushin', 'dokujo-tsushin', 'dokujo-tsushin', 'dokujo-tsushin', 'dokujo-tsushin', 'dokujo-tsushin', 'dokujo-tsushin', 'dokujo-tsushin', 'dokujo-tsushin', 'dokujo-tsushin', 'dokujo-tsushin', 'dokujo-tsushin', 'dokujo-tsushin', 'dokujo-tsushin', 'dokujo-tsushin', 'dokujo-tsushin', 'dokujo-tsushin', 'dokujo-tsushin', 'dokujo-tsushin', 'dokujo-tsushin', 'dokujo-tsushin', 'dokujo-tsushin', 'dokujo-tsushin', 'dokujo-tsushin', 'dokujo-tsushin', 'dokujo-tsushin', 'dokujo-tsushin', 'dokujo-tsushin', 'dokujo-tsushin', 'dokujo-tsushin', 'dokujo-tsushin', 'dokujo-tsushin', 'dokujo-tsushin', 'dokujo-tsushin', 'dokujo-tsushin', 'dokujo-tsushin', 'dokujo-tsushin', 'dokujo-tsushin', 'dokujo-tsushin', 'dokujo-tsushin', 'dokujo-tsushin', 'dokujo-tsushin', 'dokujo-tsushin', 'dokujo-tsushin', 'dokujo-tsushin', 'dokujo-tsushin', 'dokujo-tsushin', 'dokujo-tsushin', 'dokujo-tsushin', 'dokujo-tsushin', 'dokujo-tsushin', 'dokujo-tsushin', 'dokujo-tsushin', 'dokujo-tsushin', 'dokujo-tsushin', 'dokujo-tsushin', 'dokujo-tsushin', 'dokujo-tsushin', 'dokujo-tsushin', 'dokujo-tsushin', 'dokujo-tsushin', 'dokujo-tsushin', 'dokujo-tsushin', 'dokujo-tsushin', 'dokujo-tsushin', 'dokujo-tsushin', 'dokujo-tsushin', 'dokujo-tsushin', 'dokujo-tsushin', 'dokujo-tsushin', 'dokujo-tsushin', 'dokujo-tsushin', 'dokujo-tsushin', 'dokujo-tsushin', 'dokujo-tsushin', 'dokujo-tsushin', 'dokujo-tsushin', 'dokujo-tsushin', 'dokujo-tsushin', 'dokujo-tsushin', 'dokujo-tsushin', 'dokujo-tsushin', 'dokujo-tsushin', 'dokujo-tsushin', 'dokujo-tsushin', 'dokujo-tsushin', 'dokujo-tsushin', 'dokujo-tsushin', 'dokujo-tsushin', 'dokujo-tsushin', 'dokujo-tsushin', 'dokujo-tsushin', 'dokujo-tsushin', 'dokujo-tsushin', 'dokujo-tsushin', 'dokujo-tsushin', 'dokujo-tsushin', 'dokujo-tsushin', 'dokujo-tsushin', 'dokujo-tsushin', 'dokujo-tsushin', 'dokujo-tsushin', 'dokujo-tsushin', 'dokujo-tsushin', 'dokujo-tsushin', 'dokujo-tsushin', 'dokujo-tsushin', 'dokujo-tsushin', 'dokujo-tsushin', 'dokujo-tsushin', 'dokujo-tsushin', 'dokujo-tsushin', 'dokujo-tsushin', 'dokujo-tsushin', 'dokujo-tsushin', 'dokujo-tsushin', 'dokujo-tsushin', 'dokujo-tsushin', 'dokujo-tsushin', 'dokujo-tsushin', 'dokujo-tsushin', 'dokujo-tsushin', 'dokujo-tsushin', 'dokujo-tsushin', 'dokujo-tsushin', 'dokujo-tsushin', 'dokujo-tsushin', 'dokujo-tsushin', 'dokujo-tsushin', 'dokujo-tsushin', 'dokujo-tsushin', 'dokujo-tsushin', 'dokujo-tsushin', 'dokujo-tsushin', 'dokujo-tsushin', 'dokujo-tsushin', 'dokujo-tsushin', 'dokujo-tsushin', 'dokujo-tsushin', 'dokujo-tsushin', 'dokujo-tsushin', 'dokujo-tsushin', 'dokujo-tsushin', 'dokujo-tsushin', 'dokujo-tsushin', 'dokujo-tsushin', 'dokujo-tsushin', 'dokujo-tsushin', 'dokujo-tsushin', 'dokujo-tsushin', 'dokujo-tsushin', 'dokujo-tsushin', 'dokujo-tsushin', 'dokujo-tsushin', 'dokujo-tsushin', 'dokujo-tsushin', 'dokujo-tsushin', 'dokujo-tsushin', 'dokujo-tsushin', 'dokujo-tsushin', 'dokujo-tsushin', 'dokujo-tsushin', 'dokujo-tsushin', 'dokujo-tsushin', 'dokujo-tsushin', 'dokujo-tsushin', 'dokujo-tsushin', 'dokujo-tsushin', 'dokujo-tsushin', 'dokujo-tsushin', 'dokujo-tsushin', 'dokujo-tsushin', 'dokujo-tsushin', 'dokujo-tsushin', 'dokujo-tsushin', 'dokujo-tsushin', 'dokujo-tsushin', 'dokujo-tsushin', 'dokujo-tsushin', 'dokujo-tsushin', 'dokujo-tsushin', 'dokujo-tsushin', 'dokujo-tsushin', 'dokujo-tsushin', 'dokujo-tsushin', 'dokujo-tsushin', 'dokujo-tsushin', 'dokujo-tsushin', 'dokujo-tsushin', 'dokujo-tsushin', 'dokujo-tsushin', 'dokujo-tsushin', 'dokujo-tsushin', 'dokujo-tsushin', 'dokujo-tsushin', 'dokujo-tsushin', 'dokujo-tsushin', 'dokujo-tsushin', 'dokujo-tsushin', 'dokujo-tsushin', 'dokujo-tsushin', 'dokujo-tsushin', 'dokujo-tsushin', 'dokujo-tsushin', 'dokujo-tsushin', 'dokujo-tsushin', 'dokujo-tsushin', 'dokujo-tsushin', 'dokujo-tsushin', 'dokujo-tsushin', 'dokujo-tsushin', 'dokujo-tsushin', 'dokujo-tsushin', 'dokujo-tsushin', 'dokujo-tsushin', 'dokujo-tsushin', 'dokujo-tsushin', 'dokujo-tsushin', 'dokujo-tsushin', 'dokujo-tsushin', 'dokujo-tsushin', 'dokujo-tsushin', 'dokujo-tsushin', 'dokujo-tsushin', 'dokujo-tsushin', 'dokujo-tsushin', 'dokujo-tsushin', 'dokujo-tsushin', 'dokujo-tsushin', 'dokujo-tsushin', 'dokujo-tsushin', 'dokujo-tsushin', 'dokujo-tsushin', 'dokujo-tsushin', 'dokujo-tsushin', 'dokujo-tsushin', 'dokujo-tsushin', 'dokujo-tsushin', 'dokujo-tsushin', 'dokujo-tsushin', 'dokujo-tsushin', 'dokujo-tsushin', 'dokujo-tsushin', 'dokujo-tsushin', 'dokujo-tsushin', 'dokujo-tsushin', 'dokujo-tsushin', 'dokujo-tsushin', 'dokujo-tsushin', 'dokujo-tsushin', 'dokujo-tsushin', 'dokujo-tsushin', 'dokujo-tsushin', 'dokujo-tsushin', 'dokujo-tsushin', 'dokujo-tsushin', 'dokujo-tsushin', 'dokujo-tsushin', 'dokujo-tsushin', 'dokujo-tsushin', 'dokujo-tsushin', 'dokujo-tsushin', 'dokujo-tsushin', 'dokujo-tsushin', 'dokujo-tsushin', 'dokujo-tsushin', 'dokujo-tsushin', 'dokujo-tsushin', 'dokujo-tsushin', 'dokujo-tsushin', 'dokujo-tsushin', 'dokujo-tsushin', 'dokujo-tsushin', 'dokujo-tsushin', 'dokujo-tsushin', 'dokujo-tsushin', 'dokujo-tsushin', 'dokujo-tsushin', 'dokujo-tsushin', 'dokujo-tsushin', 'dokujo-tsushin', 'dokujo-tsushin', 'dokujo-tsushin', 'dokujo-tsushin', 'dokujo-tsushin', 'dokujo-tsushin', 'dokujo-tsushin', 'dokujo-tsushin', 'dokujo-tsushin', 'dokujo-tsushin', 'dokujo-tsushin', 'dokujo-tsushin', 'dokujo-tsushin', 'dokujo-tsushin', 'dokujo-tsushin', 'dokujo-tsushin', 'dokujo-tsushin', 'dokujo-tsushin', 'dokujo-tsushin', 'dokujo-tsushin', 'dokujo-tsushin', 'dokujo-tsushin', 'dokujo-tsushin', 'dokujo-tsushin', 'dokujo-tsushin', 'dokujo-tsushin', 'dokujo-tsushin', 'dokujo-tsushin', 'dokujo-tsushin', 'dokujo-tsushin', 'dokujo-tsushin', 'dokujo-tsushin', 'dokujo-tsushin', 'dokujo-tsushin', 'dokujo-tsushin', 'dokujo-tsushin', 'dokujo-tsushin', 'dokujo-tsushin', 'dokujo-tsushin', 'dokujo-tsushin', 'dokujo-tsushin', 'dokujo-tsushin', 'dokujo-tsushin', 'dokujo-tsushin', 'dokujo-tsushin', 'dokujo-tsushin', 'dokujo-tsushin', 'dokujo-tsushin', 'dokujo-tsushin', 'dokujo-tsushin', 'dokujo-tsushin', 'dokujo-tsushin', 'dokujo-tsushin', 'dokujo-tsushin', 'dokujo-tsushin', 'dokujo-tsushin', 'dokujo-tsushin', 'dokujo-tsushin', 'dokujo-tsushin', 'dokujo-tsushin', 'dokujo-tsushin', 'dokujo-tsushin', 'dokujo-tsushin', 'dokujo-tsushin', 'dokujo-tsushin', 'dokujo-tsushin', 'dokujo-tsushin', 'dokujo-tsushin', 'dokujo-tsushin', 'dokujo-tsushin', 'dokujo-tsushin', 'dokujo-tsushin', 'dokujo-tsushin', 'dokujo-tsushin', 'dokujo-tsushin', 'dokujo-tsushin', 'dokujo-tsushin', 'dokujo-tsushin', 'dokujo-tsushin', 'dokujo-tsushin', 'dokujo-tsushin', 'dokujo-tsushin', 'dokujo-tsushin', 'dokujo-tsushin', 'dokujo-tsushin', 'dokujo-tsushin', 'dokujo-tsushin', 'dokujo-tsushin', 'dokujo-tsushin', 'dokujo-tsushin', 'dokujo-tsushin', 'dokujo-tsushin', 'dokujo-tsushin', 'dokujo-tsushin', 'dokujo-tsushin', 'dokujo-tsushin', 'dokujo-tsushin', 'dokujo-tsushin', 'dokujo-tsushin', 'dokujo-tsushin', 'dokujo-tsushin', 'dokujo-tsushin', 'dokujo-tsushin', 'dokujo-tsushin', 'dokujo-tsushin', 'dokujo-tsushin', 'dokujo-tsushin', 'dokujo-tsushin', 'dokujo-tsushin', 'dokujo-tsushin', 'dokujo-tsushin', 'dokujo-tsushin', 'dokujo-tsushin', 'dokujo-tsushin', 'dokujo-tsushin', 'dokujo-tsushin', 'dokujo-tsushin', 'dokujo-tsushin', 'dokujo-tsushin', 'dokujo-tsushin', 'dokujo-tsushin', 'dokujo-tsushin', 'dokujo-tsushin', 'dokujo-tsushin', 'dokujo-tsushin', 'dokujo-tsushin', 'dokujo-tsushin', 'dokujo-tsushin', 'dokujo-tsushin', 'dokujo-tsushin', 'dokujo-tsushin', 'dokujo-tsushin', 'dokujo-tsushin', 'dokujo-tsushin', 'dokujo-tsushin', 'dokujo-tsushin', 'dokujo-tsushin', 'dokujo-tsushin', 'dokujo-tsushin', 'dokujo-tsushin', 'dokujo-tsushin', 'dokujo-tsushin', 'dokujo-tsushin', 'dokujo-tsushin', 'dokujo-tsushin', 'dokujo-tsushin', 'dokujo-tsushin', 'dokujo-tsushin', 'dokujo-tsushin', 'dokujo-tsushin', 'dokujo-tsushin', 'dokujo-tsushin', 'dokujo-tsushin', 'dokujo-tsushin', 'dokujo-tsushin', 'dokujo-tsushin', 'dokujo-tsushin', 'dokujo-tsushin', 'dokujo-tsushin', 'dokujo-tsushin', 'dokujo-tsushin', 'dokujo-tsushin', 'dokujo-tsushin', 'dokujo-tsushin', 'dokujo-tsushin', 'dokujo-tsushin', 'dokujo-tsushin', 'dokujo-tsushin', 'dokujo-tsushin', 'dokujo-tsushin', 'dokujo-tsushin', 'dokujo-tsushin', 'dokujo-tsushin', 'dokujo-tsushin', 'dokujo-tsushin', 'dokujo-tsushin', 'dokujo-tsushin', 'dokujo-tsushin', 'dokujo-tsushin', 'dokujo-tsushin', 'dokujo-tsushin', 'dokujo-tsushin', 'dokujo-tsushin', 'dokujo-tsushin', 'dokujo-tsushin', 'dokujo-tsushin', 'dokujo-tsushin', 'dokujo-tsushin', 'dokujo-tsushin', 'dokujo-tsushin', 'dokujo-tsushin', 'dokujo-tsushin', 'dokujo-tsushin', 'dokujo-tsushin', 'dokujo-tsushin', 'dokujo-tsushin', 'dokujo-tsushin', 'dokujo-tsushin', 'dokujo-tsushin', 'dokujo-tsushin', 'dokujo-tsushin', 'dokujo-tsushin', 'dokujo-tsushin', 'dokujo-tsushin', 'dokujo-tsushin', 'dokujo-tsushin', 'dokujo-tsushin', 'dokujo-tsushin', 'dokujo-tsushin', 'dokujo-tsushin', 'dokujo-tsushin', 'dokujo-tsushin', 'dokujo-tsushin', 'dokujo-tsushin', 'dokujo-tsushin', 'dokujo-tsushin', 'dokujo-tsushin', 'dokujo-tsushin', 'dokujo-tsushin', 'dokujo-tsushin', 'dokujo-tsushin', 'dokujo-tsushin', 'dokujo-tsushin', 'dokujo-tsushin', 'dokujo-tsushin', 'dokujo-tsushin', 'dokujo-tsushin', 'dokujo-tsushin', 'dokujo-tsushin', 'dokujo-tsushin', 'dokujo-tsushin', 'dokujo-tsushin', 'dokujo-tsushin', 'dokujo-tsushin', 'dokujo-tsushin', 'dokujo-tsushin', 'dokujo-tsushin', 'dokujo-tsushin', 'dokujo-tsushin', 'dokujo-tsushin', 'dokujo-tsushin', 'dokujo-tsushin', 'dokujo-tsushin', 'dokujo-tsushin', 'dokujo-tsushin', 'dokujo-tsushin', 'dokujo-tsushin', 'dokujo-tsushin', 'dokujo-tsushin', 'dokujo-tsushin', 'dokujo-tsushin', 'dokujo-tsushin', 'dokujo-tsushin', 'dokujo-tsushin', 'dokujo-tsushin', 'dokujo-tsushin', 'dokujo-tsushin', 'dokujo-tsushin', 'dokujo-tsushin', 'dokujo-tsushin', 'dokujo-tsushin', 'dokujo-tsushin', 'dokujo-tsushin', 'dokujo-tsushin', 'dokujo-tsushin', 'dokujo-tsushin', 'dokujo-tsushin', 'dokujo-tsushin', 'dokujo-tsushin', 'dokujo-tsushin', 'dokujo-tsushin', 'dokujo-tsushin', 'dokujo-tsushin', 'dokujo-tsushin', 'dokujo-tsushin', 'dokujo-tsushin', 'dokujo-tsushin', 'dokujo-tsushin', 'dokujo-tsushin', 'dokujo-tsushin', 'dokujo-tsushin', 'dokujo-tsushin', 'dokujo-tsushin', 'dokujo-tsushin', 'dokujo-tsushin', 'dokujo-tsushin', 'dokujo-tsushin', 'dokujo-tsushin', 'dokujo-tsushin', 'dokujo-tsushin', 'dokujo-tsushin', 'dokujo-tsushin', 'dokujo-tsushin', 'dokujo-tsushin', 'dokujo-tsushin', 'dokujo-tsushin', 'dokujo-tsushin', 'dokujo-tsushin', 'dokujo-tsushin', 'dokujo-tsushin', 'dokujo-tsushin', 'dokujo-tsushin', 'dokujo-tsushin', 'dokujo-tsushin', 'dokujo-tsushin', 'dokujo-tsushin', 'dokujo-tsushin', 'dokujo-tsushin', 'dokujo-tsushin', 'dokujo-tsushin', 'dokujo-tsushin', 'dokujo-tsushin', 'dokujo-tsushin', 'dokujo-tsushin', 'dokujo-tsushin', 'dokujo-tsushin', 'dokujo-tsushin', 'dokujo-tsushin', 'dokujo-tsushin', 'dokujo-tsushin', 'dokujo-tsushin', 'dokujo-tsushin', 'dokujo-tsushin', 'dokujo-tsushin', 'dokujo-tsushin', 'dokujo-tsushin', 'dokujo-tsushin', 'dokujo-tsushin', 'dokujo-tsushin', 'dokujo-tsushin', 'dokujo-tsushin', 'dokujo-tsushin', 'dokujo-tsushin', 'dokujo-tsushin', 'dokujo-tsushin', 'dokujo-tsushin', 'dokujo-tsushin', 'dokujo-tsushin', 'dokujo-tsushin', 'dokujo-tsushin', 'dokujo-tsushin', 'dokujo-tsushin', 'dokujo-tsushin', 'dokujo-tsushin', 'dokujo-tsushin', 'dokujo-tsushin', 'dokujo-tsushin', 'dokujo-tsushin', 'dokujo-tsushin', 'dokujo-tsushin', 'dokujo-tsushin', 'dokujo-tsushin', 'dokujo-tsushin', 'dokujo-tsushin', 'dokujo-tsushin', 'dokujo-tsushin', 'dokujo-tsushin', 'dokujo-tsushin', 'dokujo-tsushin', 'dokujo-tsushin', 'dokujo-tsushin', 'dokujo-tsushin', 'dokujo-tsushin', 'dokujo-tsushin', 'dokujo-tsushin', 'dokujo-tsushin', 'dokujo-tsushin', 'dokujo-tsushin', 'dokujo-tsushin', 'dokujo-tsushin', 'dokujo-tsushin', 'dokujo-tsushin', 'dokujo-tsushin', 'dokujo-tsushin', 'dokujo-tsushin', 'dokujo-tsushin', 'dokujo-tsushin', 'dokujo-tsushin', 'dokujo-tsushin', 'dokujo-tsushin', 'dokujo-tsushin', 'dokujo-tsushin', 'dokujo-tsushin', 'dokujo-tsushin', 'dokujo-tsushin', 'dokujo-tsushin', 'dokujo-tsushin', 'dokujo-tsushin', 'dokujo-tsushin', 'dokujo-tsushin', 'dokujo-tsushin', 'dokujo-tsushin', 'dokujo-tsushin', 'dokujo-tsushin', 'dokujo-tsushin', 'dokujo-tsushin', 'dokujo-tsushin', 'dokujo-tsushin', 'dokujo-tsushin', 'dokujo-tsushin', 'dokujo-tsushin', 'dokujo-tsushin', 'dokujo-tsushin', 'dokujo-tsushin', 'dokujo-tsushin', 'dokujo-tsushin', 'dokujo-tsushin', 'dokujo-tsushin', 'dokujo-tsushin', 'dokujo-tsushin', 'dokujo-tsushin', 'dokujo-tsushin', 'dokujo-tsushin', 'dokujo-tsushin', 'dokujo-tsushin', 'dokujo-tsushin', 'dokujo-tsushin', 'dokujo-tsushin', 'dokujo-tsushin', 'dokujo-tsushin', 'dokujo-tsushin', 'dokujo-tsushin', 'dokujo-tsushin', 'dokujo-tsushin', 'dokujo-tsushin', 'dokujo-tsushin', 'dokujo-tsushin', 'dokujo-tsushin', 'dokujo-tsushin', 'dokujo-tsushin', 'dokujo-tsushin', 'dokujo-tsushin', 'dokujo-tsushin', 'dokujo-tsushin', 'dokujo-tsushin', 'dokujo-tsushin', 'dokujo-tsushin', 'dokujo-tsushin', 'dokujo-tsushin', 'dokujo-tsushin', 'dokujo-tsushin', 'dokujo-tsushin', 'dokujo-tsushin', 'dokujo-tsushin', 'dokujo-tsushin', 'dokujo-tsushin', 'dokujo-tsushin', 'dokujo-tsushin', 'dokujo-tsushin', 'dokujo-tsushin', 'dokujo-tsushin', 'dokujo-tsushin', 'dokujo-tsushin', 'dokujo-tsushin', 'dokujo-tsushin', 'dokujo-tsushin', 'dokujo-tsushin', 'dokujo-tsushin', 'dokujo-tsushin', 'dokujo-tsushin', 'dokujo-tsushin', 'dokujo-tsushin', 'dokujo-tsushin', 'dokujo-tsushin', 'dokujo-tsushin', 'dokujo-tsushin', 'dokujo-tsushin', 'dokujo-tsushin', 'dokujo-tsushin', 'dokujo-tsushin', 'dokujo-tsushin', 'dokujo-tsushin', 'dokujo-tsushin', 'dokujo-tsushin', 'dokujo-tsushin', 'it-life-hack', 'it-life-hack', 'it-life-hack', 'it-life-hack', 'it-life-hack', 'it-life-hack', 'it-life-hack', 'it-life-hack', 'it-life-hack', 'it-life-hack', 'it-life-hack', 'it-life-hack', 'it-life-hack', 'it-life-hack', 'it-life-hack', 'it-life-hack', 'it-life-hack', 'it-life-hack', 'it-life-hack', 'it-life-hack', 'it-life-hack', 'it-life-hack', 'it-life-hack', 'it-life-hack', 'it-life-hack', 'it-life-hack', 'it-life-hack', 'it-life-hack', 'it-life-hack', 'it-life-hack', 'it-life-hack', 'it-life-hack', 'it-life-hack', 'it-life-hack', 'it-life-hack', 'it-life-hack', 'it-life-hack', 'it-life-hack', 'it-life-hack', 'it-life-hack', 'it-life-hack', 'it-life-hack', 'it-life-hack', 'it-life-hack', 'it-life-hack', 'it-life-hack', 'it-life-hack', 'it-life-hack', 'it-life-hack', 'it-life-hack', 'it-life-hack', 'it-life-hack', 'it-life-hack', 'it-life-hack', 'it-life-hack', 'it-life-hack', 'it-life-hack', 'it-life-hack', 'it-life-hack', 'it-life-hack', 'it-life-hack', 'it-life-hack', 'it-life-hack', 'it-life-hack', 'it-life-hack', 'it-life-hack', 'it-life-hack', 'it-life-hack', 'it-life-hack', 'it-life-hack', 'it-life-hack', 'it-life-hack', 'it-life-hack', 'it-life-hack', 'it-life-hack', 'it-life-hack', 'it-life-hack', 'it-life-hack', 'it-life-hack', 'it-life-hack', 'it-life-hack', 'it-life-hack', 'it-life-hack', 'it-life-hack', 'it-life-hack', 'it-life-hack', 'it-life-hack', 'it-life-hack', 'it-life-hack', 'it-life-hack', 'it-life-hack', 'it-life-hack', 'it-life-hack', 'it-life-hack', 'it-life-hack', 'it-life-hack', 'it-life-hack', 'it-life-hack', 'it-life-hack', 'it-life-hack', 'it-life-hack', 'it-life-hack', 'it-life-hack', 'it-life-hack', 'it-life-hack', 'it-life-hack', 'it-life-hack', 'it-life-hack', 'it-life-hack', 'it-life-hack', 'it-life-hack', 'it-life-hack', 'it-life-hack', 'it-life-hack', 'it-life-hack', 'it-life-hack', 'it-life-hack', 'it-life-hack', 'it-life-hack', 'it-life-hack', 'it-life-hack', 'it-life-hack', 'it-life-hack', 'it-life-hack', 'it-life-hack', 'it-life-hack', 'it-life-hack', 'it-life-hack', 'it-life-hack', 'it-life-hack', 'it-life-hack', 'it-life-hack', 'it-life-hack', 'it-life-hack', 'it-life-hack', 'it-life-hack', 'it-life-hack', 'it-life-hack', 'it-life-hack', 'it-life-hack', 'it-life-hack', 'it-life-hack', 'it-life-hack', 'it-life-hack', 'it-life-hack', 'it-life-hack', 'it-life-hack', 'it-life-hack', 'it-life-hack', 'it-life-hack', 'it-life-hack', 'it-life-hack', 'it-life-hack', 'it-life-hack', 'it-life-hack', 'it-life-hack', 'it-life-hack', 'it-life-hack', 'it-life-hack', 'it-life-hack', 'it-life-hack', 'it-life-hack', 'it-life-hack', 'it-life-hack', 'it-life-hack', 'it-life-hack', 'it-life-hack', 'it-life-hack', 'it-life-hack', 'it-life-hack', 'it-life-hack', 'it-life-hack', 'it-life-hack', 'it-life-hack', 'it-life-hack', 'it-life-hack', 'it-life-hack', 'it-life-hack', 'it-life-hack', 'it-life-hack', 'it-life-hack', 'it-life-hack', 'it-life-hack', 'it-life-hack', 'it-life-hack', 'it-life-hack', 'it-life-hack', 'it-life-hack', 'it-life-hack', 'it-life-hack', 'it-life-hack', 'it-life-hack', 'it-life-hack', 'it-life-hack', 'it-life-hack', 'it-life-hack', 'it-life-hack', 'it-life-hack', 'it-life-hack', 'it-life-hack', 'it-life-hack', 'it-life-hack', 'it-life-hack', 'it-life-hack', 'it-life-hack', 'it-life-hack', 'it-life-hack', 'it-life-hack', 'it-life-hack', 'it-life-hack', 'it-life-hack', 'it-life-hack', 'it-life-hack', 'it-life-hack', 'it-life-hack', 'it-life-hack', 'it-life-hack', 'it-life-hack', 'it-life-hack', 'it-life-hack', 'it-life-hack', 'it-life-hack', 'it-life-hack', 'it-life-hack', 'it-life-hack', 'it-life-hack', 'it-life-hack', 'it-life-hack', 'it-life-hack', 'it-life-hack', 'it-life-hack', 'it-life-hack', 'it-life-hack', 'it-life-hack', 'it-life-hack', 'it-life-hack', 'it-life-hack', 'it-life-hack', 'it-life-hack', 'it-life-hack', 'it-life-hack', 'it-life-hack', 'it-life-hack', 'it-life-hack', 'it-life-hack', 'it-life-hack', 'it-life-hack', 'it-life-hack', 'it-life-hack', 'it-life-hack', 'it-life-hack', 'it-life-hack', 'it-life-hack', 'it-life-hack', 'it-life-hack', 'it-life-hack', 'it-life-hack', 'it-life-hack', 'it-life-hack', 'it-life-hack', 'it-life-hack', 'it-life-hack', 'it-life-hack', 'it-life-hack', 'it-life-hack', 'it-life-hack', 'it-life-hack', 'it-life-hack', 'it-life-hack', 'it-life-hack', 'it-life-hack', 'it-life-hack', 'it-life-hack', 'it-life-hack', 'it-life-hack', 'it-life-hack', 'it-life-hack', 'it-life-hack', 'it-life-hack', 'it-life-hack', 'it-life-hack', 'it-life-hack', 'it-life-hack', 'it-life-hack', 'it-life-hack', 'it-life-hack', 'it-life-hack', 'it-life-hack', 'it-life-hack', 'it-life-hack', 'it-life-hack', 'it-life-hack', 'it-life-hack', 'it-life-hack', 'it-life-hack', 'it-life-hack', 'it-life-hack', 'it-life-hack', 'it-life-hack', 'it-life-hack', 'it-life-hack', 'it-life-hack', 'it-life-hack', 'it-life-hack', 'it-life-hack', 'it-life-hack', 'it-life-hack', 'it-life-hack', 'it-life-hack', 'it-life-hack', 'it-life-hack', 'it-life-hack', 'it-life-hack', 'it-life-hack', 'it-life-hack', 'it-life-hack', 'it-life-hack', 'it-life-hack', 'it-life-hack', 'it-life-hack', 'it-life-hack', 'it-life-hack', 'it-life-hack', 'it-life-hack', 'it-life-hack', 'it-life-hack', 'it-life-hack', 'it-life-hack', 'it-life-hack', 'it-life-hack', 'it-life-hack', 'it-life-hack', 'it-life-hack', 'it-life-hack', 'it-life-hack', 'it-life-hack', 'it-life-hack', 'it-life-hack', 'it-life-hack', 'it-life-hack', 'it-life-hack', 'it-life-hack', 'it-life-hack', 'it-life-hack', 'it-life-hack', 'it-life-hack', 'it-life-hack', 'it-life-hack', 'it-life-hack', 'it-life-hack', 'it-life-hack', 'it-life-hack', 'it-life-hack', 'it-life-hack', 'it-life-hack', 'it-life-hack', 'it-life-hack', 'it-life-hack', 'it-life-hack', 'it-life-hack', 'it-life-hack', 'it-life-hack', 'it-life-hack', 'it-life-hack', 'it-life-hack', 'it-life-hack', 'it-life-hack', 'it-life-hack', 'it-life-hack', 'it-life-hack', 'it-life-hack', 'it-life-hack', 'it-life-hack', 'it-life-hack', 'it-life-hack', 'it-life-hack', 'it-life-hack', 'it-life-hack', 'it-life-hack', 'it-life-hack', 'it-life-hack', 'it-life-hack', 'it-life-hack', 'it-life-hack', 'it-life-hack', 'it-life-hack', 'it-life-hack', 'it-life-hack', 'it-life-hack', 'it-life-hack', 'it-life-hack', 'it-life-hack', 'it-life-hack', 'it-life-hack', 'it-life-hack', 'it-life-hack', 'it-life-hack', 'it-life-hack', 'it-life-hack', 'it-life-hack', 'it-life-hack', 'it-life-hack', 'it-life-hack', 'it-life-hack', 'it-life-hack', 'it-life-hack', 'it-life-hack', 'it-life-hack', 'it-life-hack', 'it-life-hack', 'it-life-hack', 'it-life-hack', 'it-life-hack', 'it-life-hack', 'it-life-hack', 'it-life-hack', 'it-life-hack', 'it-life-hack', 'it-life-hack', 'it-life-hack', 'it-life-hack', 'it-life-hack', 'it-life-hack', 'it-life-hack', 'it-life-hack', 'it-life-hack', 'it-life-hack', 'it-life-hack', 'it-life-hack', 'it-life-hack', 'it-life-hack', 'it-life-hack', 'it-life-hack', 'it-life-hack', 'it-life-hack', 'it-life-hack', 'it-life-hack', 'it-life-hack', 'it-life-hack', 'it-life-hack', 'it-life-hack', 'it-life-hack', 'it-life-hack', 'it-life-hack', 'it-life-hack', 'it-life-hack', 'it-life-hack', 'it-life-hack', 'it-life-hack', 'it-life-hack', 'it-life-hack', 'it-life-hack', 'it-life-hack', 'it-life-hack', 'it-life-hack', 'it-life-hack', 'it-life-hack', 'it-life-hack', 'it-life-hack', 'it-life-hack', 'it-life-hack', 'it-life-hack', 'it-life-hack', 'it-life-hack', 'it-life-hack', 'it-life-hack', 'it-life-hack', 'it-life-hack', 'it-life-hack', 'it-life-hack', 'it-life-hack', 'it-life-hack', 'it-life-hack', 'it-life-hack', 'it-life-hack', 'it-life-hack', 'it-life-hack', 'it-life-hack', 'it-life-hack', 'it-life-hack', 'it-life-hack', 'it-life-hack', 'it-life-hack', 'it-life-hack', 'it-life-hack', 'it-life-hack', 'it-life-hack', 'it-life-hack', 'it-life-hack', 'it-life-hack', 'it-life-hack', 'it-life-hack', 'it-life-hack', 'it-life-hack', 'it-life-hack', 'it-life-hack', 'it-life-hack', 'it-life-hack', 'it-life-hack', 'it-life-hack', 'it-life-hack', 'it-life-hack', 'it-life-hack', 'it-life-hack', 'it-life-hack', 'it-life-hack', 'it-life-hack', 'it-life-hack', 'it-life-hack', 'it-life-hack', 'it-life-hack', 'it-life-hack', 'it-life-hack', 'it-life-hack', 'it-life-hack', 'it-life-hack', 'it-life-hack', 'it-life-hack', 'it-life-hack', 'it-life-hack', 'it-life-hack', 'it-life-hack', 'it-life-hack', 'it-life-hack', 'it-life-hack', 'it-life-hack', 'it-life-hack', 'it-life-hack', 'it-life-hack', 'it-life-hack', 'it-life-hack', 'it-life-hack', 'it-life-hack', 'it-life-hack', 'it-life-hack', 'it-life-hack', 'it-life-hack', 'it-life-hack', 'it-life-hack', 'it-life-hack', 'it-life-hack', 'it-life-hack', 'it-life-hack', 'it-life-hack', 'it-life-hack', 'it-life-hack', 'it-life-hack', 'it-life-hack', 'it-life-hack', 'it-life-hack', 'it-life-hack', 'it-life-hack', 'it-life-hack', 'it-life-hack', 'it-life-hack', 'it-life-hack', 'it-life-hack', 'it-life-hack', 'it-life-hack', 'it-life-hack', 'it-life-hack', 'it-life-hack', 'it-life-hack', 'it-life-hack', 'it-life-hack', 'it-life-hack', 'it-life-hack', 'it-life-hack', 'it-life-hack', 'it-life-hack', 'it-life-hack', 'it-life-hack', 'it-life-hack', 'it-life-hack', 'it-life-hack', 'it-life-hack', 'it-life-hack', 'it-life-hack', 'it-life-hack', 'it-life-hack', 'it-life-hack', 'it-life-hack', 'it-life-hack', 'it-life-hack', 'it-life-hack', 'it-life-hack', 'it-life-hack', 'it-life-hack', 'it-life-hack', 'it-life-hack', 'it-life-hack', 'it-life-hack', 'it-life-hack', 'it-life-hack', 'it-life-hack', 'it-life-hack', 'it-life-hack', 'it-life-hack', 'it-life-hack', 'it-life-hack', 'it-life-hack', 'it-life-hack', 'it-life-hack', 'it-life-hack', 'it-life-hack', 'it-life-hack', 'it-life-hack', 'it-life-hack', 'it-life-hack', 'it-life-hack', 'it-life-hack', 'it-life-hack', 'it-life-hack', 'it-life-hack', 'it-life-hack', 'it-life-hack', 'it-life-hack', 'it-life-hack', 'it-life-hack', 'it-life-hack', 'it-life-hack', 'it-life-hack', 'it-life-hack', 'it-life-hack', 'it-life-hack', 'it-life-hack', 'it-life-hack', 'it-life-hack', 'it-life-hack', 'it-life-hack', 'it-life-hack', 'it-life-hack', 'it-life-hack', 'it-life-hack', 'it-life-hack', 'it-life-hack', 'it-life-hack', 'it-life-hack', 'it-life-hack', 'it-life-hack', 'it-life-hack', 'it-life-hack', 'it-life-hack', 'it-life-hack', 'it-life-hack', 'it-life-hack', 'it-life-hack', 'it-life-hack', 'it-life-hack', 'it-life-hack', 'it-life-hack', 'it-life-hack', 'it-life-hack', 'it-life-hack', 'it-life-hack', 'it-life-hack', 'it-life-hack', 'it-life-hack', 'it-life-hack', 'it-life-hack', 'it-life-hack', 'it-life-hack', 'it-life-hack', 'it-life-hack', 'it-life-hack', 'it-life-hack', 'it-life-hack', 'it-life-hack', 'it-life-hack', 'it-life-hack', 'it-life-hack', 'it-life-hack', 'it-life-hack', 'it-life-hack', 'it-life-hack', 'it-life-hack', 'it-life-hack', 'it-life-hack', 'it-life-hack', 'it-life-hack', 'it-life-hack', 'it-life-hack', 'it-life-hack', 'it-life-hack', 'it-life-hack', 'it-life-hack', 'it-life-hack', 'it-life-hack', 'it-life-hack', 'it-life-hack', 'it-life-hack', 'it-life-hack', 'it-life-hack', 'it-life-hack', 'it-life-hack', 'it-life-hack', 'it-life-hack', 'it-life-hack', 'it-life-hack', 'it-life-hack', 'it-life-hack', 'it-life-hack', 'it-life-hack', 'it-life-hack', 'it-life-hack', 'it-life-hack', 'it-life-hack', 'it-life-hack', 'it-life-hack', 'it-life-hack', 'it-life-hack', 'it-life-hack', 'it-life-hack', 'it-life-hack', 'it-life-hack', 'it-life-hack', 'it-life-hack', 'it-life-hack', 'it-life-hack', 'it-life-hack', 'it-life-hack', 'it-life-hack', 'it-life-hack', 'it-life-hack', 'it-life-hack', 'it-life-hack', 'it-life-hack', 'it-life-hack', 'it-life-hack', 'it-life-hack', 'it-life-hack', 'it-life-hack', 'it-life-hack', 'it-life-hack', 'it-life-hack', 'it-life-hack', 'it-life-hack', 'it-life-hack', 'it-life-hack', 'it-life-hack', 'it-life-hack', 'it-life-hack', 'it-life-hack', 'it-life-hack', 'it-life-hack', 'it-life-hack', 'it-life-hack', 'it-life-hack', 'it-life-hack', 'it-life-hack', 'it-life-hack', 'it-life-hack', 'it-life-hack', 'it-life-hack', 'it-life-hack', 'it-life-hack', 'it-life-hack', 'it-life-hack', 'it-life-hack', 'it-life-hack', 'it-life-hack', 'it-life-hack', 'it-life-hack', 'it-life-hack', 'it-life-hack', 'it-life-hack', 'it-life-hack', 'it-life-hack', 'it-life-hack', 'it-life-hack', 'it-life-hack', 'it-life-hack', 'it-life-hack', 'it-life-hack', 'it-life-hack', 'it-life-hack', 'it-life-hack', 'it-life-hack', 'it-life-hack', 'it-life-hack', 'it-life-hack', 'it-life-hack', 'it-life-hack', 'it-life-hack', 'it-life-hack', 'it-life-hack', 'it-life-hack', 'it-life-hack', 'it-life-hack', 'it-life-hack', 'it-life-hack', 'it-life-hack', 'it-life-hack', 'it-life-hack', 'it-life-hack', 'it-life-hack', 'it-life-hack', 'it-life-hack', 'it-life-hack', 'it-life-hack', 'it-life-hack', 'it-life-hack', 'it-life-hack', 'it-life-hack', 'it-life-hack', 'it-life-hack', 'it-life-hack', 'it-life-hack', 'it-life-hack', 'it-life-hack', 'it-life-hack', 'it-life-hack', 'it-life-hack', 'it-life-hack', 'it-life-hack', 'it-life-hack', 'it-life-hack', 'it-life-hack', 'it-life-hack', 'it-life-hack', 'it-life-hack', 'it-life-hack', 'it-life-hack', 'it-life-hack', 'it-life-hack', 'it-life-hack', 'it-life-hack', 'it-life-hack', 'it-life-hack', 'it-life-hack', 'it-life-hack', 'it-life-hack', 'it-life-hack', 'it-life-hack', 'it-life-hack', 'it-life-hack', 'it-life-hack', 'it-life-hack', 'it-life-hack', 'it-life-hack', 'it-life-hack', 'it-life-hack', 'it-life-hack', 'it-life-hack', 'it-life-hack', 'it-life-hack', 'it-life-hack', 'it-life-hack', 'it-life-hack', 'it-life-hack', 'it-life-hack', 'it-life-hack', 'it-life-hack', 'it-life-hack', 'it-life-hack', 'it-life-hack', 'it-life-hack', 'it-life-hack', 'it-life-hack', 'it-life-hack', 'it-life-hack', 'it-life-hack', 'it-life-hack', 'it-life-hack', 'it-life-hack', 'it-life-hack', 'it-life-hack', 'it-life-hack', 'it-life-hack', 'it-life-hack', 'kaden-channel', 'kaden-channel', 'kaden-channel', 'kaden-channel', 'kaden-channel', 'kaden-channel', 'kaden-channel', 'kaden-channel', 'kaden-channel', 'kaden-channel', 'kaden-channel', 'kaden-channel', 'kaden-channel', 'kaden-channel', 'kaden-channel', 'kaden-channel', 'kaden-channel', 'kaden-channel', 'kaden-channel', 'kaden-channel', 'kaden-channel', 'kaden-channel', 'kaden-channel', 'kaden-channel', 'kaden-channel', 'kaden-channel', 'kaden-channel', 'kaden-channel', 'kaden-channel', 'kaden-channel', 'kaden-channel', 'kaden-channel', 'kaden-channel', 'kaden-channel', 'kaden-channel', 'kaden-channel', 'kaden-channel', 'kaden-channel', 'kaden-channel', 'kaden-channel', 'kaden-channel', 'kaden-channel', 'kaden-channel', 'kaden-channel', 'kaden-channel', 'kaden-channel', 'kaden-channel', 'kaden-channel', 'kaden-channel', 'kaden-channel', 'kaden-channel', 'kaden-channel', 'kaden-channel', 'kaden-channel', 'kaden-channel', 'kaden-channel', 'kaden-channel', 'kaden-channel', 'kaden-channel', 'kaden-channel', 'kaden-channel', 'kaden-channel', 'kaden-channel', 'kaden-channel', 'kaden-channel', 'kaden-channel', 'kaden-channel', 'kaden-channel', 'kaden-channel', 'kaden-channel', 'kaden-channel', 'kaden-channel', 'kaden-channel', 'kaden-channel', 'kaden-channel', 'kaden-channel', 'kaden-channel', 'kaden-channel', 'kaden-channel', 'kaden-channel', 'kaden-channel', 'kaden-channel', 'kaden-channel', 'kaden-channel', 'kaden-channel', 'kaden-channel', 'kaden-channel', 'kaden-channel', 'kaden-channel', 'kaden-channel', 'kaden-channel', 'kaden-channel', 'kaden-channel', 'kaden-channel', 'kaden-channel', 'kaden-channel', 'kaden-channel', 'kaden-channel', 'kaden-channel', 'kaden-channel', 'kaden-channel', 'kaden-channel', 'kaden-channel', 'kaden-channel', 'kaden-channel', 'kaden-channel', 'kaden-channel', 'kaden-channel', 'kaden-channel', 'kaden-channel', 'kaden-channel', 'kaden-channel', 'kaden-channel', 'kaden-channel', 'kaden-channel', 'kaden-channel', 'kaden-channel', 'kaden-channel', 'kaden-channel', 'kaden-channel', 'kaden-channel', 'kaden-channel', 'kaden-channel', 'kaden-channel', 'kaden-channel', 'kaden-channel', 'kaden-channel', 'kaden-channel', 'kaden-channel', 'kaden-channel', 'kaden-channel', 'kaden-channel', 'kaden-channel', 'kaden-channel', 'kaden-channel', 'kaden-channel', 'kaden-channel', 'kaden-channel', 'kaden-channel', 'kaden-channel', 'kaden-channel', 'kaden-channel', 'kaden-channel', 'kaden-channel', 'kaden-channel', 'kaden-channel', 'kaden-channel', 'kaden-channel', 'kaden-channel', 'kaden-channel', 'kaden-channel', 'kaden-channel', 'kaden-channel', 'kaden-channel', 'kaden-channel', 'kaden-channel', 'kaden-channel', 'kaden-channel', 'kaden-channel', 'kaden-channel', 'kaden-channel', 'kaden-channel', 'kaden-channel', 'kaden-channel', 'kaden-channel', 'kaden-channel', 'kaden-channel', 'kaden-channel', 'kaden-channel', 'kaden-channel', 'kaden-channel', 'kaden-channel', 'kaden-channel', 'kaden-channel', 'kaden-channel', 'kaden-channel', 'kaden-channel', 'kaden-channel', 'kaden-channel', 'kaden-channel', 'kaden-channel', 'kaden-channel', 'kaden-channel', 'kaden-channel', 'kaden-channel', 'kaden-channel', 'kaden-channel', 'kaden-channel', 'kaden-channel', 'kaden-channel', 'kaden-channel', 'kaden-channel', 'kaden-channel', 'kaden-channel', 'kaden-channel', 'kaden-channel', 'kaden-channel', 'kaden-channel', 'kaden-channel', 'kaden-channel', 'kaden-channel', 'kaden-channel', 'kaden-channel', 'kaden-channel', 'kaden-channel', 'kaden-channel', 'kaden-channel', 'kaden-channel', 'kaden-channel', 'kaden-channel', 'kaden-channel', 'kaden-channel', 'kaden-channel', 'kaden-channel', 'kaden-channel', 'kaden-channel', 'kaden-channel', 'kaden-channel', 'kaden-channel', 'kaden-channel', 'kaden-channel', 'kaden-channel', 'kaden-channel', 'kaden-channel', 'kaden-channel', 'kaden-channel', 'kaden-channel', 'kaden-channel', 'kaden-channel', 'kaden-channel', 'kaden-channel', 'kaden-channel', 'kaden-channel', 'kaden-channel', 'kaden-channel', 'kaden-channel', 'kaden-channel', 'kaden-channel', 'kaden-channel', 'kaden-channel', 'kaden-channel', 'kaden-channel', 'kaden-channel', 'kaden-channel', 'kaden-channel', 'kaden-channel', 'kaden-channel', 'kaden-channel', 'kaden-channel', 'kaden-channel', 'kaden-channel', 'kaden-channel', 'kaden-channel', 'kaden-channel', 'kaden-channel', 'kaden-channel', 'kaden-channel', 'kaden-channel', 'kaden-channel', 'kaden-channel', 'kaden-channel', 'kaden-channel', 'kaden-channel', 'kaden-channel', 'kaden-channel', 'kaden-channel', 'kaden-channel', 'kaden-channel', 'kaden-channel', 'kaden-channel', 'kaden-channel', 'kaden-channel', 'kaden-channel', 'kaden-channel', 'kaden-channel', 'kaden-channel', 'kaden-channel', 'kaden-channel', 'kaden-channel', 'kaden-channel', 'kaden-channel', 'kaden-channel', 'kaden-channel', 'kaden-channel', 'kaden-channel', 'kaden-channel', 'kaden-channel', 'kaden-channel', 'kaden-channel', 'kaden-channel', 'kaden-channel', 'kaden-channel', 'kaden-channel', 'kaden-channel', 'kaden-channel', 'kaden-channel', 'kaden-channel', 'kaden-channel', 'kaden-channel', 'kaden-channel', 'kaden-channel', 'kaden-channel', 'kaden-channel', 'kaden-channel', 'kaden-channel', 'kaden-channel', 'kaden-channel', 'kaden-channel', 'kaden-channel', 'kaden-channel', 'kaden-channel', 'kaden-channel', 'kaden-channel', 'kaden-channel', 'kaden-channel', 'kaden-channel', 'kaden-channel', 'kaden-channel', 'kaden-channel', 'kaden-channel', 'kaden-channel', 'kaden-channel', 'kaden-channel', 'kaden-channel', 'kaden-channel', 'kaden-channel', 'kaden-channel', 'kaden-channel', 'kaden-channel', 'kaden-channel', 'kaden-channel', 'kaden-channel', 'kaden-channel', 'kaden-channel', 'kaden-channel', 'kaden-channel', 'kaden-channel', 'kaden-channel', 'kaden-channel', 'kaden-channel', 'kaden-channel', 'kaden-channel', 'kaden-channel', 'kaden-channel', 'kaden-channel', 'kaden-channel', 'kaden-channel', 'kaden-channel', 'kaden-channel', 'kaden-channel', 'kaden-channel', 'kaden-channel', 'kaden-channel', 'kaden-channel', 'kaden-channel', 'kaden-channel', 'kaden-channel', 'kaden-channel', 'kaden-channel', 'kaden-channel', 'kaden-channel', 'kaden-channel', 'kaden-channel', 'kaden-channel', 'kaden-channel', 'kaden-channel', 'kaden-channel', 'kaden-channel', 'kaden-channel', 'kaden-channel', 'kaden-channel', 'kaden-channel', 'kaden-channel', 'kaden-channel', 'kaden-channel', 'kaden-channel', 'kaden-channel', 'kaden-channel', 'kaden-channel', 'kaden-channel', 'kaden-channel', 'kaden-channel', 'kaden-channel', 'kaden-channel', 'kaden-channel', 'kaden-channel', 'kaden-channel', 'kaden-channel', 'kaden-channel', 'kaden-channel', 'kaden-channel', 'kaden-channel', 'kaden-channel', 'kaden-channel', 'kaden-channel', 'kaden-channel', 'kaden-channel', 'kaden-channel', 'kaden-channel', 'kaden-channel', 'kaden-channel', 'kaden-channel', 'kaden-channel', 'kaden-channel', 'kaden-channel', 'kaden-channel', 'kaden-channel', 'kaden-channel', 'kaden-channel', 'kaden-channel', 'kaden-channel', 'kaden-channel', 'kaden-channel', 'kaden-channel', 'kaden-channel', 'kaden-channel', 'kaden-channel', 'kaden-channel', 'kaden-channel', 'kaden-channel', 'kaden-channel', 'kaden-channel', 'kaden-channel', 'kaden-channel', 'kaden-channel', 'kaden-channel', 'kaden-channel', 'kaden-channel', 'kaden-channel', 'kaden-channel', 'kaden-channel', 'kaden-channel', 'kaden-channel', 'kaden-channel', 'kaden-channel', 'kaden-channel', 'kaden-channel', 'kaden-channel', 'kaden-channel', 'kaden-channel', 'kaden-channel', 'kaden-channel', 'kaden-channel', 'kaden-channel', 'kaden-channel', 'kaden-channel', 'kaden-channel', 'kaden-channel', 'kaden-channel', 'kaden-channel', 'kaden-channel', 'kaden-channel', 'kaden-channel', 'kaden-channel', 'kaden-channel', 'kaden-channel', 'kaden-channel', 'kaden-channel', 'kaden-channel', 'kaden-channel', 'kaden-channel', 'kaden-channel', 'kaden-channel', 'kaden-channel', 'kaden-channel', 'kaden-channel', 'kaden-channel', 'kaden-channel', 'kaden-channel', 'kaden-channel', 'kaden-channel', 'kaden-channel', 'kaden-channel', 'kaden-channel', 'kaden-channel', 'kaden-channel', 'kaden-channel', 'kaden-channel', 'kaden-channel', 'kaden-channel', 'kaden-channel', 'kaden-channel', 'kaden-channel', 'kaden-channel', 'kaden-channel', 'kaden-channel', 'kaden-channel', 'kaden-channel', 'kaden-channel', 'kaden-channel', 'kaden-channel', 'kaden-channel', 'kaden-channel', 'kaden-channel', 'kaden-channel', 'kaden-channel', 'kaden-channel', 'kaden-channel', 'kaden-channel', 'kaden-channel', 'kaden-channel', 'kaden-channel', 'kaden-channel', 'kaden-channel', 'kaden-channel', 'kaden-channel', 'kaden-channel', 'kaden-channel', 'kaden-channel', 'kaden-channel', 'kaden-channel', 'kaden-channel', 'kaden-channel', 'kaden-channel', 'kaden-channel', 'kaden-channel', 'kaden-channel', 'kaden-channel', 'kaden-channel', 'kaden-channel', 'kaden-channel', 'kaden-channel', 'kaden-channel', 'kaden-channel', 'kaden-channel', 'kaden-channel', 'kaden-channel', 'kaden-channel', 'kaden-channel', 'kaden-channel', 'kaden-channel', 'kaden-channel', 'kaden-channel', 'kaden-channel', 'kaden-channel', 'kaden-channel', 'kaden-channel', 'kaden-channel', 'kaden-channel', 'kaden-channel', 'kaden-channel', 'kaden-channel', 'kaden-channel', 'kaden-channel', 'kaden-channel', 'kaden-channel', 'kaden-channel', 'kaden-channel', 'kaden-channel', 'kaden-channel', 'kaden-channel', 'kaden-channel', 'kaden-channel', 'kaden-channel', 'kaden-channel', 'kaden-channel', 'kaden-channel', 'kaden-channel', 'kaden-channel', 'kaden-channel', 'kaden-channel', 'kaden-channel', 'kaden-channel', 'kaden-channel', 'kaden-channel', 'kaden-channel', 'kaden-channel', 'kaden-channel', 'kaden-channel', 'kaden-channel', 'kaden-channel', 'kaden-channel', 'kaden-channel', 'kaden-channel', 'kaden-channel', 'kaden-channel', 'kaden-channel', 'kaden-channel', 'kaden-channel', 'kaden-channel', 'kaden-channel', 'kaden-channel', 'kaden-channel', 'kaden-channel', 'kaden-channel', 'kaden-channel', 'kaden-channel', 'kaden-channel', 'kaden-channel', 'kaden-channel', 'kaden-channel', 'kaden-channel', 'kaden-channel', 'kaden-channel', 'kaden-channel', 'kaden-channel', 'kaden-channel', 'kaden-channel', 'kaden-channel', 'kaden-channel', 'kaden-channel', 'kaden-channel', 'kaden-channel', 'kaden-channel', 'kaden-channel', 'kaden-channel', 'kaden-channel', 'kaden-channel', 'kaden-channel', 'kaden-channel', 'kaden-channel', 'kaden-channel', 'kaden-channel', 'kaden-channel', 'kaden-channel', 'kaden-channel', 'kaden-channel', 'kaden-channel', 'kaden-channel', 'kaden-channel', 'kaden-channel', 'kaden-channel', 'kaden-channel', 'kaden-channel', 'kaden-channel', 'kaden-channel', 'kaden-channel', 'kaden-channel', 'kaden-channel', 'kaden-channel', 'kaden-channel', 'kaden-channel', 'kaden-channel', 'kaden-channel', 'kaden-channel', 'kaden-channel', 'kaden-channel', 'kaden-channel', 'kaden-channel', 'kaden-channel', 'kaden-channel', 'kaden-channel', 'kaden-channel', 'kaden-channel', 'kaden-channel', 'kaden-channel', 'kaden-channel', 'kaden-channel', 'kaden-channel', 'kaden-channel', 'kaden-channel', 'kaden-channel', 'kaden-channel', 'kaden-channel', 'kaden-channel', 'kaden-channel', 'kaden-channel', 'kaden-channel', 'kaden-channel', 'kaden-channel', 'kaden-channel', 'kaden-channel', 'kaden-channel', 'kaden-channel', 'kaden-channel', 'kaden-channel', 'kaden-channel', 'kaden-channel', 'kaden-channel', 'kaden-channel', 'kaden-channel', 'kaden-channel', 'kaden-channel', 'kaden-channel', 'kaden-channel', 'kaden-channel', 'kaden-channel', 'kaden-channel', 'kaden-channel', 'kaden-channel', 'kaden-channel', 'kaden-channel', 'kaden-channel', 'kaden-channel', 'kaden-channel', 'kaden-channel', 'kaden-channel', 'kaden-channel', 'kaden-channel', 'kaden-channel', 'kaden-channel', 'kaden-channel', 'kaden-channel', 'kaden-channel', 'kaden-channel', 'kaden-channel', 'kaden-channel', 'kaden-channel', 'kaden-channel', 'kaden-channel', 'kaden-channel', 'kaden-channel', 'kaden-channel', 'kaden-channel', 'kaden-channel', 'kaden-channel', 'kaden-channel', 'kaden-channel', 'kaden-channel', 'kaden-channel', 'kaden-channel', 'kaden-channel', 'kaden-channel', 'kaden-channel', 'kaden-channel', 'kaden-channel', 'kaden-channel', 'kaden-channel', 'kaden-channel', 'kaden-channel', 'kaden-channel', 'kaden-channel', 'kaden-channel', 'kaden-channel', 'kaden-channel', 'kaden-channel', 'kaden-channel', 'kaden-channel', 'kaden-channel', 'kaden-channel', 'kaden-channel', 'kaden-channel', 'kaden-channel', 'kaden-channel', 'kaden-channel', 'kaden-channel', 'kaden-channel', 'kaden-channel', 'kaden-channel', 'kaden-channel', 'kaden-channel', 'kaden-channel', 'kaden-channel', 'kaden-channel', 'kaden-channel', 'kaden-channel', 'kaden-channel', 'kaden-channel', 'kaden-channel', 'kaden-channel', 'kaden-channel', 'kaden-channel', 'kaden-channel', 'kaden-channel', 'kaden-channel', 'kaden-channel', 'kaden-channel', 'kaden-channel', 'kaden-channel', 'kaden-channel', 'kaden-channel', 'kaden-channel', 'kaden-channel', 'kaden-channel', 'kaden-channel', 'kaden-channel', 'kaden-channel', 'kaden-channel', 'kaden-channel', 'kaden-channel', 'kaden-channel', 'kaden-channel', 'kaden-channel', 'kaden-channel', 'kaden-channel', 'kaden-channel', 'kaden-channel', 'kaden-channel', 'kaden-channel', 'kaden-channel', 'kaden-channel', 'kaden-channel', 'kaden-channel', 'kaden-channel', 'kaden-channel', 'kaden-channel', 'kaden-channel', 'kaden-channel', 'kaden-channel', 'kaden-channel', 'kaden-channel', 'kaden-channel', 'kaden-channel', 'kaden-channel', 'kaden-channel', 'kaden-channel', 'kaden-channel', 'kaden-channel', 'kaden-channel', 'kaden-channel', 'kaden-channel', 'kaden-channel', 'kaden-channel', 'kaden-channel', 'kaden-channel', 'kaden-channel', 'kaden-channel', 'kaden-channel', 'kaden-channel', 'kaden-channel', 'kaden-channel', 'kaden-channel', 'kaden-channel', 'kaden-channel', 'kaden-channel', 'kaden-channel', 'kaden-channel', 'kaden-channel', 'kaden-channel', 'kaden-channel', 'kaden-channel', 'kaden-channel', 'kaden-channel', 'kaden-channel', 'kaden-channel', 'kaden-channel', 'kaden-channel', 'kaden-channel', 'kaden-channel', 'kaden-channel', 'kaden-channel', 'kaden-channel', 'kaden-channel', 'kaden-channel', 'kaden-channel', 'kaden-channel', 'kaden-channel', 'kaden-channel', 'kaden-channel', 'kaden-channel', 'kaden-channel', 'kaden-channel', 'kaden-channel', 'kaden-channel', 'kaden-channel', 'kaden-channel', 'kaden-channel', 'kaden-channel', 'kaden-channel', 'kaden-channel', 'kaden-channel', 'kaden-channel', 'kaden-channel', 'kaden-channel', 'kaden-channel', 'kaden-channel', 'kaden-channel', 'kaden-channel', 'kaden-channel', 'kaden-channel', 'kaden-channel', 'kaden-channel', 'kaden-channel', 'kaden-channel', 'livedoor-homme', 'livedoor-homme', 'livedoor-homme', 'livedoor-homme', 'livedoor-homme', 'livedoor-homme', 'livedoor-homme', 'livedoor-homme', 'livedoor-homme', 'livedoor-homme', 'livedoor-homme', 'livedoor-homme', 'livedoor-homme', 'livedoor-homme', 'livedoor-homme', 'livedoor-homme', 'livedoor-homme', 'livedoor-homme', 'livedoor-homme', 'livedoor-homme', 'livedoor-homme', 'livedoor-homme', 'livedoor-homme', 'livedoor-homme', 'livedoor-homme', 'livedoor-homme', 'livedoor-homme', 'livedoor-homme', 'livedoor-homme', 'livedoor-homme', 'livedoor-homme', 'livedoor-homme', 'livedoor-homme', 'livedoor-homme', 'livedoor-homme', 'livedoor-homme', 'livedoor-homme', 'livedoor-homme', 'livedoor-homme', 'livedoor-homme', 'livedoor-homme', 'livedoor-homme', 'livedoor-homme', 'livedoor-homme', 'livedoor-homme', 'livedoor-homme', 'livedoor-homme', 'livedoor-homme', 'livedoor-homme', 'livedoor-homme', 'livedoor-homme', 'livedoor-homme', 'livedoor-homme', 'livedoor-homme', 'livedoor-homme', 'livedoor-homme', 'livedoor-homme', 'livedoor-homme', 'livedoor-homme', 'livedoor-homme', 'livedoor-homme', 'livedoor-homme', 'livedoor-homme', 'livedoor-homme', 'livedoor-homme', 'livedoor-homme', 'livedoor-homme', 'livedoor-homme', 'livedoor-homme', 'livedoor-homme', 'livedoor-homme', 'livedoor-homme', 'livedoor-homme', 'livedoor-homme', 'livedoor-homme', 'livedoor-homme', 'livedoor-homme', 'livedoor-homme', 'livedoor-homme', 'livedoor-homme', 'livedoor-homme', 'livedoor-homme', 'livedoor-homme', 'livedoor-homme', 'livedoor-homme', 'livedoor-homme', 'livedoor-homme', 'livedoor-homme', 'livedoor-homme', 'livedoor-homme', 'livedoor-homme', 'livedoor-homme', 'livedoor-homme', 'livedoor-homme', 'livedoor-homme', 'livedoor-homme', 'livedoor-homme', 'livedoor-homme', 'livedoor-homme', 'livedoor-homme', 'livedoor-homme', 'livedoor-homme', 'livedoor-homme', 'livedoor-homme', 'livedoor-homme', 'livedoor-homme', 'livedoor-homme', 'livedoor-homme', 'livedoor-homme', 'livedoor-homme', 'livedoor-homme', 'livedoor-homme', 'livedoor-homme', 'livedoor-homme', 'livedoor-homme', 'livedoor-homme', 'livedoor-homme', 'livedoor-homme', 'livedoor-homme', 'livedoor-homme', 'livedoor-homme', 'livedoor-homme', 'livedoor-homme', 'livedoor-homme', 'livedoor-homme', 'livedoor-homme', 'livedoor-homme', 'livedoor-homme', 'livedoor-homme', 'livedoor-homme', 'livedoor-homme', 'livedoor-homme', 'livedoor-homme', 'livedoor-homme', 'livedoor-homme', 'livedoor-homme', 'livedoor-homme', 'livedoor-homme', 'livedoor-homme', 'livedoor-homme', 'livedoor-homme', 'livedoor-homme', 'livedoor-homme', 'livedoor-homme', 'livedoor-homme', 'livedoor-homme', 'livedoor-homme', 'livedoor-homme', 'livedoor-homme', 'livedoor-homme', 'livedoor-homme', 'livedoor-homme', 'livedoor-homme', 'livedoor-homme', 'livedoor-homme', 'livedoor-homme', 'livedoor-homme', 'livedoor-homme', 'livedoor-homme', 'livedoor-homme', 'livedoor-homme', 'livedoor-homme', 'livedoor-homme', 'livedoor-homme', 'livedoor-homme', 'livedoor-homme', 'livedoor-homme', 'livedoor-homme', 'livedoor-homme', 'livedoor-homme', 'livedoor-homme', 'livedoor-homme', 'livedoor-homme', 'livedoor-homme', 'livedoor-homme', 'livedoor-homme', 'livedoor-homme', 'livedoor-homme', 'livedoor-homme', 'livedoor-homme', 'livedoor-homme', 'livedoor-homme', 'livedoor-homme', 'livedoor-homme', 'livedoor-homme', 'livedoor-homme', 'livedoor-homme', 'livedoor-homme', 'livedoor-homme', 'livedoor-homme', 'livedoor-homme', 'livedoor-homme', 'livedoor-homme', 'livedoor-homme', 'livedoor-homme', 'livedoor-homme', 'livedoor-homme', 'livedoor-homme', 'livedoor-homme', 'livedoor-homme', 'livedoor-homme', 'livedoor-homme', 'livedoor-homme', 'livedoor-homme', 'livedoor-homme', 'livedoor-homme', 'livedoor-homme', 'livedoor-homme', 'livedoor-homme', 'livedoor-homme', 'livedoor-homme', 'livedoor-homme', 'livedoor-homme', 'livedoor-homme', 'livedoor-homme', 'livedoor-homme', 'livedoor-homme', 'livedoor-homme', 'livedoor-homme', 'livedoor-homme', 'livedoor-homme', 'livedoor-homme', 'livedoor-homme', 'livedoor-homme', 'livedoor-homme', 'livedoor-homme', 'livedoor-homme', 'livedoor-homme', 'livedoor-homme', 'livedoor-homme', 'livedoor-homme', 'livedoor-homme', 'livedoor-homme', 'livedoor-homme', 'livedoor-homme', 'livedoor-homme', 'livedoor-homme', 'livedoor-homme', 'livedoor-homme', 'livedoor-homme', 'livedoor-homme', 'livedoor-homme', 'livedoor-homme', 'livedoor-homme', 'livedoor-homme', 'livedoor-homme', 'livedoor-homme', 'livedoor-homme', 'livedoor-homme', 'livedoor-homme', 'livedoor-homme', 'livedoor-homme', 'livedoor-homme', 'livedoor-homme', 'livedoor-homme', 'livedoor-homme', 'livedoor-homme', 'livedoor-homme', 'livedoor-homme', 'livedoor-homme', 'livedoor-homme', 'livedoor-homme', 'livedoor-homme', 'livedoor-homme', 'livedoor-homme', 'livedoor-homme', 'livedoor-homme', 'livedoor-homme', 'livedoor-homme', 'livedoor-homme', 'livedoor-homme', 'livedoor-homme', 'livedoor-homme', 'livedoor-homme', 'livedoor-homme', 'livedoor-homme', 'livedoor-homme', 'livedoor-homme', 'livedoor-homme', 'livedoor-homme', 'livedoor-homme', 'livedoor-homme', 'livedoor-homme', 'livedoor-homme', 'livedoor-homme', 'livedoor-homme', 'livedoor-homme', 'livedoor-homme', 'livedoor-homme', 'livedoor-homme', 'livedoor-homme', 'livedoor-homme', 'livedoor-homme', 'livedoor-homme', 'livedoor-homme', 'livedoor-homme', 'livedoor-homme', 'livedoor-homme', 'livedoor-homme', 'livedoor-homme', 'livedoor-homme', 'livedoor-homme', 'livedoor-homme', 'livedoor-homme', 'livedoor-homme', 'livedoor-homme', 'livedoor-homme', 'livedoor-homme', 'livedoor-homme', 'livedoor-homme', 'livedoor-homme', 'livedoor-homme', 'livedoor-homme', 'livedoor-homme', 'livedoor-homme', 'livedoor-homme', 'livedoor-homme', 'livedoor-homme', 'livedoor-homme', 'livedoor-homme', 'livedoor-homme', 'livedoor-homme', 'livedoor-homme', 'livedoor-homme', 'livedoor-homme', 'livedoor-homme', 'livedoor-homme', 'livedoor-homme', 'livedoor-homme', 'livedoor-homme', 'livedoor-homme', 'livedoor-homme', 'livedoor-homme', 'livedoor-homme', 'livedoor-homme', 'livedoor-homme', 'livedoor-homme', 'livedoor-homme', 'livedoor-homme', 'livedoor-homme', 'livedoor-homme', 'livedoor-homme', 'livedoor-homme', 'livedoor-homme', 'livedoor-homme', 'livedoor-homme', 'livedoor-homme', 'livedoor-homme', 'livedoor-homme', 'livedoor-homme', 'livedoor-homme', 'livedoor-homme', 'livedoor-homme', 'livedoor-homme', 'livedoor-homme', 'livedoor-homme', 'livedoor-homme', 'livedoor-homme', 'livedoor-homme', 'livedoor-homme', 'livedoor-homme', 'livedoor-homme', 'livedoor-homme', 'livedoor-homme', 'livedoor-homme', 'livedoor-homme', 'livedoor-homme', 'livedoor-homme', 'livedoor-homme', 'livedoor-homme', 'livedoor-homme', 'livedoor-homme', 'livedoor-homme', 'livedoor-homme', 'livedoor-homme', 'livedoor-homme', 'livedoor-homme', 'livedoor-homme', 'livedoor-homme', 'livedoor-homme', 'livedoor-homme', 'livedoor-homme', 'livedoor-homme', 'livedoor-homme', 'livedoor-homme', 'livedoor-homme', 'livedoor-homme', 'livedoor-homme', 'livedoor-homme', 'livedoor-homme', 'livedoor-homme', 'livedoor-homme', 'livedoor-homme', 'livedoor-homme', 'livedoor-homme', 'livedoor-homme', 'livedoor-homme', 'livedoor-homme', 'livedoor-homme', 'livedoor-homme', 'livedoor-homme', 'livedoor-homme', 'livedoor-homme', 'livedoor-homme', 'livedoor-homme', 'livedoor-homme', 'livedoor-homme', 'livedoor-homme', 'livedoor-homme', 'livedoor-homme', 'livedoor-homme', 'livedoor-homme', 'livedoor-homme', 'livedoor-homme', 'livedoor-homme', 'livedoor-homme', 'livedoor-homme', 'livedoor-homme', 'livedoor-homme', 'livedoor-homme', 'livedoor-homme', 'livedoor-homme', 'livedoor-homme', 'livedoor-homme', 'livedoor-homme', 'livedoor-homme', 'livedoor-homme', 'livedoor-homme', 'livedoor-homme', 'livedoor-homme', 'livedoor-homme', 'livedoor-homme', 'livedoor-homme', 'livedoor-homme', 'livedoor-homme', 'livedoor-homme', 'livedoor-homme', 'livedoor-homme', 'livedoor-homme', 'livedoor-homme', 'livedoor-homme', 'livedoor-homme', 'livedoor-homme', 'livedoor-homme', 'livedoor-homme', 'livedoor-homme', 'livedoor-homme', 'livedoor-homme', 'livedoor-homme', 'livedoor-homme', 'livedoor-homme', 'livedoor-homme', 'livedoor-homme', 'livedoor-homme', 'livedoor-homme', 'livedoor-homme', 'livedoor-homme', 'livedoor-homme', 'livedoor-homme', 'livedoor-homme', 'livedoor-homme', 'livedoor-homme', 'livedoor-homme', 'livedoor-homme', 'livedoor-homme', 'livedoor-homme', 'livedoor-homme', 'livedoor-homme', 'livedoor-homme', 'livedoor-homme', 'livedoor-homme', 'livedoor-homme', 'livedoor-homme', 'livedoor-homme', 'livedoor-homme', 'livedoor-homme', 'livedoor-homme', 'livedoor-homme', 'livedoor-homme', 'livedoor-homme', 'livedoor-homme', 'livedoor-homme', 'livedoor-homme', 'livedoor-homme', 'livedoor-homme', 'livedoor-homme', 'livedoor-homme', 'livedoor-homme', 'livedoor-homme', 'livedoor-homme', 'livedoor-homme', 'livedoor-homme', 'livedoor-homme', 'livedoor-homme', 'livedoor-homme', 'livedoor-homme', 'livedoor-homme', 'livedoor-homme', 'livedoor-homme', 'livedoor-homme', 'livedoor-homme', 'livedoor-homme', 'livedoor-homme', 'livedoor-homme', 'livedoor-homme', 'livedoor-homme', 'livedoor-homme', 'livedoor-homme', 'livedoor-homme', 'livedoor-homme', 'livedoor-homme', 'movie-enter', 'movie-enter', 'movie-enter', 'movie-enter', 'movie-enter', 'movie-enter', 'movie-enter', 'movie-enter', 'movie-enter', 'movie-enter', 'movie-enter', 'movie-enter', 'movie-enter', 'movie-enter', 'movie-enter', 'movie-enter', 'movie-enter', 'movie-enter', 'movie-enter', 'movie-enter', 'movie-enter', 'movie-enter', 'movie-enter', 'movie-enter', 'movie-enter', 'movie-enter', 'movie-enter', 'movie-enter', 'movie-enter', 'movie-enter', 'movie-enter', 'movie-enter', 'movie-enter', 'movie-enter', 'movie-enter', 'movie-enter', 'movie-enter', 'movie-enter', 'movie-enter', 'movie-enter', 'movie-enter', 'movie-enter', 'movie-enter', 'movie-enter', 'movie-enter', 'movie-enter', 'movie-enter', 'movie-enter', 'movie-enter', 'movie-enter', 'movie-enter', 'movie-enter', 'movie-enter', 'movie-enter', 'movie-enter', 'movie-enter', 'movie-enter', 'movie-enter', 'movie-enter', 'movie-enter', 'movie-enter', 'movie-enter', 'movie-enter', 'movie-enter', 'movie-enter', 'movie-enter', 'movie-enter', 'movie-enter', 'movie-enter', 'movie-enter', 'movie-enter', 'movie-enter', 'movie-enter', 'movie-enter', 'movie-enter', 'movie-enter', 'movie-enter', 'movie-enter', 'movie-enter', 'movie-enter', 'movie-enter', 'movie-enter', 'movie-enter', 'movie-enter', 'movie-enter', 'movie-enter', 'movie-enter', 'movie-enter', 'movie-enter', 'movie-enter', 'movie-enter', 'movie-enter', 'movie-enter', 'movie-enter', 'movie-enter', 'movie-enter', 'movie-enter', 'movie-enter', 'movie-enter', 'movie-enter', 'movie-enter', 'movie-enter', 'movie-enter', 'movie-enter', 'movie-enter', 'movie-enter', 'movie-enter', 'movie-enter', 'movie-enter', 'movie-enter', 'movie-enter', 'movie-enter', 'movie-enter', 'movie-enter', 'movie-enter', 'movie-enter', 'movie-enter', 'movie-enter', 'movie-enter', 'movie-enter', 'movie-enter', 'movie-enter', 'movie-enter', 'movie-enter', 'movie-enter', 'movie-enter', 'movie-enter', 'movie-enter', 'movie-enter', 'movie-enter', 'movie-enter', 'movie-enter', 'movie-enter', 'movie-enter', 'movie-enter', 'movie-enter', 'movie-enter', 'movie-enter', 'movie-enter', 'movie-enter', 'movie-enter', 'movie-enter', 'movie-enter', 'movie-enter', 'movie-enter', 'movie-enter', 'movie-enter', 'movie-enter', 'movie-enter', 'movie-enter', 'movie-enter', 'movie-enter', 'movie-enter', 'movie-enter', 'movie-enter', 'movie-enter', 'movie-enter', 'movie-enter', 'movie-enter', 'movie-enter', 'movie-enter', 'movie-enter', 'movie-enter', 'movie-enter', 'movie-enter', 'movie-enter', 'movie-enter', 'movie-enter', 'movie-enter', 'movie-enter', 'movie-enter', 'movie-enter', 'movie-enter', 'movie-enter', 'movie-enter', 'movie-enter', 'movie-enter', 'movie-enter', 'movie-enter', 'movie-enter', 'movie-enter', 'movie-enter', 'movie-enter', 'movie-enter', 'movie-enter', 'movie-enter', 'movie-enter', 'movie-enter', 'movie-enter', 'movie-enter', 'movie-enter', 'movie-enter', 'movie-enter', 'movie-enter', 'movie-enter', 'movie-enter', 'movie-enter', 'movie-enter', 'movie-enter', 'movie-enter', 'movie-enter', 'movie-enter', 'movie-enter', 'movie-enter', 'movie-enter', 'movie-enter', 'movie-enter', 'movie-enter', 'movie-enter', 'movie-enter', 'movie-enter', 'movie-enter', 'movie-enter', 'movie-enter', 'movie-enter', 'movie-enter', 'movie-enter', 'movie-enter', 'movie-enter', 'movie-enter', 'movie-enter', 'movie-enter', 'movie-enter', 'movie-enter', 'movie-enter', 'movie-enter', 'movie-enter', 'movie-enter', 'movie-enter', 'movie-enter', 'movie-enter', 'movie-enter', 'movie-enter', 'movie-enter', 'movie-enter', 'movie-enter', 'movie-enter', 'movie-enter', 'movie-enter', 'movie-enter', 'movie-enter', 'movie-enter', 'movie-enter', 'movie-enter', 'movie-enter', 'movie-enter', 'movie-enter', 'movie-enter', 'movie-enter', 'movie-enter', 'movie-enter', 'movie-enter', 'movie-enter', 'movie-enter', 'movie-enter', 'movie-enter', 'movie-enter', 'movie-enter', 'movie-enter', 'movie-enter', 'movie-enter', 'movie-enter', 'movie-enter', 'movie-enter', 'movie-enter', 'movie-enter', 'movie-enter', 'movie-enter', 'movie-enter', 'movie-enter', 'movie-enter', 'movie-enter', 'movie-enter', 'movie-enter', 'movie-enter', 'movie-enter', 'movie-enter', 'movie-enter', 'movie-enter', 'movie-enter', 'movie-enter', 'movie-enter', 'movie-enter', 'movie-enter', 'movie-enter', 'movie-enter', 'movie-enter', 'movie-enter', 'movie-enter', 'movie-enter', 'movie-enter', 'movie-enter', 'movie-enter', 'movie-enter', 'movie-enter', 'movie-enter', 'movie-enter', 'movie-enter', 'movie-enter', 'movie-enter', 'movie-enter', 'movie-enter', 'movie-enter', 'movie-enter', 'movie-enter', 'movie-enter', 'movie-enter', 'movie-enter', 'movie-enter', 'movie-enter', 'movie-enter', 'movie-enter', 'movie-enter', 'movie-enter', 'movie-enter', 'movie-enter', 'movie-enter', 'movie-enter', 'movie-enter', 'movie-enter', 'movie-enter', 'movie-enter', 'movie-enter', 'movie-enter', 'movie-enter', 'movie-enter', 'movie-enter', 'movie-enter', 'movie-enter', 'movie-enter', 'movie-enter', 'movie-enter', 'movie-enter', 'movie-enter', 'movie-enter', 'movie-enter', 'movie-enter', 'movie-enter', 'movie-enter', 'movie-enter', 'movie-enter', 'movie-enter', 'movie-enter', 'movie-enter', 'movie-enter', 'movie-enter', 'movie-enter', 'movie-enter', 'movie-enter', 'movie-enter', 'movie-enter', 'movie-enter', 'movie-enter', 'movie-enter', 'movie-enter', 'movie-enter', 'movie-enter', 'movie-enter', 'movie-enter', 'movie-enter', 'movie-enter', 'movie-enter', 'movie-enter', 'movie-enter', 'movie-enter', 'movie-enter', 'movie-enter', 'movie-enter', 'movie-enter', 'movie-enter', 'movie-enter', 'movie-enter', 'movie-enter', 'movie-enter', 'movie-enter', 'movie-enter', 'movie-enter', 'movie-enter', 'movie-enter', 'movie-enter', 'movie-enter', 'movie-enter', 'movie-enter', 'movie-enter', 'movie-enter', 'movie-enter', 'movie-enter', 'movie-enter', 'movie-enter', 'movie-enter', 'movie-enter', 'movie-enter', 'movie-enter', 'movie-enter', 'movie-enter', 'movie-enter', 'movie-enter', 'movie-enter', 'movie-enter', 'movie-enter', 'movie-enter', 'movie-enter', 'movie-enter', 'movie-enter', 'movie-enter', 'movie-enter', 'movie-enter', 'movie-enter', 'movie-enter', 'movie-enter', 'movie-enter', 'movie-enter', 'movie-enter', 'movie-enter', 'movie-enter', 'movie-enter', 'movie-enter', 'movie-enter', 'movie-enter', 'movie-enter', 'movie-enter', 'movie-enter', 'movie-enter', 'movie-enter', 'movie-enter', 'movie-enter', 'movie-enter', 'movie-enter', 'movie-enter', 'movie-enter', 'movie-enter', 'movie-enter', 'movie-enter', 'movie-enter', 'movie-enter', 'movie-enter', 'movie-enter', 'movie-enter', 'movie-enter', 'movie-enter', 'movie-enter', 'movie-enter', 'movie-enter', 'movie-enter', 'movie-enter', 'movie-enter', 'movie-enter', 'movie-enter', 'movie-enter', 'movie-enter', 'movie-enter', 'movie-enter', 'movie-enter', 'movie-enter', 'movie-enter', 'movie-enter', 'movie-enter', 'movie-enter', 'movie-enter', 'movie-enter', 'movie-enter', 'movie-enter', 'movie-enter', 'movie-enter', 'movie-enter', 'movie-enter', 'movie-enter', 'movie-enter', 'movie-enter', 'movie-enter', 'movie-enter', 'movie-enter', 'movie-enter', 'movie-enter', 'movie-enter', 'movie-enter', 'movie-enter', 'movie-enter', 'movie-enter', 'movie-enter', 'movie-enter', 'movie-enter', 'movie-enter', 'movie-enter', 'movie-enter', 'movie-enter', 'movie-enter', 'movie-enter', 'movie-enter', 'movie-enter', 'movie-enter', 'movie-enter', 'movie-enter', 'movie-enter', 'movie-enter', 'movie-enter', 'movie-enter', 'movie-enter', 'movie-enter', 'movie-enter', 'movie-enter', 'movie-enter', 'movie-enter', 'movie-enter', 'movie-enter', 'movie-enter', 'movie-enter', 'movie-enter', 'movie-enter', 'movie-enter', 'movie-enter', 'movie-enter', 'movie-enter', 'movie-enter', 'movie-enter', 'movie-enter', 'movie-enter', 'movie-enter', 'movie-enter', 'movie-enter', 'movie-enter', 'movie-enter', 'movie-enter', 'movie-enter', 'movie-enter', 'movie-enter', 'movie-enter', 'movie-enter', 'movie-enter', 'movie-enter', 'movie-enter', 'movie-enter', 'movie-enter', 'movie-enter', 'movie-enter', 'movie-enter', 'movie-enter', 'movie-enter', 'movie-enter', 'movie-enter', 'movie-enter', 'movie-enter', 'movie-enter', 'movie-enter', 'movie-enter', 'movie-enter', 'movie-enter', 'movie-enter', 'movie-enter', 'movie-enter', 'movie-enter', 'movie-enter', 'movie-enter', 'movie-enter', 'movie-enter', 'movie-enter', 'movie-enter', 'movie-enter', 'movie-enter', 'movie-enter', 'movie-enter', 'movie-enter', 'movie-enter', 'movie-enter', 'movie-enter', 'movie-enter', 'movie-enter', 'movie-enter', 'movie-enter', 'movie-enter', 'movie-enter', 'movie-enter', 'movie-enter', 'movie-enter', 'movie-enter', 'movie-enter', 'movie-enter', 'movie-enter', 'movie-enter', 'movie-enter', 'movie-enter', 'movie-enter', 'movie-enter', 'movie-enter', 'movie-enter', 'movie-enter', 'movie-enter', 'movie-enter', 'movie-enter', 'movie-enter', 'movie-enter', 'movie-enter', 'movie-enter', 'movie-enter', 'movie-enter', 'movie-enter', 'movie-enter', 'movie-enter', 'movie-enter', 'movie-enter', 'movie-enter', 'movie-enter', 'movie-enter', 'movie-enter', 'movie-enter', 'movie-enter', 'movie-enter', 'movie-enter', 'movie-enter', 'movie-enter', 'movie-enter', 'movie-enter', 'movie-enter', 'movie-enter', 'movie-enter', 'movie-enter', 'movie-enter', 'movie-enter', 'movie-enter', 'movie-enter', 'movie-enter', 'movie-enter', 'movie-enter', 'movie-enter', 'movie-enter', 'movie-enter', 'movie-enter', 'movie-enter', 'movie-enter', 'movie-enter', 'movie-enter', 'movie-enter', 'movie-enter', 'movie-enter', 'movie-enter', 'movie-enter', 'movie-enter', 'movie-enter', 'movie-enter', 'movie-enter', 'movie-enter', 'movie-enter', 'movie-enter', 'movie-enter', 'movie-enter', 'movie-enter', 'movie-enter', 'movie-enter', 'movie-enter', 'movie-enter', 'movie-enter', 'movie-enter', 'movie-enter', 'movie-enter', 'movie-enter', 'movie-enter', 'movie-enter', 'movie-enter', 'movie-enter', 'movie-enter', 'movie-enter', 'movie-enter', 'movie-enter', 'movie-enter', 'movie-enter', 'movie-enter', 'movie-enter', 'movie-enter', 'movie-enter', 'movie-enter', 'movie-enter', 'movie-enter', 'movie-enter', 'movie-enter', 'movie-enter', 'movie-enter', 'movie-enter', 'movie-enter', 'movie-enter', 'movie-enter', 'movie-enter', 'movie-enter', 'movie-enter', 'movie-enter', 'movie-enter', 'movie-enter', 'movie-enter', 'movie-enter', 'movie-enter', 'movie-enter', 'movie-enter', 'movie-enter', 'movie-enter', 'movie-enter', 'movie-enter', 'movie-enter', 'movie-enter', 'movie-enter', 'movie-enter', 'movie-enter', 'movie-enter', 'movie-enter', 'movie-enter', 'movie-enter', 'movie-enter', 'movie-enter', 'movie-enter', 'movie-enter', 'movie-enter', 'movie-enter', 'movie-enter', 'movie-enter', 'movie-enter', 'movie-enter', 'movie-enter', 'movie-enter', 'movie-enter', 'movie-enter', 'movie-enter', 'movie-enter', 'movie-enter', 'movie-enter', 'movie-enter', 'movie-enter', 'movie-enter', 'movie-enter', 'movie-enter', 'movie-enter', 'movie-enter', 'movie-enter', 'movie-enter', 'movie-enter', 'movie-enter', 'movie-enter', 'movie-enter', 'movie-enter', 'movie-enter', 'movie-enter', 'movie-enter', 'movie-enter', 'movie-enter', 'movie-enter', 'movie-enter', 'movie-enter', 'movie-enter', 'movie-enter', 'movie-enter', 'movie-enter', 'movie-enter', 'movie-enter', 'movie-enter', 'movie-enter', 'movie-enter', 'movie-enter', 'movie-enter', 'movie-enter', 'movie-enter', 'movie-enter', 'movie-enter', 'movie-enter', 'movie-enter', 'movie-enter', 'movie-enter', 'movie-enter', 'movie-enter', 'movie-enter', 'movie-enter', 'movie-enter', 'movie-enter', 'movie-enter', 'movie-enter', 'movie-enter', 'movie-enter', 'movie-enter', 'movie-enter', 'movie-enter', 'movie-enter', 'movie-enter', 'movie-enter', 'movie-enter', 'movie-enter', 'movie-enter', 'movie-enter', 'movie-enter', 'movie-enter', 'movie-enter', 'movie-enter', 'movie-enter', 'movie-enter', 'movie-enter', 'movie-enter', 'movie-enter', 'movie-enter', 'movie-enter', 'movie-enter', 'movie-enter', 'movie-enter', 'movie-enter', 'movie-enter', 'movie-enter', 'movie-enter', 'movie-enter', 'movie-enter', 'movie-enter', 'movie-enter', 'movie-enter', 'movie-enter', 'movie-enter', 'movie-enter', 'movie-enter', 'movie-enter', 'movie-enter', 'movie-enter', 'movie-enter', 'movie-enter', 'movie-enter', 'movie-enter', 'movie-enter', 'movie-enter', 'movie-enter', 'movie-enter', 'movie-enter', 'movie-enter', 'movie-enter', 'movie-enter', 'movie-enter', 'movie-enter', 'movie-enter', 'movie-enter', 'movie-enter', 'movie-enter', 'movie-enter', 'movie-enter', 'movie-enter', 'movie-enter', 'movie-enter', 'movie-enter', 'movie-enter', 'movie-enter', 'movie-enter', 'movie-enter', 'movie-enter', 'movie-enter', 'movie-enter', 'movie-enter', 'movie-enter', 'movie-enter', 'movie-enter', 'movie-enter', 'movie-enter', 'movie-enter', 'movie-enter', 'movie-enter', 'movie-enter', 'movie-enter', 'movie-enter', 'movie-enter', 'movie-enter', 'movie-enter', 'movie-enter', 'movie-enter', 'movie-enter', 'movie-enter', 'movie-enter', 'movie-enter', 'movie-enter', 'movie-enter', 'movie-enter', 'movie-enter', 'movie-enter', 'peachy', 'peachy', 'peachy', 'peachy', 'peachy', 'peachy', 'peachy', 'peachy', 'peachy', 'peachy', 'peachy', 'peachy', 'peachy', 'peachy', 'peachy', 'peachy', 'peachy', 'peachy', 'peachy', 'peachy', 'peachy', 'peachy', 'peachy', 'peachy', 'peachy', 'peachy', 'peachy', 'peachy', 'peachy', 'peachy', 'peachy', 'peachy', 'peachy', 'peachy', 'peachy', 'peachy', 'peachy', 'peachy', 'peachy', 'peachy', 'peachy', 'peachy', 'peachy', 'peachy', 'peachy', 'peachy', 'peachy', 'peachy', 'peachy', 'peachy', 'peachy', 'peachy', 'peachy', 'peachy', 'peachy', 'peachy', 'peachy', 'peachy', 'peachy', 'peachy', 'peachy', 'peachy', 'peachy', 'peachy', 'peachy', 'peachy', 'peachy', 'peachy', 'peachy', 'peachy', 'peachy', 'peachy', 'peachy', 'peachy', 'peachy', 'peachy', 'peachy', 'peachy', 'peachy', 'peachy', 'peachy', 'peachy', 'peachy', 'peachy', 'peachy', 'peachy', 'peachy', 'peachy', 'peachy', 'peachy', 'peachy', 'peachy', 'peachy', 'peachy', 'peachy', 'peachy', 'peachy', 'peachy', 'peachy', 'peachy', 'peachy', 'peachy', 'peachy', 'peachy', 'peachy', 'peachy', 'peachy', 'peachy', 'peachy', 'peachy', 'peachy', 'peachy', 'peachy', 'peachy', 'peachy', 'peachy', 'peachy', 'peachy', 'peachy', 'peachy', 'peachy', 'peachy', 'peachy', 'peachy', 'peachy', 'peachy', 'peachy', 'peachy', 'peachy', 'peachy', 'peachy', 'peachy', 'peachy', 'peachy', 'peachy', 'peachy', 'peachy', 'peachy', 'peachy', 'peachy', 'peachy', 'peachy', 'peachy', 'peachy', 'peachy', 'peachy', 'peachy', 'peachy', 'peachy', 'peachy', 'peachy', 'peachy', 'peachy', 'peachy', 'peachy', 'peachy', 'peachy', 'peachy', 'peachy', 'peachy', 'peachy', 'peachy', 'peachy', 'peachy', 'peachy', 'peachy', 'peachy', 'peachy', 'peachy', 'peachy', 'peachy', 'peachy', 'peachy', 'peachy', 'peachy', 'peachy', 'peachy', 'peachy', 'peachy', 'peachy', 'peachy', 'peachy', 'peachy', 'peachy', 'peachy', 'peachy', 'peachy', 'peachy', 'peachy', 'peachy', 'peachy', 'peachy', 'peachy', 'peachy', 'peachy', 'peachy', 'peachy', 'peachy', 'peachy', 'peachy', 'peachy', 'peachy', 'peachy', 'peachy', 'peachy', 'peachy', 'peachy', 'peachy', 'peachy', 'peachy', 'peachy', 'peachy', 'peachy', 'peachy', 'peachy', 'peachy', 'peachy', 'peachy', 'peachy', 'peachy', 'peachy', 'peachy', 'peachy', 'peachy', 'peachy', 'peachy', 'peachy', 'peachy', 'peachy', 'peachy', 'peachy', 'peachy', 'peachy', 'peachy', 'peachy', 'peachy', 'peachy', 'peachy', 'peachy', 'peachy', 'peachy', 'peachy', 'peachy', 'peachy', 'peachy', 'peachy', 'peachy', 'peachy', 'peachy', 'peachy', 'peachy', 'peachy', 'peachy', 'peachy', 'peachy', 'peachy', 'peachy', 'peachy', 'peachy', 'peachy', 'peachy', 'peachy', 'peachy', 'peachy', 'peachy', 'peachy', 'peachy', 'peachy', 'peachy', 'peachy', 'peachy', 'peachy', 'peachy', 'peachy', 'peachy', 'peachy', 'peachy', 'peachy', 'peachy', 'peachy', 'peachy', 'peachy', 'peachy', 'peachy', 'peachy', 'peachy', 'peachy', 'peachy', 'peachy', 'peachy', 'peachy', 'peachy', 'peachy', 'peachy', 'peachy', 'peachy', 'peachy', 'peachy', 'peachy', 'peachy', 'peachy', 'peachy', 'peachy', 'peachy', 'peachy', 'peachy', 'peachy', 'peachy', 'peachy', 'peachy', 'peachy', 'peachy', 'peachy', 'peachy', 'peachy', 'peachy', 'peachy', 'peachy', 'peachy', 'peachy', 'peachy', 'peachy', 'peachy', 'peachy', 'peachy', 'peachy', 'peachy', 'peachy', 'peachy', 'peachy', 'peachy', 'peachy', 'peachy', 'peachy', 'peachy', 'peachy', 'peachy', 'peachy', 'peachy', 'peachy', 'peachy', 'peachy', 'peachy', 'peachy', 'peachy', 'peachy', 'peachy', 'peachy', 'peachy', 'peachy', 'peachy', 'peachy', 'peachy', 'peachy', 'peachy', 'peachy', 'peachy', 'peachy', 'peachy', 'peachy', 'peachy', 'peachy', 'peachy', 'peachy', 'peachy', 'peachy', 'peachy', 'peachy', 'peachy', 'peachy', 'peachy', 'peachy', 'peachy', 'peachy', 'peachy', 'peachy', 'peachy', 'peachy', 'peachy', 'peachy', 'peachy', 'peachy', 'peachy', 'peachy', 'peachy', 'peachy', 'peachy', 'peachy', 'peachy', 'peachy', 'peachy', 'peachy', 'peachy', 'peachy', 'peachy', 'peachy', 'peachy', 'peachy', 'peachy', 'peachy', 'peachy', 'peachy', 'peachy', 'peachy', 'peachy', 'peachy', 'peachy', 'peachy', 'peachy', 'peachy', 'peachy', 'peachy', 'peachy', 'peachy', 'peachy', 'peachy', 'peachy', 'peachy', 'peachy', 'peachy', 'peachy', 'peachy', 'peachy', 'peachy', 'peachy', 'peachy', 'peachy', 'peachy', 'peachy', 'peachy', 'peachy', 'peachy', 'peachy', 'peachy', 'peachy', 'peachy', 'peachy', 'peachy', 'peachy', 'peachy', 'peachy', 'peachy', 'peachy', 'peachy', 'peachy', 'peachy', 'peachy', 'peachy', 'peachy', 'peachy', 'peachy', 'peachy', 'peachy', 'peachy', 'peachy', 'peachy', 'peachy', 'peachy', 'peachy', 'peachy', 'peachy', 'peachy', 'peachy', 'peachy', 'peachy', 'peachy', 'peachy', 'peachy', 'peachy', 'peachy', 'peachy', 'peachy', 'peachy', 'peachy', 'peachy', 'peachy', 'peachy', 'peachy', 'peachy', 'peachy', 'peachy', 'peachy', 'peachy', 'peachy', 'peachy', 'peachy', 'peachy', 'peachy', 'peachy', 'peachy', 'peachy', 'peachy', 'peachy', 'peachy', 'peachy', 'peachy', 'peachy', 'peachy', 'peachy', 'peachy', 'peachy', 'peachy', 'peachy', 'peachy', 'peachy', 'peachy', 'peachy', 'peachy', 'peachy', 'peachy', 'peachy', 'peachy', 'peachy', 'peachy', 'peachy', 'peachy', 'peachy', 'peachy', 'peachy', 'peachy', 'peachy', 'peachy', 'peachy', 'peachy', 'peachy', 'peachy', 'peachy', 'peachy', 'peachy', 'peachy', 'peachy', 'peachy', 'peachy', 'peachy', 'peachy', 'peachy', 'peachy', 'peachy', 'peachy', 'peachy', 'peachy', 'peachy', 'peachy', 'peachy', 'peachy', 'peachy', 'peachy', 'peachy', 'peachy', 'peachy', 'peachy', 'peachy', 'peachy', 'peachy', 'peachy', 'peachy', 'peachy', 'peachy', 'peachy', 'peachy', 'peachy', 'peachy', 'peachy', 'peachy', 'peachy', 'peachy', 'peachy', 'peachy', 'peachy', 'peachy', 'peachy', 'peachy', 'peachy', 'peachy', 'peachy', 'peachy', 'peachy', 'peachy', 'peachy', 'peachy', 'peachy', 'peachy', 'peachy', 'peachy', 'peachy', 'peachy', 'peachy', 'peachy', 'peachy', 'peachy', 'peachy', 'peachy', 'peachy', 'peachy', 'peachy', 'peachy', 'peachy', 'peachy', 'peachy', 'peachy', 'peachy', 'peachy', 'peachy', 'peachy', 'peachy', 'peachy', 'peachy', 'peachy', 'peachy', 'peachy', 'peachy', 'peachy', 'peachy', 'peachy', 'peachy', 'peachy', 'peachy', 'peachy', 'peachy', 'peachy', 'peachy', 'peachy', 'peachy', 'peachy', 'peachy', 'peachy', 'peachy', 'peachy', 'peachy', 'peachy', 'peachy', 'peachy', 'peachy', 'peachy', 'peachy', 'peachy', 'peachy', 'peachy', 'peachy', 'peachy', 'peachy', 'peachy', 'peachy', 'peachy', 'peachy', 'peachy', 'peachy', 'peachy', 'peachy', 'peachy', 'peachy', 'peachy', 'peachy', 'peachy', 'peachy', 'peachy', 'peachy', 'peachy', 'peachy', 'peachy', 'peachy', 'peachy', 'peachy', 'peachy', 'peachy', 'peachy', 'peachy', 'peachy', 'peachy', 'peachy', 'peachy', 'peachy', 'peachy', 'peachy', 'peachy', 'peachy', 'peachy', 'peachy', 'peachy', 'peachy', 'peachy', 'peachy', 'peachy', 'peachy', 'peachy', 'peachy', 'peachy', 'peachy', 'peachy', 'peachy', 'peachy', 'peachy', 'peachy', 'peachy', 'peachy', 'peachy', 'peachy', 'peachy', 'peachy', 'peachy', 'peachy', 'peachy', 'peachy', 'peachy', 'peachy', 'peachy', 'peachy', 'peachy', 'peachy', 'peachy', 'peachy', 'peachy', 'peachy', 'peachy', 'peachy', 'peachy', 'peachy', 'peachy', 'peachy', 'peachy', 'peachy', 'peachy', 'peachy', 'peachy', 'peachy', 'peachy', 'peachy', 'peachy', 'peachy', 'peachy', 'peachy', 'peachy', 'peachy', 'peachy', 'peachy', 'peachy', 'peachy', 'peachy', 'peachy', 'peachy', 'peachy', 'peachy', 'peachy', 'peachy', 'peachy', 'peachy', 'peachy', 'peachy', 'peachy', 'peachy', 'peachy', 'peachy', 'peachy', 'peachy', 'peachy', 'peachy', 'peachy', 'peachy', 'peachy', 'peachy', 'peachy', 'peachy', 'peachy', 'peachy', 'peachy', 'peachy', 'peachy', 'peachy', 'peachy', 'peachy', 'peachy', 'peachy', 'peachy', 'peachy', 'peachy', 'peachy', 'peachy', 'peachy', 'peachy', 'peachy', 'peachy', 'peachy', 'peachy', 'peachy', 'peachy', 'peachy', 'peachy', 'peachy', 'peachy', 'peachy', 'peachy', 'peachy', 'peachy', 'peachy', 'peachy', 'peachy', 'peachy', 'peachy', 'peachy', 'peachy', 'peachy', 'peachy', 'peachy', 'peachy', 'peachy', 'peachy', 'peachy', 'peachy', 'peachy', 'peachy', 'peachy', 'peachy', 'peachy', 'peachy', 'peachy', 'peachy', 'peachy', 'peachy', 'peachy', 'peachy', 'peachy', 'peachy', 'peachy', 'peachy', 'peachy', 'peachy', 'peachy', 'peachy', 'peachy', 'peachy', 'peachy', 'peachy', 'peachy', 'peachy', 'peachy', 'peachy', 'peachy', 'peachy', 'peachy', 'peachy', 'peachy', 'peachy', 'smax', 'smax', 'smax', 'smax', 'smax', 'smax', 'smax', 'smax', 'smax', 'smax', 'smax', 'smax', 'smax', 'smax', 'smax', 'smax', 'smax', 'smax', 'smax', 'smax', 'smax', 'smax', 'smax', 'smax', 'smax', 'smax', 'smax', 'smax', 'smax', 'smax', 'smax', 'smax', 'smax', 'smax', 'smax', 'smax', 'smax', 'smax', 'smax', 'smax', 'smax', 'smax', 'smax', 'smax', 'smax', 'smax', 'smax', 'smax', 'smax', 'smax', 'smax', 'smax', 'smax', 'smax', 'smax', 'smax', 'smax', 'smax', 'smax', 'smax', 'smax', 'smax', 'smax', 'smax', 'smax', 'smax', 'smax', 'smax', 'smax', 'smax', 'smax', 'smax', 'smax', 'smax', 'smax', 'smax', 'smax', 'smax', 'smax', 'smax', 'smax', 'smax', 'smax', 'smax', 'smax', 'smax', 'smax', 'smax', 'smax', 'smax', 'smax', 'smax', 'smax', 'smax', 'smax', 'smax', 'smax', 'smax', 'smax', 'smax', 'smax', 'smax', 'smax', 'smax', 'smax', 'smax', 'smax', 'smax', 'smax', 'smax', 'smax', 'smax', 'smax', 'smax', 'smax', 'smax', 'smax', 'smax', 'smax', 'smax', 'smax', 'smax', 'smax', 'smax', 'smax', 'smax', 'smax', 'smax', 'smax', 'smax', 'smax', 'smax', 'smax', 'smax', 'smax', 'smax', 'smax', 'smax', 'smax', 'smax', 'smax', 'smax', 'smax', 'smax', 'smax', 'smax', 'smax', 'smax', 'smax', 'smax', 'smax', 'smax', 'smax', 'smax', 'smax', 'smax', 'smax', 'smax', 'smax', 'smax', 'smax', 'smax', 'smax', 'smax', 'smax', 'smax', 'smax', 'smax', 'smax', 'smax', 'smax', 'smax', 'smax', 'smax', 'smax', 'smax', 'smax', 'smax', 'smax', 'smax', 'smax', 'smax', 'smax', 'smax', 'smax', 'smax', 'smax', 'smax', 'smax', 'smax', 'smax', 'smax', 'smax', 'smax', 'smax', 'smax', 'smax', 'smax', 'smax', 'smax', 'smax', 'smax', 'smax', 'smax', 'smax', 'smax', 'smax', 'smax', 'smax', 'smax', 'smax', 'smax', 'smax', 'smax', 'smax', 'smax', 'smax', 'smax', 'smax', 'smax', 'smax', 'smax', 'smax', 'smax', 'smax', 'smax', 'smax', 'smax', 'smax', 'smax', 'smax', 'smax', 'smax', 'smax', 'smax', 'smax', 'smax', 'smax', 'smax', 'smax', 'smax', 'smax', 'smax', 'smax', 'smax', 'smax', 'smax', 'smax', 'smax', 'smax', 'smax', 'smax', 'smax', 'smax', 'smax', 'smax', 'smax', 'smax', 'smax', 'smax', 'smax', 'smax', 'smax', 'smax', 'smax', 'smax', 'smax', 'smax', 'smax', 'smax', 'smax', 'smax', 'smax', 'smax', 'smax', 'smax', 'smax', 'smax', 'smax', 'smax', 'smax', 'smax', 'smax', 'smax', 'smax', 'smax', 'smax', 'smax', 'smax', 'smax', 'smax', 'smax', 'smax', 'smax', 'smax', 'smax', 'smax', 'smax', 'smax', 'smax', 'smax', 'smax', 'smax', 'smax', 'smax', 'smax', 'smax', 'smax', 'smax', 'smax', 'smax', 'smax', 'smax', 'smax', 'smax', 'smax', 'smax', 'smax', 'smax', 'smax', 'smax', 'smax', 'smax', 'smax', 'smax', 'smax', 'smax', 'smax', 'smax', 'smax', 'smax', 'smax', 'smax', 'smax', 'smax', 'smax', 'smax', 'smax', 'smax', 'smax', 'smax', 'smax', 'smax', 'smax', 'smax', 'smax', 'smax', 'smax', 'smax', 'smax', 'smax', 'smax', 'smax', 'smax', 'smax', 'smax', 'smax', 'smax', 'smax', 'smax', 'smax', 'smax', 'smax', 'smax', 'smax', 'smax', 'smax', 'smax', 'smax', 'smax', 'smax', 'smax', 'smax', 'smax', 'smax', 'smax', 'smax', 'smax', 'smax', 'smax', 'smax', 'smax', 'smax', 'smax', 'smax', 'smax', 'smax', 'smax', 'smax', 'smax', 'smax', 'smax', 'smax', 'smax', 'smax', 'smax', 'smax', 'smax', 'smax', 'smax', 'smax', 'smax', 'smax', 'smax', 'smax', 'smax', 'smax', 'smax', 'smax', 'smax', 'smax', 'smax', 'smax', 'smax', 'smax', 'smax', 'smax', 'smax', 'smax', 'smax', 'smax', 'smax', 'smax', 'smax', 'smax', 'smax', 'smax', 'smax', 'smax', 'smax', 'smax', 'smax', 'smax', 'smax', 'smax', 'smax', 'smax', 'smax', 'smax', 'smax', 'smax', 'smax', 'smax', 'smax', 'smax', 'smax', 'smax', 'smax', 'smax', 'smax', 'smax', 'smax', 'smax', 'smax', 'smax', 'smax', 'smax', 'smax', 'smax', 'smax', 'smax', 'smax', 'smax', 'smax', 'smax', 'smax', 'smax', 'smax', 'smax', 'smax', 'smax', 'smax', 'smax', 'smax', 'smax', 'smax', 'smax', 'smax', 'smax', 'smax', 'smax', 'smax', 'smax', 'smax', 'smax', 'smax', 'smax', 'smax', 'smax', 'smax', 'smax', 'smax', 'smax', 'smax', 'smax', 'smax', 'smax', 'smax', 'smax', 'smax', 'smax', 'smax', 'smax', 'smax', 'smax', 'smax', 'smax', 'smax', 'smax', 'smax', 'smax', 'smax', 'smax', 'smax', 'smax', 'smax', 'smax', 'smax', 'smax', 'smax', 'smax', 'smax', 'smax', 'smax', 'smax', 'smax', 'smax', 'smax', 'smax', 'smax', 'smax', 'smax', 'smax', 'smax', 'smax', 'smax', 'smax', 'smax', 'smax', 'smax', 'smax', 'smax', 'smax', 'smax', 'smax', 'smax', 'smax', 'smax', 'smax', 'smax', 'smax', 'smax', 'smax', 'smax', 'smax', 'smax', 'smax', 'smax', 'smax', 'smax', 'smax', 'smax', 'smax', 'smax', 'smax', 'smax', 'smax', 'smax', 'smax', 'smax', 'smax', 'smax', 'smax', 'smax', 'smax', 'smax', 'smax', 'smax', 'smax', 'smax', 'smax', 'smax', 'smax', 'smax', 'smax', 'smax', 'smax', 'smax', 'smax', 'smax', 'smax', 'smax', 'smax', 'smax', 'smax', 'smax', 'smax', 'smax', 'smax', 'smax', 'smax', 'smax', 'smax', 'smax', 'smax', 'smax', 'smax', 'smax', 'smax', 'smax', 'smax', 'smax', 'smax', 'smax', 'smax', 'smax', 'smax', 'smax', 'smax', 'smax', 'smax', 'smax', 'smax', 'smax', 'smax', 'smax', 'smax', 'smax', 'smax', 'smax', 'smax', 'smax', 'smax', 'smax', 'smax', 'smax', 'smax', 'smax', 'smax', 'smax', 'smax', 'smax', 'smax', 'smax', 'smax', 'smax', 'smax', 'smax', 'smax', 'smax', 'smax', 'smax', 'smax', 'smax', 'smax', 'smax', 'smax', 'smax', 'smax', 'smax', 'smax', 'smax', 'smax', 'smax', 'smax', 'smax', 'smax', 'smax', 'smax', 'smax', 'smax', 'smax', 'smax', 'smax', 'smax', 'smax', 'smax', 'smax', 'smax', 'smax', 'smax', 'smax', 'smax', 'smax', 'smax', 'smax', 'smax', 'smax', 'smax', 'smax', 'smax', 'smax', 'smax', 'smax', 'smax', 'smax', 'smax', 'smax', 'smax', 'smax', 'smax', 'smax', 'smax', 'smax', 'smax', 'smax', 'smax', 'smax', 'smax', 'smax', 'smax', 'smax', 'smax', 'smax', 'smax', 'smax', 'smax', 'smax', 'smax', 'smax', 'smax', 'smax', 'smax', 'smax', 'smax', 'smax', 'smax', 'smax', 'smax', 'smax', 'smax', 'smax', 'smax', 'smax', 'smax', 'smax', 'smax', 'smax', 'smax', 'smax', 'smax', 'smax', 'smax', 'smax', 'smax', 'smax', 'smax', 'smax', 'smax', 'smax', 'smax', 'smax', 'smax', 'smax', 'smax', 'smax', 'smax', 'smax', 'smax', 'smax', 'smax', 'smax', 'smax', 'smax', 'smax', 'smax', 'smax', 'smax', 'smax', 'smax', 'smax', 'smax', 'smax', 'smax', 'smax', 'smax', 'smax', 'smax', 'smax', 'smax', 'smax', 'smax', 'smax', 'smax', 'smax', 'smax', 'smax', 'smax', 'smax', 'smax', 'smax', 'smax', 'smax', 'smax', 'smax', 'smax', 'smax', 'smax', 'smax', 'smax', 'smax', 'smax', 'smax', 'smax', 'smax', 'smax', 'smax', 'smax', 'smax', 'smax', 'smax', 'smax', 'smax', 'smax', 'smax', 'smax', 'smax', 'smax', 'smax', 'smax', 'smax', 'smax', 'smax', 'smax', 'smax', 'smax', 'smax', 'smax', 'smax', 'smax', 'smax', 'smax', 'smax', 'smax', 'smax', 'smax', 'smax', 'smax', 'smax', 'smax', 'smax', 'smax', 'smax', 'smax', 'smax', 'smax', 'smax', 'smax', 'smax', 'smax', 'smax', 'smax', 'smax', 'smax', 'smax', 'smax', 'smax', 'smax', 'smax', 'smax', 'smax', 'smax', 'smax', 'smax', 'smax', 'smax', 'smax', 'smax', 'smax', 'smax', 'sports-watch', 'sports-watch', 'sports-watch', 'sports-watch', 'sports-watch', 'sports-watch', 'sports-watch', 'sports-watch', 'sports-watch', 'sports-watch', 'sports-watch', 'sports-watch', 'sports-watch', 'sports-watch', 'sports-watch', 'sports-watch', 'sports-watch', 'sports-watch', 'sports-watch', 'sports-watch', 'sports-watch', 'sports-watch', 'sports-watch', 'sports-watch', 'sports-watch', 'sports-watch', 'sports-watch', 'sports-watch', 'sports-watch', 'sports-watch', 'sports-watch', 'sports-watch', 'sports-watch', 'sports-watch', 'sports-watch', 'sports-watch', 'sports-watch', 'sports-watch', 'sports-watch', 'sports-watch', 'sports-watch', 'sports-watch', 'sports-watch', 'sports-watch', 'sports-watch', 'sports-watch', 'sports-watch', 'sports-watch', 'sports-watch', 'sports-watch', 'sports-watch', 'sports-watch', 'sports-watch', 'sports-watch', 'sports-watch', 'sports-watch', 'sports-watch', 'sports-watch', 'sports-watch', 'sports-watch', 'sports-watch', 'sports-watch', 'sports-watch', 'sports-watch', 'sports-watch', 'sports-watch', 'sports-watch', 'sports-watch', 'sports-watch', 'sports-watch', 'sports-watch', 'sports-watch', 'sports-watch', 'sports-watch', 'sports-watch', 'sports-watch', 'sports-watch', 'sports-watch', 'sports-watch', 'sports-watch', 'sports-watch', 'sports-watch', 'sports-watch', 'sports-watch', 'sports-watch', 'sports-watch', 'sports-watch', 'sports-watch', 'sports-watch', 'sports-watch', 'sports-watch', 'sports-watch', 'sports-watch', 'sports-watch', 'sports-watch', 'sports-watch', 'sports-watch', 'sports-watch', 'sports-watch', 'sports-watch', 'sports-watch', 'sports-watch', 'sports-watch', 'sports-watch', 'sports-watch', 'sports-watch', 'sports-watch', 'sports-watch', 'sports-watch', 'sports-watch', 'sports-watch', 'sports-watch', 'sports-watch', 'sports-watch', 'sports-watch', 'sports-watch', 'sports-watch', 'sports-watch', 'sports-watch', 'sports-watch', 'sports-watch', 'sports-watch', 'sports-watch', 'sports-watch', 'sports-watch', 'sports-watch', 'sports-watch', 'sports-watch', 'sports-watch', 'sports-watch', 'sports-watch', 'sports-watch', 'sports-watch', 'sports-watch', 'sports-watch', 'sports-watch', 'sports-watch', 'sports-watch', 'sports-watch', 'sports-watch', 'sports-watch', 'sports-watch', 'sports-watch', 'sports-watch', 'sports-watch', 'sports-watch', 'sports-watch', 'sports-watch', 'sports-watch', 'sports-watch', 'sports-watch', 'sports-watch', 'sports-watch', 'sports-watch', 'sports-watch', 'sports-watch', 'sports-watch', 'sports-watch', 'sports-watch', 'sports-watch', 'sports-watch', 'sports-watch', 'sports-watch', 'sports-watch', 'sports-watch', 'sports-watch', 'sports-watch', 'sports-watch', 'sports-watch', 'sports-watch', 'sports-watch', 'sports-watch', 'sports-watch', 'sports-watch', 'sports-watch', 'sports-watch', 'sports-watch', 'sports-watch', 'sports-watch', 'sports-watch', 'sports-watch', 'sports-watch', 'sports-watch', 'sports-watch', 'sports-watch', 'sports-watch', 'sports-watch', 'sports-watch', 'sports-watch', 'sports-watch', 'sports-watch', 'sports-watch', 'sports-watch', 'sports-watch', 'sports-watch', 'sports-watch', 'sports-watch', 'sports-watch', 'sports-watch', 'sports-watch', 'sports-watch', 'sports-watch', 'sports-watch', 'sports-watch', 'sports-watch', 'sports-watch', 'sports-watch', 'sports-watch', 'sports-watch', 'sports-watch', 'sports-watch', 'sports-watch', 'sports-watch', 'sports-watch', 'sports-watch', 'sports-watch', 'sports-watch', 'sports-watch', 'sports-watch', 'sports-watch', 'sports-watch', 'sports-watch', 'sports-watch', 'sports-watch', 'sports-watch', 'sports-watch', 'sports-watch', 'sports-watch', 'sports-watch', 'sports-watch', 'sports-watch', 'sports-watch', 'sports-watch', 'sports-watch', 'sports-watch', 'sports-watch', 'sports-watch', 'sports-watch', 'sports-watch', 'sports-watch', 'sports-watch', 'sports-watch', 'sports-watch', 'sports-watch', 'sports-watch', 'sports-watch', 'sports-watch', 'sports-watch', 'sports-watch', 'sports-watch', 'sports-watch', 'sports-watch', 'sports-watch', 'sports-watch', 'sports-watch', 'sports-watch', 'sports-watch', 'sports-watch', 'sports-watch', 'sports-watch', 'sports-watch', 'sports-watch', 'sports-watch', 'sports-watch', 'sports-watch', 'sports-watch', 'sports-watch', 'sports-watch', 'sports-watch', 'sports-watch', 'sports-watch', 'sports-watch', 'sports-watch', 'sports-watch', 'sports-watch', 'sports-watch', 'sports-watch', 'sports-watch', 'sports-watch', 'sports-watch', 'sports-watch', 'sports-watch', 'sports-watch', 'sports-watch', 'sports-watch', 'sports-watch', 'sports-watch', 'sports-watch', 'sports-watch', 'sports-watch', 'sports-watch', 'sports-watch', 'sports-watch', 'sports-watch', 'sports-watch', 'sports-watch', 'sports-watch', 'sports-watch', 'sports-watch', 'sports-watch', 'sports-watch', 'sports-watch', 'sports-watch', 'sports-watch', 'sports-watch', 'sports-watch', 'sports-watch', 'sports-watch', 'sports-watch', 'sports-watch', 'sports-watch', 'sports-watch', 'sports-watch', 'sports-watch', 'sports-watch', 'sports-watch', 'sports-watch', 'sports-watch', 'sports-watch', 'sports-watch', 'sports-watch', 'sports-watch', 'sports-watch', 'sports-watch', 'sports-watch', 'sports-watch', 'sports-watch', 'sports-watch', 'sports-watch', 'sports-watch', 'sports-watch', 'sports-watch', 'sports-watch', 'sports-watch', 'sports-watch', 'sports-watch', 'sports-watch', 'sports-watch', 'sports-watch', 'sports-watch', 'sports-watch', 'sports-watch', 'sports-watch', 'sports-watch', 'sports-watch', 'sports-watch', 'sports-watch', 'sports-watch', 'sports-watch', 'sports-watch', 'sports-watch', 'sports-watch', 'sports-watch', 'sports-watch', 'sports-watch', 'sports-watch', 'sports-watch', 'sports-watch', 'sports-watch', 'sports-watch', 'sports-watch', 'sports-watch', 'sports-watch', 'sports-watch', 'sports-watch', 'sports-watch', 'sports-watch', 'sports-watch', 'sports-watch', 'sports-watch', 'sports-watch', 'sports-watch', 'sports-watch', 'sports-watch', 'sports-watch', 'sports-watch', 'sports-watch', 'sports-watch', 'sports-watch', 'sports-watch', 'sports-watch', 'sports-watch', 'sports-watch', 'sports-watch', 'sports-watch', 'sports-watch', 'sports-watch', 'sports-watch', 'sports-watch', 'sports-watch', 'sports-watch', 'sports-watch', 'sports-watch', 'sports-watch', 'sports-watch', 'sports-watch', 'sports-watch', 'sports-watch', 'sports-watch', 'sports-watch', 'sports-watch', 'sports-watch', 'sports-watch', 'sports-watch', 'sports-watch', 'sports-watch', 'sports-watch', 'sports-watch', 'sports-watch', 'sports-watch', 'sports-watch', 'sports-watch', 'sports-watch', 'sports-watch', 'sports-watch', 'sports-watch', 'sports-watch', 'sports-watch', 'sports-watch', 'sports-watch', 'sports-watch', 'sports-watch', 'sports-watch', 'sports-watch', 'sports-watch', 'sports-watch', 'sports-watch', 'sports-watch', 'sports-watch', 'sports-watch', 'sports-watch', 'sports-watch', 'sports-watch', 'sports-watch', 'sports-watch', 'sports-watch', 'sports-watch', 'sports-watch', 'sports-watch', 'sports-watch', 'sports-watch', 'sports-watch', 'sports-watch', 'sports-watch', 'sports-watch', 'sports-watch', 'sports-watch', 'sports-watch', 'sports-watch', 'sports-watch', 'sports-watch', 'sports-watch', 'sports-watch', 'sports-watch', 'sports-watch', 'sports-watch', 'sports-watch', 'sports-watch', 'sports-watch', 'sports-watch', 'sports-watch', 'sports-watch', 'sports-watch', 'sports-watch', 'sports-watch', 'sports-watch', 'sports-watch', 'sports-watch', 'sports-watch', 'sports-watch', 'sports-watch', 'sports-watch', 'sports-watch', 'sports-watch', 'sports-watch', 'sports-watch', 'sports-watch', 'sports-watch', 'sports-watch', 'sports-watch', 'sports-watch', 'sports-watch', 'sports-watch', 'sports-watch', 'sports-watch', 'sports-watch', 'sports-watch', 'sports-watch', 'sports-watch', 'sports-watch', 'sports-watch', 'sports-watch', 'sports-watch', 'sports-watch', 'sports-watch', 'sports-watch', 'sports-watch', 'sports-watch', 'sports-watch', 'sports-watch', 'sports-watch', 'sports-watch', 'sports-watch', 'sports-watch', 'sports-watch', 'sports-watch', 'sports-watch', 'sports-watch', 'sports-watch', 'sports-watch', 'sports-watch', 'sports-watch', 'sports-watch', 'sports-watch', 'sports-watch', 'sports-watch', 'sports-watch', 'sports-watch', 'sports-watch', 'sports-watch', 'sports-watch', 'sports-watch', 'sports-watch', 'sports-watch', 'sports-watch', 'sports-watch', 'sports-watch', 'sports-watch', 'sports-watch', 'sports-watch', 'sports-watch', 'sports-watch', 'sports-watch', 'sports-watch', 'sports-watch', 'sports-watch', 'sports-watch', 'sports-watch', 'sports-watch', 'sports-watch', 'sports-watch', 'sports-watch', 'sports-watch', 'sports-watch', 'sports-watch', 'sports-watch', 'sports-watch', 'sports-watch', 'sports-watch', 'sports-watch', 'sports-watch', 'sports-watch', 'sports-watch', 'sports-watch', 'sports-watch', 'sports-watch', 'sports-watch', 'sports-watch', 'sports-watch', 'sports-watch', 'sports-watch', 'sports-watch', 'sports-watch', 'sports-watch', 'sports-watch', 'sports-watch', 'sports-watch', 'sports-watch', 'sports-watch', 'sports-watch', 'sports-watch', 'sports-watch', 'sports-watch', 'sports-watch', 'sports-watch', 'sports-watch', 'sports-watch', 'sports-watch', 'sports-watch', 'sports-watch', 'sports-watch', 'sports-watch', 'sports-watch', 'sports-watch', 'sports-watch', 'sports-watch', 'sports-watch', 'sports-watch', 'sports-watch', 'sports-watch', 'sports-watch', 'sports-watch', 'sports-watch', 'sports-watch', 'sports-watch', 'sports-watch', 'sports-watch', 'sports-watch', 'sports-watch', 'sports-watch', 'sports-watch', 'sports-watch', 'sports-watch', 'sports-watch', 'sports-watch', 'sports-watch', 'sports-watch', 'sports-watch', 'sports-watch', 'sports-watch', 'sports-watch', 'sports-watch', 'sports-watch', 'sports-watch', 'sports-watch', 'sports-watch', 'sports-watch', 'sports-watch', 'sports-watch', 'sports-watch', 'sports-watch', 'sports-watch', 'sports-watch', 'sports-watch', 'sports-watch', 'sports-watch', 'sports-watch', 'sports-watch', 'sports-watch', 'sports-watch', 'sports-watch', 'sports-watch', 'sports-watch', 'sports-watch', 'sports-watch', 'sports-watch', 'sports-watch', 'sports-watch', 'sports-watch', 'sports-watch', 'sports-watch', 'sports-watch', 'sports-watch', 'sports-watch', 'sports-watch', 'sports-watch', 'sports-watch', 'sports-watch', 'sports-watch', 'sports-watch', 'sports-watch', 'sports-watch', 'sports-watch', 'sports-watch', 'sports-watch', 'sports-watch', 'sports-watch', 'sports-watch', 'sports-watch', 'sports-watch', 'sports-watch', 'sports-watch', 'sports-watch', 'sports-watch', 'sports-watch', 'sports-watch', 'sports-watch', 'sports-watch', 'sports-watch', 'sports-watch', 'sports-watch', 'sports-watch', 'sports-watch', 'sports-watch', 'sports-watch', 'sports-watch', 'sports-watch', 'sports-watch', 'sports-watch', 'sports-watch', 'sports-watch', 'sports-watch', 'sports-watch', 'sports-watch', 'sports-watch', 'sports-watch', 'sports-watch', 'sports-watch', 'sports-watch', 'sports-watch', 'sports-watch', 'sports-watch', 'sports-watch', 'sports-watch', 'sports-watch', 'sports-watch', 'sports-watch', 'sports-watch', 'sports-watch', 'sports-watch', 'sports-watch', 'sports-watch', 'sports-watch', 'sports-watch', 'sports-watch', 'sports-watch', 'sports-watch', 'sports-watch', 'sports-watch', 'sports-watch', 'sports-watch', 'sports-watch', 'sports-watch', 'sports-watch', 'sports-watch', 'sports-watch', 'sports-watch', 'sports-watch', 'sports-watch', 'sports-watch', 'sports-watch', 'sports-watch', 'sports-watch', 'sports-watch', 'sports-watch', 'sports-watch', 'sports-watch', 'sports-watch', 'sports-watch', 'sports-watch', 'sports-watch', 'sports-watch', 'sports-watch', 'sports-watch', 'sports-watch', 'sports-watch', 'sports-watch', 'sports-watch', 'sports-watch', 'sports-watch', 'sports-watch', 'sports-watch', 'sports-watch', 'sports-watch', 'sports-watch', 'sports-watch', 'sports-watch', 'sports-watch', 'sports-watch', 'sports-watch', 'sports-watch', 'sports-watch', 'sports-watch', 'sports-watch', 'sports-watch', 'sports-watch', 'sports-watch', 'sports-watch', 'sports-watch', 'sports-watch', 'sports-watch', 'sports-watch', 'sports-watch', 'sports-watch', 'sports-watch', 'sports-watch', 'sports-watch', 'sports-watch', 'sports-watch', 'sports-watch', 'sports-watch', 'sports-watch', 'sports-watch', 'sports-watch', 'sports-watch', 'sports-watch', 'sports-watch', 'sports-watch', 'sports-watch', 'sports-watch', 'sports-watch', 'sports-watch', 'sports-watch', 'sports-watch', 'sports-watch', 'sports-watch', 'sports-watch', 'sports-watch', 'sports-watch', 'sports-watch', 'sports-watch', 'sports-watch', 'sports-watch', 'sports-watch', 'sports-watch', 'sports-watch', 'sports-watch', 'sports-watch', 'sports-watch', 'sports-watch', 'sports-watch', 'sports-watch', 'sports-watch', 'sports-watch', 'sports-watch', 'sports-watch', 'sports-watch', 'sports-watch', 'sports-watch', 'sports-watch', 'sports-watch', 'sports-watch', 'sports-watch', 'sports-watch', 'sports-watch', 'sports-watch', 'sports-watch', 'sports-watch', 'sports-watch', 'sports-watch', 'sports-watch', 'sports-watch', 'sports-watch', 'sports-watch', 'sports-watch', 'sports-watch', 'sports-watch', 'sports-watch', 'sports-watch', 'sports-watch', 'sports-watch', 'sports-watch', 'sports-watch', 'sports-watch', 'sports-watch', 'sports-watch', 'sports-watch', 'sports-watch', 'sports-watch', 'sports-watch', 'sports-watch', 'sports-watch', 'sports-watch', 'sports-watch', 'sports-watch', 'sports-watch', 'sports-watch', 'sports-watch', 'sports-watch', 'sports-watch', 'sports-watch', 'sports-watch', 'sports-watch', 'sports-watch', 'sports-watch', 'sports-watch', 'sports-watch', 'sports-watch', 'sports-watch', 'sports-watch', 'sports-watch', 'sports-watch', 'sports-watch', 'sports-watch', 'sports-watch', 'sports-watch', 'sports-watch', 'sports-watch', 'sports-watch', 'sports-watch', 'sports-watch', 'sports-watch', 'sports-watch', 'sports-watch', 'sports-watch', 'sports-watch', 'sports-watch', 'sports-watch', 'sports-watch', 'sports-watch', 'sports-watch', 'sports-watch', 'sports-watch', 'sports-watch', 'sports-watch', 'sports-watch', 'sports-watch', 'sports-watch', 'sports-watch', 'sports-watch', 'sports-watch', 'sports-watch', 'sports-watch', 'sports-watch', 'sports-watch', 'sports-watch', 'sports-watch', 'sports-watch', 'sports-watch', 'sports-watch', 'topic-news', 'topic-news', 'topic-news', 'topic-news', 'topic-news', 'topic-news', 'topic-news', 'topic-news', 'topic-news', 'topic-news', 'topic-news', 'topic-news', 'topic-news', 'topic-news', 'topic-news', 'topic-news', 'topic-news', 'topic-news', 'topic-news', 'topic-news', 'topic-news', 'topic-news', 'topic-news', 'topic-news', 'topic-news', 'topic-news', 'topic-news', 'topic-news', 'topic-news', 'topic-news', 'topic-news', 'topic-news', 'topic-news', 'topic-news', 'topic-news', 'topic-news', 'topic-news', 'topic-news', 'topic-news', 'topic-news', 'topic-news', 'topic-news', 'topic-news', 'topic-news', 'topic-news', 'topic-news', 'topic-news', 'topic-news', 'topic-news', 'topic-news', 'topic-news', 'topic-news', 'topic-news', 'topic-news', 'topic-news', 'topic-news', 'topic-news', 'topic-news', 'topic-news', 'topic-news', 'topic-news', 'topic-news', 'topic-news', 'topic-news', 'topic-news', 'topic-news', 'topic-news', 'topic-news', 'topic-news', 'topic-news', 'topic-news', 'topic-news', 'topic-news', 'topic-news', 'topic-news', 'topic-news', 'topic-news', 'topic-news', 'topic-news', 'topic-news', 'topic-news', 'topic-news', 'topic-news', 'topic-news', 'topic-news', 'topic-news', 'topic-news', 'topic-news', 'topic-news', 'topic-news', 'topic-news', 'topic-news', 'topic-news', 'topic-news', 'topic-news', 'topic-news', 'topic-news', 'topic-news', 'topic-news', 'topic-news', 'topic-news', 'topic-news', 'topic-news', 'topic-news', 'topic-news', 'topic-news', 'topic-news', 'topic-news', 'topic-news', 'topic-news', 'topic-news', 'topic-news', 'topic-news', 'topic-news', 'topic-news', 'topic-news', 'topic-news', 'topic-news', 'topic-news', 'topic-news', 'topic-news', 'topic-news', 'topic-news', 'topic-news', 'topic-news', 'topic-news', 'topic-news', 'topic-news', 'topic-news', 'topic-news', 'topic-news', 'topic-news', 'topic-news', 'topic-news', 'topic-news', 'topic-news', 'topic-news', 'topic-news', 'topic-news', 'topic-news', 'topic-news', 'topic-news', 'topic-news', 'topic-news', 'topic-news', 'topic-news', 'topic-news', 'topic-news', 'topic-news', 'topic-news', 'topic-news', 'topic-news', 'topic-news', 'topic-news', 'topic-news', 'topic-news', 'topic-news', 'topic-news', 'topic-news', 'topic-news', 'topic-news', 'topic-news', 'topic-news', 'topic-news', 'topic-news', 'topic-news', 'topic-news', 'topic-news', 'topic-news', 'topic-news', 'topic-news', 'topic-news', 'topic-news', 'topic-news', 'topic-news', 'topic-news', 'topic-news', 'topic-news', 'topic-news', 'topic-news', 'topic-news', 'topic-news', 'topic-news', 'topic-news', 'topic-news', 'topic-news', 'topic-news', 'topic-news', 'topic-news', 'topic-news', 'topic-news', 'topic-news', 'topic-news', 'topic-news', 'topic-news', 'topic-news', 'topic-news', 'topic-news', 'topic-news', 'topic-news', 'topic-news', 'topic-news', 'topic-news', 'topic-news', 'topic-news', 'topic-news', 'topic-news', 'topic-news', 'topic-news', 'topic-news', 'topic-news', 'topic-news', 'topic-news', 'topic-news', 'topic-news', 'topic-news', 'topic-news', 'topic-news', 'topic-news', 'topic-news', 'topic-news', 'topic-news', 'topic-news', 'topic-news', 'topic-news', 'topic-news', 'topic-news', 'topic-news', 'topic-news', 'topic-news', 'topic-news', 'topic-news', 'topic-news', 'topic-news', 'topic-news', 'topic-news', 'topic-news', 'topic-news', 'topic-news', 'topic-news', 'topic-news', 'topic-news', 'topic-news', 'topic-news', 'topic-news', 'topic-news', 'topic-news', 'topic-news', 'topic-news', 'topic-news', 'topic-news', 'topic-news', 'topic-news', 'topic-news', 'topic-news', 'topic-news', 'topic-news', 'topic-news', 'topic-news', 'topic-news', 'topic-news', 'topic-news', 'topic-news', 'topic-news', 'topic-news', 'topic-news', 'topic-news', 'topic-news', 'topic-news', 'topic-news', 'topic-news', 'topic-news', 'topic-news', 'topic-news', 'topic-news', 'topic-news', 'topic-news', 'topic-news', 'topic-news', 'topic-news', 'topic-news', 'topic-news', 'topic-news', 'topic-news', 'topic-news', 'topic-news', 'topic-news', 'topic-news', 'topic-news', 'topic-news', 'topic-news', 'topic-news', 'topic-news', 'topic-news', 'topic-news', 'topic-news', 'topic-news', 'topic-news', 'topic-news', 'topic-news', 'topic-news', 'topic-news', 'topic-news', 'topic-news', 'topic-news', 'topic-news', 'topic-news', 'topic-news', 'topic-news', 'topic-news', 'topic-news', 'topic-news', 'topic-news', 'topic-news', 'topic-news', 'topic-news', 'topic-news', 'topic-news', 'topic-news', 'topic-news', 'topic-news', 'topic-news', 'topic-news', 'topic-news', 'topic-news', 'topic-news', 'topic-news', 'topic-news', 'topic-news', 'topic-news', 'topic-news', 'topic-news', 'topic-news', 'topic-news', 'topic-news', 'topic-news', 'topic-news', 'topic-news', 'topic-news', 'topic-news', 'topic-news', 'topic-news', 'topic-news', 'topic-news', 'topic-news', 'topic-news', 'topic-news', 'topic-news', 'topic-news', 'topic-news', 'topic-news', 'topic-news', 'topic-news', 'topic-news', 'topic-news', 'topic-news', 'topic-news', 'topic-news', 'topic-news', 'topic-news', 'topic-news', 'topic-news', 'topic-news', 'topic-news', 'topic-news', 'topic-news', 'topic-news', 'topic-news', 'topic-news', 'topic-news', 'topic-news', 'topic-news', 'topic-news', 'topic-news', 'topic-news', 'topic-news', 'topic-news', 'topic-news', 'topic-news', 'topic-news', 'topic-news', 'topic-news', 'topic-news', 'topic-news', 'topic-news', 'topic-news', 'topic-news', 'topic-news', 'topic-news', 'topic-news', 'topic-news', 'topic-news', 'topic-news', 'topic-news', 'topic-news', 'topic-news', 'topic-news', 'topic-news', 'topic-news', 'topic-news', 'topic-news', 'topic-news', 'topic-news', 'topic-news', 'topic-news', 'topic-news', 'topic-news', 'topic-news', 'topic-news', 'topic-news', 'topic-news', 'topic-news', 'topic-news', 'topic-news', 'topic-news', 'topic-news', 'topic-news', 'topic-news', 'topic-news', 'topic-news', 'topic-news', 'topic-news', 'topic-news', 'topic-news', 'topic-news', 'topic-news', 'topic-news', 'topic-news', 'topic-news', 'topic-news', 'topic-news', 'topic-news', 'topic-news', 'topic-news', 'topic-news', 'topic-news', 'topic-news', 'topic-news', 'topic-news', 'topic-news', 'topic-news', 'topic-news', 'topic-news', 'topic-news', 'topic-news', 'topic-news', 'topic-news', 'topic-news', 'topic-news', 'topic-news', 'topic-news', 'topic-news', 'topic-news', 'topic-news', 'topic-news', 'topic-news', 'topic-news', 'topic-news', 'topic-news', 'topic-news', 'topic-news', 'topic-news', 'topic-news', 'topic-news', 'topic-news', 'topic-news', 'topic-news', 'topic-news', 'topic-news', 'topic-news', 'topic-news', 'topic-news', 'topic-news', 'topic-news', 'topic-news', 'topic-news', 'topic-news', 'topic-news', 'topic-news', 'topic-news', 'topic-news', 'topic-news', 'topic-news', 'topic-news', 'topic-news', 'topic-news', 'topic-news', 'topic-news', 'topic-news', 'topic-news', 'topic-news', 'topic-news', 'topic-news', 'topic-news', 'topic-news', 'topic-news', 'topic-news', 'topic-news', 'topic-news', 'topic-news', 'topic-news', 'topic-news', 'topic-news', 'topic-news', 'topic-news', 'topic-news', 'topic-news', 'topic-news', 'topic-news', 'topic-news', 'topic-news', 'topic-news', 'topic-news', 'topic-news', 'topic-news', 'topic-news', 'topic-news', 'topic-news', 'topic-news', 'topic-news', 'topic-news', 'topic-news', 'topic-news', 'topic-news', 'topic-news', 'topic-news', 'topic-news', 'topic-news', 'topic-news', 'topic-news', 'topic-news', 'topic-news', 'topic-news', 'topic-news', 'topic-news', 'topic-news', 'topic-news', 'topic-news', 'topic-news', 'topic-news', 'topic-news', 'topic-news', 'topic-news', 'topic-news', 'topic-news', 'topic-news', 'topic-news', 'topic-news', 'topic-news', 'topic-news', 'topic-news', 'topic-news', 'topic-news', 'topic-news', 'topic-news', 'topic-news', 'topic-news', 'topic-news', 'topic-news', 'topic-news', 'topic-news', 'topic-news', 'topic-news', 'topic-news', 'topic-news', 'topic-news', 'topic-news', 'topic-news', 'topic-news', 'topic-news', 'topic-news', 'topic-news', 'topic-news', 'topic-news', 'topic-news', 'topic-news', 'topic-news', 'topic-news', 'topic-news', 'topic-news', 'topic-news', 'topic-news', 'topic-news', 'topic-news', 'topic-news', 'topic-news', 'topic-news', 'topic-news', 'topic-news', 'topic-news', 'topic-news', 'topic-news', 'topic-news', 'topic-news', 'topic-news', 'topic-news', 'topic-news', 'topic-news', 'topic-news', 'topic-news', 'topic-news', 'topic-news', 'topic-news', 'topic-news', 'topic-news', 'topic-news', 'topic-news', 'topic-news', 'topic-news', 'topic-news', 'topic-news', 'topic-news', 'topic-news', 'topic-news', 'topic-news', 'topic-news', 'topic-news', 'topic-news', 'topic-news', 'topic-news', 'topic-news', 'topic-news', 'topic-news', 'topic-news', 'topic-news', 'topic-news', 'topic-news', 'topic-news', 'topic-news', 'topic-news', 'topic-news', 'topic-news', 'topic-news', 'topic-news', 'topic-news', 'topic-news', 'topic-news', 'topic-news', 'topic-news', 'topic-news', 'topic-news', 'topic-news', 'topic-news', 'topic-news', 'topic-news', 'topic-news', 'topic-news', 'topic-news', 'topic-news', 'topic-news', 'topic-news', 'topic-news', 'topic-news', 'topic-news', 'topic-news', 'topic-news', 'topic-news', 'topic-news', 'topic-news', 'topic-news', 'topic-news', 'topic-news', 'topic-news', 'topic-news', 'topic-news', 'topic-news', 'topic-news', 'topic-news', 'topic-news', 'topic-news', 'topic-news', 'topic-news', 'topic-news', 'topic-news', 'topic-news', 'topic-news', 'topic-news', 'topic-news', 'topic-news', 'topic-news', 'topic-news', 'topic-news', 'topic-news', 'topic-news', 'topic-news', 'topic-news', 'topic-news', 'topic-news', 'topic-news', 'topic-news', 'topic-news', 'topic-news', 'topic-news', 'topic-news', 'topic-news', 'topic-news', 'topic-news', 'topic-news', 'topic-news', 'topic-news', 'topic-news', 'topic-news', 'topic-news', 'topic-news', 'topic-news', 'topic-news', 'topic-news', 'topic-news', 'topic-news', 'topic-news', 'topic-news', 'topic-news', 'topic-news', 'topic-news', 'topic-news', 'topic-news', 'topic-news', 'topic-news', 'topic-news', 'topic-news', 'topic-news', 'topic-news', 'topic-news', 'topic-news', 'topic-news', 'topic-news', 'topic-news', 'topic-news', 'topic-news', 'topic-news', 'topic-news', 'topic-news', 'topic-news', 'topic-news', 'topic-news', 'topic-news', 'topic-news', 'topic-news', 'topic-news', 'topic-news', 'topic-news', 'topic-news', 'topic-news', 'topic-news', 'topic-news', 'topic-news', 'topic-news', 'topic-news', 'topic-news', 'topic-news', 'topic-news', 'topic-news', 'topic-news', 'topic-news', 'topic-news', 'topic-news', 'topic-news', 'topic-news', 'topic-news', 'topic-news', 'topic-news', 'topic-news', 'topic-news', 'topic-news', 'topic-news', 'topic-news', 'topic-news', 'topic-news', 'topic-news', 'topic-news']\n"
          ],
          "name": "stdout"
        },
        {
          "output_type": "stream",
          "text": [
            "\n"
          ],
          "name": "stderr"
        }
      ]
    },
    {
      "cell_type": "markdown",
      "metadata": {
        "colab_type": "text",
        "id": "-2lrwW7OYHXC"
      },
      "source": [
        "- 特徴量とラベル"
      ]
    },
    {
      "cell_type": "code",
      "metadata": {
        "colab_type": "code",
        "id": "n7qEl5ZMmOYa",
        "colab": {
          "base_uri": "https://localhost:8080/",
          "height": 204
        },
        "outputId": "7ca2f05c-4aa9-4168-86a2-ba67281cd66d"
      },
      "source": [
        "df = pd.DataFrame({'text' : all_text, 'label' : all_label})\n",
        "df.head()"
      ],
      "execution_count": 10,
      "outputs": [
        {
          "output_type": "execute_result",
          "data": {
            "text/html": [
              "<div>\n",
              "<style scoped>\n",
              "    .dataframe tbody tr th:only-of-type {\n",
              "        vertical-align: middle;\n",
              "    }\n",
              "\n",
              "    .dataframe tbody tr th {\n",
              "        vertical-align: top;\n",
              "    }\n",
              "\n",
              "    .dataframe thead th {\n",
              "        text-align: right;\n",
              "    }\n",
              "</style>\n",
              "<table border=\"1\" class=\"dataframe\">\n",
              "  <thead>\n",
              "    <tr style=\"text-align: right;\">\n",
              "      <th></th>\n",
              "      <th>text</th>\n",
              "      <th>label</th>\n",
              "    </tr>\n",
              "  </thead>\n",
              "  <tbody>\n",
              "    <tr>\n",
              "      <th>0</th>\n",
              "      <td>友人代表のスピーチ、独女はどうこなしている？もうすぐジューン・ブライドと呼ばれる６月。独女の...</td>\n",
              "      <td>dokujo-tsushin</td>\n",
              "    </tr>\n",
              "    <tr>\n",
              "      <th>1</th>\n",
              "      <td>ネットで断ち切れない元カレとの縁携帯電話が普及する以前、恋人への連絡ツールは一般電話が普通だ...</td>\n",
              "      <td>dokujo-tsushin</td>\n",
              "    </tr>\n",
              "    <tr>\n",
              "      <th>2</th>\n",
              "      <td>相次ぐ芸能人の“すっぴん”披露　その時、独女の心境は？「男性はやっぱり、女性の“すっぴん”が...</td>\n",
              "      <td>dokujo-tsushin</td>\n",
              "    </tr>\n",
              "    <tr>\n",
              "      <th>3</th>\n",
              "      <td>ムダな抵抗！？ 加齢の現実ヒップの加齢による変化は「たわむ→下がる→内に流れる」、バストは「...</td>\n",
              "      <td>dokujo-tsushin</td>\n",
              "    </tr>\n",
              "    <tr>\n",
              "      <th>4</th>\n",
              "      <td>税金を払うのは私たちなんですけど！6月から支給される子ども手当だが、当初は子ども一人当たり月...</td>\n",
              "      <td>dokujo-tsushin</td>\n",
              "    </tr>\n",
              "  </tbody>\n",
              "</table>\n",
              "</div>"
            ],
            "text/plain": [
              "                                                text           label\n",
              "0  友人代表のスピーチ、独女はどうこなしている？もうすぐジューン・ブライドと呼ばれる６月。独女の...  dokujo-tsushin\n",
              "1  ネットで断ち切れない元カレとの縁携帯電話が普及する以前、恋人への連絡ツールは一般電話が普通だ...  dokujo-tsushin\n",
              "2  相次ぐ芸能人の“すっぴん”披露　その時、独女の心境は？「男性はやっぱり、女性の“すっぴん”が...  dokujo-tsushin\n",
              "3  ムダな抵抗！？ 加齢の現実ヒップの加齢による変化は「たわむ→下がる→内に流れる」、バストは「...  dokujo-tsushin\n",
              "4  税金を払うのは私たちなんですけど！6月から支給される子ども手当だが、当初は子ども一人当たり月...  dokujo-tsushin"
            ]
          },
          "metadata": {
            "tags": []
          },
          "execution_count": 10
        }
      ]
    },
    {
      "cell_type": "code",
      "metadata": {
        "colab_type": "code",
        "id": "kgGmT86omSi9",
        "colab": {
          "base_uri": "https://localhost:8080/",
          "height": 204
        },
        "outputId": "acea8a39-d851-4e22-f55c-f8d034fd80a7"
      },
      "source": [
        "df = df.sample(frac=1, random_state=23).reset_index(drop=True)\n",
        "df.head()"
      ],
      "execution_count": 11,
      "outputs": [
        {
          "output_type": "execute_result",
          "data": {
            "text/html": [
              "<div>\n",
              "<style scoped>\n",
              "    .dataframe tbody tr th:only-of-type {\n",
              "        vertical-align: middle;\n",
              "    }\n",
              "\n",
              "    .dataframe tbody tr th {\n",
              "        vertical-align: top;\n",
              "    }\n",
              "\n",
              "    .dataframe thead th {\n",
              "        text-align: right;\n",
              "    }\n",
              "</style>\n",
              "<table border=\"1\" class=\"dataframe\">\n",
              "  <thead>\n",
              "    <tr style=\"text-align: right;\">\n",
              "      <th></th>\n",
              "      <th>text</th>\n",
              "      <th>label</th>\n",
              "    </tr>\n",
              "  </thead>\n",
              "  <tbody>\n",
              "    <tr>\n",
              "      <th>0</th>\n",
              "      <td>新記録でロンドンに乗り込む“バタフライの女王”加藤ゆか3日に行われた競泳の日本選手権で、女子...</td>\n",
              "      <td>sports-watch</td>\n",
              "    </tr>\n",
              "    <tr>\n",
              "      <th>1</th>\n",
              "      <td>家電チャンネルの記事も配信！向かうところ敵なしのスマホアプリ「ITニュース by lived...</td>\n",
              "      <td>kaden-channel</td>\n",
              "    </tr>\n",
              "    <tr>\n",
              "      <th>2</th>\n",
              "      <td>彼にあげたい韓国メンズコスメ、韓流俳優のような美肌男へ！年末の大イベント、クリスマスまであと...</td>\n",
              "      <td>peachy</td>\n",
              "    </tr>\n",
              "    <tr>\n",
              "      <th>3</th>\n",
              "      <td>快適なスマホライフのための必須アプリ「マトリックス レボリューションズ」(c)Warner ...</td>\n",
              "      <td>livedoor-homme</td>\n",
              "    </tr>\n",
              "    <tr>\n",
              "      <th>4</th>\n",
              "      <td>独女と上司の気になる関係人事異動の多い春は、職場の人間関係の悩みも増える時期。『an・an』...</td>\n",
              "      <td>dokujo-tsushin</td>\n",
              "    </tr>\n",
              "  </tbody>\n",
              "</table>\n",
              "</div>"
            ],
            "text/plain": [
              "                                                text           label\n",
              "0  新記録でロンドンに乗り込む“バタフライの女王”加藤ゆか3日に行われた競泳の日本選手権で、女子...    sports-watch\n",
              "1  家電チャンネルの記事も配信！向かうところ敵なしのスマホアプリ「ITニュース by lived...   kaden-channel\n",
              "2  彼にあげたい韓国メンズコスメ、韓流俳優のような美肌男へ！年末の大イベント、クリスマスまであと...          peachy\n",
              "3  快適なスマホライフのための必須アプリ「マトリックス レボリューションズ」(c)Warner ...  livedoor-homme\n",
              "4  独女と上司の気になる関係人事異動の多い春は、職場の人間関係の悩みも増える時期。『an・an』...  dokujo-tsushin"
            ]
          },
          "metadata": {
            "tags": []
          },
          "execution_count": 11
        }
      ]
    },
    {
      "cell_type": "markdown",
      "metadata": {
        "colab_type": "text",
        "id": "Xdt92AsGYMqV"
      },
      "source": [
        "#### ファイルに保存 (機械学習モデル用)"
      ]
    },
    {
      "cell_type": "code",
      "metadata": {
        "id": "DyzhSfaSKvEM",
        "colab_type": "code",
        "colab": {}
      },
      "source": [
        "extract_dir = os.path.join(TMP_DIR, 'extracts')\n",
        "SentencePiece_train_dir = os.path.join(SP_MODEL_DIR, 'tmp')\n",
        "if not os.path.exists(os.path.join(SP_MODEL_DIR, 'tmp')):\n",
        "    ! mkdir  \"$extract_dir\"\n",
        "    ! mkdir  \"$SentencePiece_train_dir\"\n",
        "\n",
        "dpaths = {\n",
        "    'test' : os.path.join(extract_dir, \"test.tsv\"),\n",
        "    'val' : os.path.join(extract_dir, \"val.tsv\"),\n",
        "    'train' : os.path.join(extract_dir, \"train.tsv\"),\n",
        "}"
      ],
      "execution_count": 0,
      "outputs": []
    },
    {
      "cell_type": "code",
      "metadata": {
        "colab_type": "code",
        "id": "2ruzfKDRmWZ7",
        "colab": {
          "base_uri": "https://localhost:8080/",
          "height": 139
        },
        "outputId": "4ee5421f-615d-4cc8-adce-3b9a675258c4"
      },
      "source": [
        "# Sentence Piece 用の raw text データを作成\n",
        "df.to_csv( os.path.join(SentencePiece_train_dir, \"train.txt\"), sep=' ', index=False, header=False, columns=['text'] )\n",
        "! head -3  \"$SentencePiece_train_dir\"/train.txt\n",
        "\n",
        "# 言語モデル用の train, test, dev データファイルを作成\n",
        "df[:len(df) // 5].to_csv( dpaths['test'], sep='\\t', index=False )\n",
        "df[len(df) // 5:len(df)*2 // 5].to_csv( dpaths['val'], sep='\\t', index=False )\n",
        "df[len(df)*2 // 5:].to_csv( dpaths['train'], sep='\\t', index=False )\n",
        "P = dpaths['test']\n",
        "! head -3  \"$P\""
      ],
      "execution_count": 24,
      "outputs": [
        {
          "output_type": "stream",
          "text": [
            "text\tlabel\n",
            "新記録でロンドンに乗り込む“バタフライの女王”加藤ゆか3日に行われた競泳の日本選手権で、女子100メートルバタフライの加藤ゆか（25歳）が2大会連続の五輪出場を決めた。57秒77と、自身が持つ日本新記録を更新しての五輪切符ゲットだ。前回大会の北京五輪選考ではガチガチに緊張していたという加藤は、幾多の経験を得て、強い精神力を培った。記録更新での五輪出場権獲得に、爽やかな笑顔で喜びを爆発させた。百花繚乱の日本女子競泳界の中でも、加藤は美女スイマーの筆頭に数えられる。目鼻立ちの整った顔に、白く透き通るような肌、そして鍛えあげられたアスリートの肉体に、ネット上での人気も上々だ。前回の北京五輪では予選敗退で悔し涙を呑んだ加藤。4年間の濃密な時間を経て、速く、より美しくなった「バタフライの女王」が、ロンドンのプールを沸かす。・加藤ゆか フォト\tsports-watch\n",
            "家電チャンネルの記事も配信！向かうところ敵なしのスマホアプリ「ITニュース by livedoor ニュース」 【話題】NHN Japanは、同社が提供する「livedoorニュース」で配信している記事の中から、IT記事に特化したニュースをまとめて閲覧することができるスマートフォンアプリ「ITニュース by livedoor ニュース」（iOS・Android対応／無料）を公開している。好きなジャンルの情報を逃さない向かうところ敵なしのITニュースリーダーだ。というのも、このアプリではlivedoorニュースの編集部が厳選したIT記事が提供されるが、編集部の手作業によって「ITビジネス」「WEBサービス」「マーケティング」「モバイル」「デジタル家電」などの12のカテゴリに振り分けられるので、数ある情報の中から興味を持った分野のニュースのみをすばやくチェックできる。ITトレンドを見落としたくない人は今すぐダウンロードしよう。■快適操作で情報共有が簡単、雑誌感覚でスラスラ読める面白かったニュースはTwitterやFacebookなどソーシャル系ツールでの情報共有も可能。操作方法はアイコンをタッチするだけで行えるので簡単だ。また、記事ページを左右にフリックして次の記事を読むことができるので、雑誌感覚でスラスラ読める。記事ページ上のフォントサイズ用ボタンをタッチすることで文字サイズ変更も可能だ。■ランキング表示でトレンドが一目瞭然ITニュースの中でも人気記事をピックアップして紹介しているランキングページをチェックすれば、忙しい毎日でもトレンドが一目瞭然。閲覧履歴やブックマークの機能が充実しているので、気になった記事をいつでも読み返すことができて便利だ。ITニュース by livedoor ニュース - iTunes App StoreITニュース by livedoor ニュース - Google Play（牧田　亜紀子）\tkaden-channel\n",
            "\"新記録でロンドンに乗り込む“バタフライの女王”加藤ゆか3日に行われた競泳の日本選手権で、女子100メートルバタフライの加藤ゆか（25歳）が2大会連続の五輪出場を決めた。57秒77と、自身が持つ日本新記録を更新しての五輪切符ゲットだ。前回大会の北京五輪選考ではガチガチに緊張していたという加藤は、幾多の経験を得て、強い精神力を培った。記録更新での五輪出場権獲得に、爽やかな笑顔で喜びを爆発させた。百花繚乱の日本女子競泳界の中でも、加藤は美女スイマーの筆頭に数えられる。目鼻立ちの整った顔に、白く透き通るような肌、そして鍛えあげられたアスリートの肉体に、ネット上での人気も上々だ。前回の北京五輪では予選敗退で悔し涙を呑んだ加藤。4年間の濃密な時間を経て、速く、より美しくなった「バタフライの女王」が、ロンドンのプールを沸かす。・加藤ゆか フォト\"\n",
            "\"家電チャンネルの記事も配信！向かうところ敵なしのスマホアプリ「ITニュース by livedoor ニュース」 【話題】NHN Japanは、同社が提供する「livedoorニュース」で配信している記事の中から、IT記事に特化したニュースをまとめて閲覧することができるスマートフォンアプリ「ITニュース by livedoor ニュース」（iOS・Android対応／無料）を公開している。好きなジャンルの情報を逃さない向かうところ敵なしのITニュースリーダーだ。というのも、このアプリではlivedoorニュースの編集部が厳選したIT記事が提供されるが、編集部の手作業によって「ITビジネス」「WEBサービス」「マーケティング」「モバイル」「デジタル家電」などの12のカテゴリに振り分けられるので、数ある情報の中から興味を持った分野のニュースのみをすばやくチェックできる。ITトレンドを見落としたくない人は今すぐダウンロードしよう。■快適操作で情報共有が簡単、雑誌感覚でスラスラ読める面白かったニュースはTwitterやFacebookなどソーシャル系ツールでの情報共有も可能。操作方法はアイコンをタッチするだけで行えるので簡単だ。また、記事ページを左右にフリックして次の記事を読むことができるので、雑誌感覚でスラスラ読める。記事ページ上のフォントサイズ用ボタンをタッチすることで文字サイズ変更も可能だ。■ランキング表示でトレンドが一目瞭然ITニュースの中でも人気記事をピックアップして紹介しているランキングページをチェックすれば、忙しい毎日でもトレンドが一目瞭然。閲覧履歴やブックマークの機能が充実しているので、気になった記事をいつでも読み返すことができて便利だ。ITニュース by livedoor ニュース - iTunes App StoreITニュース by livedoor ニュース - Google Play（牧田　亜紀子）\"\n",
            "\"彼にあげたい韓国メンズコスメ、韓流俳優のような美肌男へ！年末の大イベント、クリスマスまであと1カ月。恋人へのプレゼント選びは毎回迷ってしまうものですが、今年もすでに何にしようか悩み始めている人も多いのではないでしょうか。そんな時は、韓国のメンズコスメをチェックしてみては？韓国のコスメブランドは、どこもメンズラインも豊富に展開し、面倒くさがりな男性向けに多機能なものや、しわ改善やハリを与えるものまで幅広くそろっています。最近人気の韓流スターやK-POPアイドルは、みんな肌がつやつや。韓流スターのような美肌男になれるかもしれない、韓国のメンズコスメを3点ご紹介します！■イニスフリー（Innisfree）：ワンステップモイスチャー フォーマン115ml/1個 1,350円自然派化粧品のイニスフリーは、メンズコスメのラインも豊富。韓国の公式サイトには、男性商品用の専門コーナーもあり、ローションからパックまで女性顔負けの商品がラインナップしています。その中でも人気なのが、ワンステップモイスチャー フォーマン。スキンとローションがひとつになったもので、ひげ剃りによる刺激や、飲酒、喫煙などで肌が荒れやすくなった男性の肌に、ワンステップで水分を補給し保湿します。ハーブの成分が肌の血液循環を促し、男性の厚い肌にも奥まで水分を届け、滑らかな肌に仕上げます。■ザフェイスショップ（THE FACE SHOP）：ハーブ＆リリーフ フラッシュオム シーバムフリートナー（化粧水）140ml/1個 1,750円男性の肌は、女性よりも皮脂の分泌量が多く、肌が油っぽくなるのが特徴。ハーブ＆リリーフ フラッシュオム シーバムフリートナーは、そんな肌を効果的にコントロールしてくれるオイルフリーの化粧水です。ハーブが肌に爽快感を与え、初めはフレッシュなシトラス系の香り、そして、さわやかで魅力的なムスクの香りが持続します。■スキンフード（SKINFOOD）：ミルク・グリーンティーマスクシート フォーメン5枚入り 1,000円男性の肌も、時にはスペシャルケアを取り入れてみては？　ミルク・グリーンティーマスクシート フォーメンは、優れた抗酸化効果を発揮する緑茶抽出物と、高い保湿効果があるミルク成分を含んだ軽いタイプのフェイスマスク。肌の老化を防止し、水分バランスを整えてくれるほか、ヒアルロン酸が豊富に含まれているので肌にハリを与えてくれます。同マスクシリーズからは、男性用の「ブランデーマイルドエッセンス」もあるので、その日の気分で変えてみるのもいいかもしれません。）（文：林由美）■その他の韓国コスメも要チェック！・ダイヤモンドを使った「宝石化粧品」が登場、韓国コスメの新たなブームに！（2010年11月19日）・韓国コスメの本領発揮！？ピンク色で上品な華やかさをプラス（2010年11月09日）・韓国女子の美容ケアはデリケート部分から、専用クレンジングも豊富（2010年11月01日）・思わずパッケージ買いしたくなる！　韓国の可愛いリップクリーム（2010年10月22日）・フルーツの香りにお肌もうっとり、韓国のフルーツ系クレンジング（2010年10月04日）\"\n"
          ],
          "name": "stdout"
        }
      ]
    },
    {
      "cell_type": "markdown",
      "metadata": {
        "id": "WGkG5gbTCNss",
        "colab_type": "text"
      },
      "source": [
        "### Layer1 : 分かち書き（Tokenize）\n",
        "- 今回は **Sentence Piece** を使ってみる。  \n",
        "  https://www.madopro.net/entry/sentencepiece_rnn_lm"
      ]
    },
    {
      "cell_type": "code",
      "metadata": {
        "id": "6G5tiI7wDmm0",
        "colab_type": "code",
        "colab": {
          "base_uri": "https://localhost:8080/",
          "height": 34
        },
        "outputId": "765d393b-94dd-439f-bb53-09bfc41572f9"
      },
      "source": [
        "! pip install sentencepiece"
      ],
      "execution_count": 13,
      "outputs": [
        {
          "output_type": "stream",
          "text": [
            "Requirement already satisfied: sentencepiece in /usr/local/lib/python3.6/dist-packages (0.1.83)\n"
          ],
          "name": "stdout"
        }
      ]
    },
    {
      "cell_type": "code",
      "metadata": {
        "id": "Uh8S4bHDsF7w",
        "colab_type": "code",
        "colab": {
          "base_uri": "https://localhost:8080/",
          "height": 68
        },
        "outputId": "25c9a7c6-44f9-4ac4-c9a1-768b96bedcd6"
      },
      "source": [
        "%cd  \"$SP_MODEL_DIR\"\n",
        "!echo '[Info] Sentence Piece の学習を開始します。'\n",
        "if not os.path.exists('model'):\n",
        "    ! mkdir  'model'\n",
        "\n",
        "# SentencePiece を学習する：モデルを作る。\n",
        "import sentencepiece as spm\n",
        "# 5分くらいかかる。（コメントアウト外す）\n",
        "spm.SentencePieceTrainer.Train('--input=tmp/train.txt --model_prefix=model/m --vocab_size=8000')"
      ],
      "execution_count": 25,
      "outputs": [
        {
          "output_type": "stream",
          "text": [
            "/content/gdrive/My Drive/Colab Notebooks/learning/old_nlp_techs/DataMining_Report3_Lv4_NLP_Models/models/Tokenizer/SentencePiece\n",
            "[Info] Sentence Piece の学習を開始します。\n"
          ],
          "name": "stdout"
        },
        {
          "output_type": "execute_result",
          "data": {
            "text/plain": [
              "True"
            ]
          },
          "metadata": {
            "tags": []
          },
          "execution_count": 25
        }
      ]
    },
    {
      "cell_type": "code",
      "metadata": {
        "id": "znZdt0QFsF7z",
        "colab_type": "code",
        "colab": {
          "base_uri": "https://localhost:8080/",
          "height": 71
        },
        "outputId": "41935467-d444-4fc7-e805-2e5e6619cdf5"
      },
      "source": [
        "# 学習したSentencePieceモデルを読み込む\n",
        "sp = spm.SentencePieceProcessor()\n",
        "sp.Load('model/m.model')\n",
        "print( sp.EncodeAsPieces('吾輩は猫である') )\n",
        "print( sp.EncodeAsPieces(df.at[1, 'text']) )"
      ],
      "execution_count": 32,
      "outputs": [
        {
          "output_type": "stream",
          "text": [
            "['▁', '吾', '輩', 'は', '猫', 'である']\n",
            "['▁', '家電', 'チャンネル', 'の', '記事', 'も', '配信', '!', '向', 'か', 'う', 'ところ', '敵', 'なし', 'の', 'スマホ', 'アプリ', '「', 'IT', 'ニュース', '▁by', '▁livedoor', '▁', 'ニュース', '」', '▁【', '話題', '】', 'N', 'H', 'N', '▁Japan', 'は', '、', '同社', 'が', '提供', 'する', '「', 'livedoor', 'ニュース', '」', 'で', '配信', 'している', '記事', 'の中から', '、', 'IT', '記事', 'に', '特', '化', 'した', 'ニュース', 'を', 'まとめて', '閲覧', 'することができる', 'スマートフォン', 'アプリ', '「', 'IT', 'ニュース', '▁by', '▁livedoor', '▁', 'ニュース', '」(', 'iOS', '・', 'Android', '対応', '/', '無料', ')', 'を', '公開', 'している', '。', '好きな', 'ジャンル', 'の', '情報を', '逃', 'さない', '向', 'か', 'う', 'ところ', '敵', 'なし', 'の', 'IT', 'ニュース', 'リーダー', 'だ', '。', 'という', 'の', 'も', '、', 'このアプリ', 'では', 'livedoor', 'ニュース', 'の', '編集部', 'が', '厳', '選', 'した', 'IT', '記事', 'が', '提供', 'される', 'が', '、', '編集部', 'の', '手', '作業', 'によって', '「', 'IT', 'ビジネス', '」「', 'WEB', 'サービス', '」「', 'マーケティング', '」「', 'モバイル', '」「', 'デジタル', '家電', '」', 'などの', '12', 'の', 'カテゴリ', 'に', '振り', '分け', 'られる', 'の', 'で', '、', '数', 'ある', '情報', 'の中から', '興味', 'を持った', '分', '野', 'の', 'ニュース', 'のみ', 'を', 'す', 'ば', 'や', 'く', 'チェック', 'できる', '。', 'IT', 'トレンド', 'を見', '落とし', 'たくない', '人は', '今', 'すぐ', 'ダウンロード', 'しよう', '。■', '快適', '操作', 'で', '情報', '共有', 'が', '簡単', '、', '雑誌', '感覚', 'で', 'ス', 'ラ', 'ス', 'ラ', '読', 'める', '面', '白', 'かった', 'ニュース', 'は', 'Twitter', 'や', 'Facebook', 'など', 'ソーシャル', '系', 'ツール', 'で', 'の', '情報', '共有', 'も', '可能', '。', '操作', '方法', 'は', 'アイコン', 'を', 'タッチ', 'する', 'だけで', '行える', 'の', 'で', '簡単', 'だ', '。', 'また', '、', '記事', 'ページ', 'を', '左右', 'に', 'フ', 'リ', 'ック', 'して', '次の', '記事を', '読む', 'ことができるので', '、', '雑誌', '感覚', 'で', 'ス', 'ラ', 'ス', 'ラ', '読', 'める', '。', '記事', 'ページ', '上の', 'フォン', 'ト', 'サイズ', '用', 'ボタン', 'を', 'タッチ', 'することで', '文字', 'サイズ', '変更', 'も', '可能', 'だ', '。■', 'ランキング', '表示', 'で', 'トレンド', 'が', '一', '目', '瞭', '然', 'IT', 'ニュース', 'の', '中でも', '人気', '記事を', 'ピ', 'ック', 'アップ', 'して', '紹介', 'している', 'ランキング', 'ページ', 'をチェック', 'すれば', '、', '忙', 'しい', '毎日', 'でも', 'トレンド', 'が', '一', '目', '瞭', '然', '。', '閲覧', '履歴', 'や', 'ブックマーク', 'の', '機能', 'が', '充実', 'しているので', '、', '気', 'になった', '記事を', 'いつでも', '読み', '返', 'す', 'ことができ', 'て', '便利', 'だ', '。', 'IT', 'ニュース', '▁by', '▁livedoor', '▁', 'ニュース', '▁-', '▁', 'iTunes', '▁', 'App', '▁Store', 'IT', 'ニュース', '▁by', '▁livedoor', '▁', 'ニュース', '▁-', '▁', 'Google', '▁Play', '(', '牧田', '▁', '亜', '紀子', ')']\n"
          ],
          "name": "stdout"
        }
      ]
    },
    {
      "cell_type": "markdown",
      "metadata": {
        "id": "9zE6Yq73O-1M",
        "colab_type": "text"
      },
      "source": [
        "### Layer2 : Embedding\n",
        "- 今回は、BoW+TF-IDF、共起行列、XLNet の予定。"
      ]
    },
    {
      "cell_type": "markdown",
      "metadata": {
        "colab_type": "text",
        "id": "hySomdSURqrp"
      },
      "source": [
        "### Layer3 : 分類モデル\n",
        "- 今回は、SVM で行う。"
      ]
    },
    {
      "cell_type": "code",
      "metadata": {
        "id": "ZJk65f1usF73",
        "colab_type": "code",
        "colab": {
          "base_uri": "https://localhost:8080/",
          "height": 34
        },
        "outputId": "d0d3e8a0-7935-46c1-a028-1b72b2849108"
      },
      "source": [
        "import torch\n",
        "import torch.nn as nn\n",
        "from torch.autograd import Variable\n",
        "\n",
        "import numpy as np\n",
        "import pandas as pd\n",
        "import glob\n",
        "import os\n",
        "import time\n",
        "import math\n",
        "\n",
        "use_gpu = torch.cuda.is_available()\n",
        "print('use_gpu : ', use_gpu)"
      ],
      "execution_count": 19,
      "outputs": [
        {
          "output_type": "stream",
          "text": [
            "use_gpu :  True\n"
          ],
          "name": "stdout"
        }
      ]
    },
    {
      "cell_type": "code",
      "metadata": {
        "id": "8s93K3D5sF75",
        "colab_type": "code",
        "colab": {}
      },
      "source": [
        "# wakati_corpus.txtから一部データを読み込む\n",
        "class Corpus(object):\n",
        "    def __init__(self, sp_loaded, dpaths):\n",
        "        self.sp = sp_loaded\n",
        "\n",
        "        self.train = self.load_from_file(dpaths['train'])\n",
        "        self.valid = self.load_from_file(dpaths['val'])\n",
        "        self.test = self.load_from_file(dpaths['test'])\n",
        "\n",
        "        self.train = self.assign_ids(self.train)\n",
        "        self.valid = self.assign_ids(self.valid)\n",
        "        self.test = self.assign_ids(self.test)\n",
        "    \n",
        "    def load_from_file(self, filename):\n",
        "        with open(filename, 'r', encoding='utf-8') as f:\n",
        "            return f.read().split('\\n')\n",
        "    \n",
        "    def assign_ids(self, texts):\n",
        "        tokens = []\n",
        "        for text in texts:\n",
        "            tokens.extend(self.sp.EncodeAsIds(text))\n",
        "        \n",
        "        ids = torch.from_numpy(np.array(tokens, dtype=np.int64))\n",
        "        return ids"
      ],
      "execution_count": 0,
      "outputs": []
    },
    {
      "cell_type": "code",
      "metadata": {
        "id": "MQud0SV9S10U",
        "colab_type": "code",
        "colab": {}
      },
      "source": [
        "# コーパスを実際に読み込む\n",
        "corpus = Corpus()"
      ],
      "execution_count": 0,
      "outputs": []
    }
  ]
}